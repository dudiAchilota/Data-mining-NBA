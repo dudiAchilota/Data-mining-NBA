{
 "cells": [
  {
   "cell_type": "markdown",
   "metadata": {},
   "source": [
    "# בס\"ד\n",
    "# Project- Data Mining | Dudi Achilota"
   ]
  },
  {
   "cell_type": "code",
   "execution_count": 1,
   "metadata": {},
   "outputs": [
    {
     "name": "stderr",
     "output_type": "stream",
     "text": [
      "C:\\Users\\dudi9\\Anaconda3\\lib\\site-packages\\statsmodels\\tools\\_testing.py:19: FutureWarning: pandas.util.testing is deprecated. Use the functions in the public API at pandas.testing instead.\n",
      "  import pandas.util.testing as tm\n"
     ]
    }
   ],
   "source": [
    "import pandas as pd\n",
    "from pandas.plotting import scatter_matrix\n",
    "import numpy as np\n",
    "import seaborn as sns\n",
    "import statsmodels.formula.api as sm\n",
    "#from keras.models import Sequential\n",
    "#from keras.optimizers import Adam\n",
    "\n",
    "#from yellowbrick.features import ParallelCoordinates\n",
    "from scipy import stats\n",
    "import scipy as sc\n",
    "from sklearn import metrics\n",
    "from sklearn.metrics import r2_score\n",
    "from sklearn.metrics import confusion_matrix\n",
    "from sklearn.metrics import accuracy_score\n",
    "from sklearn.metrics import classification_report\n",
    "from sklearn.model_selection import train_test_split"
   ]
  },
  {
   "cell_type": "code",
   "execution_count": 2,
   "metadata": {},
   "outputs": [],
   "source": [
    "import matplotlib.pyplot as plt\n",
    "%matplotlib inline\n",
    "plt.rcParams['figure.figsize'] = (10, 6)\n",
    "plt.style.use('ggplot')"
   ]
  },
  {
   "cell_type": "code",
   "execution_count": 3,
   "metadata": {},
   "outputs": [],
   "source": [
    "# from keras.models import Sequential\n",
    "# from keras.layers import Dense, Activation\n",
    "# from keras.callbacks import EarlyStopping"
   ]
  },
  {
   "cell_type": "code",
   "execution_count": 4,
   "metadata": {
    "scrolled": false
   },
   "outputs": [],
   "source": [
    "# from IPython.display import Image\n",
    "# Image(url= 'https://cdn.nba.net/nba-drupal-prod/2017-18/SEO-image-NBA-logoman.jpg')"
   ]
  },
  {
   "cell_type": "markdown",
   "metadata": {},
   "source": [
    "# read excel"
   ]
  },
  {
   "cell_type": "code",
   "execution_count": 5,
   "metadata": {},
   "outputs": [
    {
     "data": {
      "text/html": [
       "<div>\n",
       "<style scoped>\n",
       "    .dataframe tbody tr th:only-of-type {\n",
       "        vertical-align: middle;\n",
       "    }\n",
       "\n",
       "    .dataframe tbody tr th {\n",
       "        vertical-align: top;\n",
       "    }\n",
       "\n",
       "    .dataframe thead th {\n",
       "        text-align: right;\n",
       "    }\n",
       "</style>\n",
       "<table border=\"1\" class=\"dataframe\">\n",
       "  <thead>\n",
       "    <tr style=\"text-align: right;\">\n",
       "      <th></th>\n",
       "      <th>Player</th>\n",
       "      <th>Pos</th>\n",
       "      <th>Age</th>\n",
       "      <th>Tm</th>\n",
       "      <th>G</th>\n",
       "      <th>GS</th>\n",
       "      <th>MP</th>\n",
       "      <th>FG</th>\n",
       "      <th>FGA</th>\n",
       "      <th>FG%</th>\n",
       "      <th>...</th>\n",
       "      <th>FT%</th>\n",
       "      <th>ORB</th>\n",
       "      <th>DRB</th>\n",
       "      <th>TRB</th>\n",
       "      <th>AST</th>\n",
       "      <th>STL</th>\n",
       "      <th>BLK</th>\n",
       "      <th>TOV</th>\n",
       "      <th>PF</th>\n",
       "      <th>PTS</th>\n",
       "    </tr>\n",
       "  </thead>\n",
       "  <tbody>\n",
       "    <tr>\n",
       "      <th>224</th>\n",
       "      <td>Haywood Highsmith</td>\n",
       "      <td>SF</td>\n",
       "      <td>22</td>\n",
       "      <td>PHI</td>\n",
       "      <td>5</td>\n",
       "      <td>0</td>\n",
       "      <td>40</td>\n",
       "      <td>4</td>\n",
       "      <td>10</td>\n",
       "      <td>0.400</td>\n",
       "      <td>...</td>\n",
       "      <td>0.00</td>\n",
       "      <td>0</td>\n",
       "      <td>5</td>\n",
       "      <td>5</td>\n",
       "      <td>2</td>\n",
       "      <td>1</td>\n",
       "      <td>0</td>\n",
       "      <td>1</td>\n",
       "      <td>1</td>\n",
       "      <td>9</td>\n",
       "    </tr>\n",
       "    <tr>\n",
       "      <th>388</th>\n",
       "      <td>Victor Oladipo</td>\n",
       "      <td>SG</td>\n",
       "      <td>26</td>\n",
       "      <td>IND</td>\n",
       "      <td>36</td>\n",
       "      <td>36</td>\n",
       "      <td>1147</td>\n",
       "      <td>249</td>\n",
       "      <td>588</td>\n",
       "      <td>0.423</td>\n",
       "      <td>...</td>\n",
       "      <td>0.73</td>\n",
       "      <td>21</td>\n",
       "      <td>181</td>\n",
       "      <td>202</td>\n",
       "      <td>186</td>\n",
       "      <td>60</td>\n",
       "      <td>11</td>\n",
       "      <td>82</td>\n",
       "      <td>72</td>\n",
       "      <td>675</td>\n",
       "    </tr>\n",
       "    <tr>\n",
       "      <th>420</th>\n",
       "      <td>Malachi Richardson</td>\n",
       "      <td>SG</td>\n",
       "      <td>23</td>\n",
       "      <td>TOR</td>\n",
       "      <td>22</td>\n",
       "      <td>0</td>\n",
       "      <td>103</td>\n",
       "      <td>9</td>\n",
       "      <td>29</td>\n",
       "      <td>0.310</td>\n",
       "      <td>...</td>\n",
       "      <td>0.80</td>\n",
       "      <td>2</td>\n",
       "      <td>11</td>\n",
       "      <td>13</td>\n",
       "      <td>0</td>\n",
       "      <td>1</td>\n",
       "      <td>0</td>\n",
       "      <td>8</td>\n",
       "      <td>13</td>\n",
       "      <td>30</td>\n",
       "    </tr>\n",
       "  </tbody>\n",
       "</table>\n",
       "<p>3 rows × 29 columns</p>\n",
       "</div>"
      ],
      "text/plain": [
       "                 Player Pos  Age   Tm   G  GS    MP   FG  FGA    FG%  ...  \\\n",
       "224   Haywood Highsmith  SF   22  PHI   5   0    40    4   10  0.400  ...   \n",
       "388      Victor Oladipo  SG   26  IND  36  36  1147  249  588  0.423  ...   \n",
       "420  Malachi Richardson  SG   23  TOR  22   0   103    9   29  0.310  ...   \n",
       "\n",
       "      FT%  ORB  DRB  TRB  AST  STL  BLK  TOV  PF  PTS  \n",
       "224  0.00    0    5    5    2    1    0    1   1    9  \n",
       "388  0.73   21  181  202  186   60   11   82  72  675  \n",
       "420  0.80    2   11   13    0    1    0    8  13   30  \n",
       "\n",
       "[3 rows x 29 columns]"
      ]
     },
     "execution_count": 5,
     "metadata": {},
     "output_type": "execute_result"
    }
   ],
   "source": [
    "#  שחקנים \n",
    "df = pd.read_excel('Players.xlsx')\n",
    "df.sample(3)"
   ]
  },
  {
   "cell_type": "code",
   "execution_count": 6,
   "metadata": {},
   "outputs": [
    {
     "data": {
      "text/html": [
       "<div>\n",
       "<style scoped>\n",
       "    .dataframe tbody tr th:only-of-type {\n",
       "        vertical-align: middle;\n",
       "    }\n",
       "\n",
       "    .dataframe tbody tr th {\n",
       "        vertical-align: top;\n",
       "    }\n",
       "\n",
       "    .dataframe thead th {\n",
       "        text-align: right;\n",
       "    }\n",
       "</style>\n",
       "<table border=\"1\" class=\"dataframe\">\n",
       "  <thead>\n",
       "    <tr style=\"text-align: right;\">\n",
       "      <th></th>\n",
       "      <th>Player</th>\n",
       "      <th>Tm</th>\n",
       "      <th>2018-19</th>\n",
       "      <th>2019-20</th>\n",
       "      <th>2020-21</th>\n",
       "      <th>2021-22</th>\n",
       "      <th>2022-23</th>\n",
       "      <th>2023-24</th>\n",
       "      <th>Signed Using</th>\n",
       "      <th>Guaranteed</th>\n",
       "    </tr>\n",
       "  </thead>\n",
       "  <tbody>\n",
       "    <tr>\n",
       "      <th>80</th>\n",
       "      <td>Tobias Harris</td>\n",
       "      <td>PHI</td>\n",
       "      <td>$14,800,000</td>\n",
       "      <td>NaN</td>\n",
       "      <td>NaN</td>\n",
       "      <td>NaN</td>\n",
       "      <td>NaN</td>\n",
       "      <td>NaN</td>\n",
       "      <td>Bird Rights</td>\n",
       "      <td>$14,800,000</td>\n",
       "    </tr>\n",
       "    <tr>\n",
       "      <th>470</th>\n",
       "      <td>Alize Johnson</td>\n",
       "      <td>IND</td>\n",
       "      <td>$838,464</td>\n",
       "      <td>$1,416,852</td>\n",
       "      <td>NaN</td>\n",
       "      <td>NaN</td>\n",
       "      <td>NaN</td>\n",
       "      <td>NaN</td>\n",
       "      <td>Minimum Salary</td>\n",
       "      <td>$1,600,000</td>\n",
       "    </tr>\n",
       "    <tr>\n",
       "      <th>200</th>\n",
       "      <td>Patrick Patterson</td>\n",
       "      <td>OKC</td>\n",
       "      <td>$5,451,600</td>\n",
       "      <td>$5,711,200</td>\n",
       "      <td>NaN</td>\n",
       "      <td>NaN</td>\n",
       "      <td>NaN</td>\n",
       "      <td>NaN</td>\n",
       "      <td>MLE</td>\n",
       "      <td>$11,162,800</td>\n",
       "    </tr>\n",
       "  </tbody>\n",
       "</table>\n",
       "</div>"
      ],
      "text/plain": [
       "                Player   Tm      2018-19     2019-20 2020-21 2021-22 2022-23  \\\n",
       "80       Tobias Harris  PHI  $14,800,000         NaN     NaN     NaN     NaN   \n",
       "470      Alize Johnson  IND     $838,464  $1,416,852     NaN     NaN     NaN   \n",
       "200  Patrick Patterson  OKC   $5,451,600  $5,711,200     NaN     NaN     NaN   \n",
       "\n",
       "    2023-24    Signed Using   Guaranteed  \n",
       "80      NaN     Bird Rights  $14,800,000  \n",
       "470     NaN  Minimum Salary   $1,600,000  \n",
       "200     NaN             MLE  $11,162,800  "
      ]
     },
     "execution_count": 6,
     "metadata": {},
     "output_type": "execute_result"
    }
   ],
   "source": [
    "#שכר\n",
    "Salary = pd.read_excel('Salary.xlsx')\n",
    "Salary.sample(3)"
   ]
  },
  {
   "cell_type": "code",
   "execution_count": 7,
   "metadata": {},
   "outputs": [
    {
     "data": {
      "text/html": [
       "<div>\n",
       "<style scoped>\n",
       "    .dataframe tbody tr th:only-of-type {\n",
       "        vertical-align: middle;\n",
       "    }\n",
       "\n",
       "    .dataframe tbody tr th {\n",
       "        vertical-align: top;\n",
       "    }\n",
       "\n",
       "    .dataframe thead th {\n",
       "        text-align: right;\n",
       "    }\n",
       "</style>\n",
       "<table border=\"1\" class=\"dataframe\">\n",
       "  <thead>\n",
       "    <tr style=\"text-align: right;\">\n",
       "      <th></th>\n",
       "      <th>TEAM</th>\n",
       "      <th>Tm</th>\n",
       "      <th>GP</th>\n",
       "      <th>W</th>\n",
       "      <th>L</th>\n",
       "      <th>WIN%</th>\n",
       "      <th>MIN</th>\n",
       "      <th>PTS</th>\n",
       "      <th>FGM</th>\n",
       "      <th>FGA</th>\n",
       "      <th>...</th>\n",
       "      <th>DREB</th>\n",
       "      <th>REB</th>\n",
       "      <th>AST</th>\n",
       "      <th>TOV</th>\n",
       "      <th>STL</th>\n",
       "      <th>BLK</th>\n",
       "      <th>BLKA</th>\n",
       "      <th>PF</th>\n",
       "      <th>PFD</th>\n",
       "      <th>+/</th>\n",
       "    </tr>\n",
       "  </thead>\n",
       "  <tbody>\n",
       "    <tr>\n",
       "      <th>29</th>\n",
       "      <td>New York Knicks</td>\n",
       "      <td>NYK</td>\n",
       "      <td>82</td>\n",
       "      <td>17</td>\n",
       "      <td>65</td>\n",
       "      <td>0.207</td>\n",
       "      <td>48.2</td>\n",
       "      <td>104.6</td>\n",
       "      <td>38.2</td>\n",
       "      <td>88.3</td>\n",
       "      <td>...</td>\n",
       "      <td>34.3</td>\n",
       "      <td>44.7</td>\n",
       "      <td>20.1</td>\n",
       "      <td>14.0</td>\n",
       "      <td>6.8</td>\n",
       "      <td>5.1</td>\n",
       "      <td>5.6</td>\n",
       "      <td>20.9</td>\n",
       "      <td>20.8</td>\n",
       "      <td>-9.2</td>\n",
       "    </tr>\n",
       "    <tr>\n",
       "      <th>3</th>\n",
       "      <td>Denver Nuggets</td>\n",
       "      <td>DEN</td>\n",
       "      <td>82</td>\n",
       "      <td>54</td>\n",
       "      <td>28</td>\n",
       "      <td>0.659</td>\n",
       "      <td>48.1</td>\n",
       "      <td>110.7</td>\n",
       "      <td>41.9</td>\n",
       "      <td>90.0</td>\n",
       "      <td>...</td>\n",
       "      <td>34.5</td>\n",
       "      <td>46.4</td>\n",
       "      <td>27.4</td>\n",
       "      <td>13.4</td>\n",
       "      <td>7.7</td>\n",
       "      <td>4.4</td>\n",
       "      <td>5.0</td>\n",
       "      <td>20.0</td>\n",
       "      <td>20.4</td>\n",
       "      <td>4.0</td>\n",
       "    </tr>\n",
       "  </tbody>\n",
       "</table>\n",
       "<p>2 rows × 28 columns</p>\n",
       "</div>"
      ],
      "text/plain": [
       "               TEAM   Tm  GP   W   L   WIN%   MIN    PTS   FGM   FGA  ...  \\\n",
       "29  New York Knicks  NYK  82  17  65  0.207  48.2  104.6  38.2  88.3  ...   \n",
       "3    Denver Nuggets  DEN  82  54  28  0.659  48.1  110.7  41.9  90.0  ...   \n",
       "\n",
       "    DREB   REB   AST   TOV  STL  BLK  BLKA    PF   PFD   +/  \n",
       "29  34.3  44.7  20.1  14.0  6.8  5.1   5.6  20.9  20.8 -9.2  \n",
       "3   34.5  46.4  27.4  13.4  7.7  4.4   5.0  20.0  20.4  4.0  \n",
       "\n",
       "[2 rows x 28 columns]"
      ]
     },
     "execution_count": 7,
     "metadata": {},
     "output_type": "execute_result"
    }
   ],
   "source": [
    "TEAM = pd.read_excel('TEAM.xlsx')\n",
    "TEAM.sample(2)"
   ]
  },
  {
   "cell_type": "markdown",
   "metadata": {},
   "source": [
    "# סידור הנתונים"
   ]
  },
  {
   "cell_type": "code",
   "execution_count": 8,
   "metadata": {},
   "outputs": [
    {
     "name": "stderr",
     "output_type": "stream",
     "text": [
      "C:\\Users\\dudi9\\Anaconda3\\lib\\site-packages\\ipykernel_launcher.py:2: FutureWarning: The default value of regex will change from True to False in a future version. In addition, single character regular expressions will *not* be treated as literal strings when regex=True.\n",
      "  \n",
      "C:\\Users\\dudi9\\Anaconda3\\lib\\site-packages\\ipykernel_launcher.py:4: FutureWarning: The default value of regex will change from True to False in a future version. In addition, single character regular expressions will *not* be treated as literal strings when regex=True.\n",
      "  after removing the cwd from sys.path.\n"
     ]
    }
   ],
   "source": [
    "Salary['Guaranteed'] = pd.Series(Salary['Guaranteed']).str.replace(',', '')\n",
    "Salary['Guaranteed'] = pd.Series(Salary['Guaranteed']).str.replace('$', '')\n",
    "Salary['2018-19'] = pd.Series(Salary['2018-19']).str.replace(',', '')\n",
    "Salary['2018-19'] = pd.Series(Salary['2018-19']).str.replace('$', '')"
   ]
  },
  {
   "cell_type": "code",
   "execution_count": 9,
   "metadata": {},
   "outputs": [
    {
     "data": {
      "text/html": [
       "<div>\n",
       "<style scoped>\n",
       "    .dataframe tbody tr th:only-of-type {\n",
       "        vertical-align: middle;\n",
       "    }\n",
       "\n",
       "    .dataframe tbody tr th {\n",
       "        vertical-align: top;\n",
       "    }\n",
       "\n",
       "    .dataframe thead th {\n",
       "        text-align: right;\n",
       "    }\n",
       "</style>\n",
       "<table border=\"1\" class=\"dataframe\">\n",
       "  <thead>\n",
       "    <tr style=\"text-align: right;\">\n",
       "      <th></th>\n",
       "      <th>Player</th>\n",
       "      <th>Tm</th>\n",
       "      <th>2018-19</th>\n",
       "      <th>2019-20</th>\n",
       "      <th>2020-21</th>\n",
       "      <th>2021-22</th>\n",
       "      <th>2022-23</th>\n",
       "      <th>2023-24</th>\n",
       "      <th>Signed Using</th>\n",
       "      <th>Guaranteed</th>\n",
       "    </tr>\n",
       "  </thead>\n",
       "  <tbody>\n",
       "    <tr>\n",
       "      <th>0</th>\n",
       "      <td>Stephen Curry</td>\n",
       "      <td>GSW</td>\n",
       "      <td>37457154</td>\n",
       "      <td>$40,231,758</td>\n",
       "      <td>$43,006,362</td>\n",
       "      <td>$45,780,966</td>\n",
       "      <td>0</td>\n",
       "      <td>0</td>\n",
       "      <td>Bird Rights</td>\n",
       "      <td>166476240</td>\n",
       "    </tr>\n",
       "    <tr>\n",
       "      <th>1</th>\n",
       "      <td>Chris Paul</td>\n",
       "      <td>HOU</td>\n",
       "      <td>35654150</td>\n",
       "      <td>$38,506,482</td>\n",
       "      <td>$41,358,814</td>\n",
       "      <td>$44,211,146</td>\n",
       "      <td>0</td>\n",
       "      <td>0</td>\n",
       "      <td>0</td>\n",
       "      <td>159730592</td>\n",
       "    </tr>\n",
       "  </tbody>\n",
       "</table>\n",
       "</div>"
      ],
      "text/plain": [
       "          Player   Tm   2018-19      2019-20      2020-21      2021-22  \\\n",
       "0  Stephen Curry  GSW  37457154  $40,231,758  $43,006,362  $45,780,966   \n",
       "1     Chris Paul  HOU  35654150  $38,506,482  $41,358,814  $44,211,146   \n",
       "\n",
       "  2022-23 2023-24 Signed Using  Guaranteed  \n",
       "0       0       0  Bird Rights   166476240  \n",
       "1       0       0            0   159730592  "
      ]
     },
     "execution_count": 9,
     "metadata": {},
     "output_type": "execute_result"
    }
   ],
   "source": [
    "Salary['Guaranteed'] = (Salary['Guaranteed']).astype('int64')\n",
    "Salary['2018-19'] = (Salary['2018-19']).astype('int64')\n",
    "\n",
    "Salary = Salary.fillna(0)\n",
    "Salary.head(2)"
   ]
  },
  {
   "cell_type": "code",
   "execution_count": 10,
   "metadata": {},
   "outputs": [],
   "source": [
    "Salary['Salary'] = Salary['2018-19']\n",
    "Salary = Salary[['Player','Salary','Guaranteed']]\n",
    "df = df.merge(Salary , how='left', on='Player')"
   ]
  },
  {
   "cell_type": "code",
   "execution_count": 11,
   "metadata": {},
   "outputs": [],
   "source": [
    "df = df[ df.G >= 41]\n",
    "df = df[ df.Salary >= 10000]"
   ]
  },
  {
   "cell_type": "code",
   "execution_count": 12,
   "metadata": {},
   "outputs": [],
   "source": [
    "df.insert(3,'MDD',(df.PTS+ df.TRB+ df.AST+ df.STL+ df.BLK - df.TOV + df.FG - df.FGA)/ df.G)\n",
    "df.insert(4,'MDD_PER_1MP',(df.PTS+ df.TRB+ df.AST+ df.STL+ df.BLK - df.TOV +df.FG - df.FGA)/ df.MP)\n",
    "df.insert(5,'PPT3', df['3P'] * 3 /  df['3PA'] )\n",
    "df.insert(6,'PPT2', df['2P'] * 2 /  df['2PA'] )\n",
    "df.insert(7,'PPT',(df['3P'] * 3 +df['2P'] * 2 )/ ( df['3PA']+ df['2PA'] ))\n",
    "df.insert(8,'PtsToMP',(df.PTS)/ df.MP)"
   ]
  },
  {
   "cell_type": "code",
   "execution_count": 13,
   "metadata": {},
   "outputs": [],
   "source": [
    "df = df.drop(columns=['GS','ORB','DRB'])\n",
    "df['PTS'] = df['PTS'] / df['G'] \n",
    "df['PF']  = df['PF'] / df['G'] \n",
    "\n",
    "df['TOV'] = df['TOV'] / df['G']\n",
    "df['MP']  = df['MP'] /df['G']\n",
    "\n",
    "df['BLK'] = df['BLK'] / df['G']\n",
    "df['STL'] = df['STL'] / df['G'] \n",
    "df['AST'] = df['AST'] / df['G'] \n",
    "df['TRB'] = df['TRB'] / df['G']"
   ]
  },
  {
   "cell_type": "code",
   "execution_count": 14,
   "metadata": {},
   "outputs": [],
   "source": [
    "df['3PA'] = df['3PA'] / df['G']\n",
    "df['2PA'] = df['2PA'] / df['G']\n",
    "df['FGA'] = df['FGA'] / df['G']    \n",
    "df['FTA'] = df['FTA'] / df['G'] \n",
    "\n",
    "df['FT'] = df['FT'] / df['G']    \n",
    "df['3P'] = df['3P'] / df['G']    \n",
    "df['2P'] = df['2P'] / df['G']    \n",
    "df['FG'] = df['FG'] / df['G'] "
   ]
  },
  {
   "cell_type": "code",
   "execution_count": 15,
   "metadata": {},
   "outputs": [],
   "source": [
    "df['ThrowFavorite'] = np.where(df['PPT3'] > df['PPT2'],3 , 2)"
   ]
  },
  {
   "cell_type": "code",
   "execution_count": 16,
   "metadata": {},
   "outputs": [],
   "source": [
    "df['Salary'] = df['Salary'] / 1000000"
   ]
  },
  {
   "cell_type": "code",
   "execution_count": 17,
   "metadata": {},
   "outputs": [],
   "source": [
    "df = df.fillna(0)"
   ]
  },
  {
   "cell_type": "code",
   "execution_count": 18,
   "metadata": {},
   "outputs": [],
   "source": [
    "df[(df['Pos'] == 'C-PF') |(df['Pos'] == 'PF-SF') |(df['Pos'] == 'SF-SG') |(df['Pos'] == 'SG-PF')|(df['Pos'] == 'SG-SF')]\n",
    "df['Pos'] = df['Pos'].replace('SG-PF', 'SF')\n",
    "df['Pos'] = df['Pos'].replace('SG-SF', 'SG')\n",
    "df['Pos'] = df['Pos'].replace('SF-SG', 'SG')\n",
    "df['Pos'] = df['Pos'].replace('PF-SF', 'SF')\n",
    "df['Pos'] = df['Pos'].replace('C-PF', 'PF')"
   ]
  },
  {
   "cell_type": "code",
   "execution_count": 19,
   "metadata": {},
   "outputs": [],
   "source": [
    "# df.info()"
   ]
  },
  {
   "cell_type": "code",
   "execution_count": 20,
   "metadata": {
    "scrolled": true
   },
   "outputs": [
    {
     "data": {
      "text/plain": [
       "0"
      ]
     },
     "execution_count": 20,
     "metadata": {},
     "output_type": "execute_result"
    }
   ],
   "source": [
    "df.isnull().sum().sum()"
   ]
  },
  {
   "cell_type": "markdown",
   "metadata": {},
   "source": [
    "# 1.1   הצגת נתונים"
   ]
  },
  {
   "cell_type": "code",
   "execution_count": 21,
   "metadata": {},
   "outputs": [
    {
     "data": {
      "text/html": [
       "<div>\n",
       "<style scoped>\n",
       "    .dataframe tbody tr th:only-of-type {\n",
       "        vertical-align: middle;\n",
       "    }\n",
       "\n",
       "    .dataframe tbody tr th {\n",
       "        vertical-align: top;\n",
       "    }\n",
       "\n",
       "    .dataframe thead th {\n",
       "        text-align: right;\n",
       "    }\n",
       "</style>\n",
       "<table border=\"1\" class=\"dataframe\">\n",
       "  <thead>\n",
       "    <tr style=\"text-align: right;\">\n",
       "      <th></th>\n",
       "      <th>Age</th>\n",
       "      <th>MDD</th>\n",
       "      <th>MDD_PER_1MP</th>\n",
       "      <th>PPT3</th>\n",
       "      <th>PPT2</th>\n",
       "      <th>PPT</th>\n",
       "      <th>PtsToMP</th>\n",
       "      <th>G</th>\n",
       "      <th>MP</th>\n",
       "      <th>FG</th>\n",
       "      <th>...</th>\n",
       "      <th>TRB</th>\n",
       "      <th>AST</th>\n",
       "      <th>STL</th>\n",
       "      <th>BLK</th>\n",
       "      <th>TOV</th>\n",
       "      <th>PF</th>\n",
       "      <th>PTS</th>\n",
       "      <th>Salary</th>\n",
       "      <th>Guaranteed</th>\n",
       "      <th>ThrowFavorite</th>\n",
       "    </tr>\n",
       "  </thead>\n",
       "  <tbody>\n",
       "    <tr>\n",
       "      <th>count</th>\n",
       "      <td>365.000000</td>\n",
       "      <td>365.000000</td>\n",
       "      <td>365.000000</td>\n",
       "      <td>365.000000</td>\n",
       "      <td>365.000000</td>\n",
       "      <td>365.000000</td>\n",
       "      <td>365.000000</td>\n",
       "      <td>365.000000</td>\n",
       "      <td>365.000000</td>\n",
       "      <td>365.000000</td>\n",
       "      <td>...</td>\n",
       "      <td>365.000000</td>\n",
       "      <td>365.000000</td>\n",
       "      <td>365.000000</td>\n",
       "      <td>365.000000</td>\n",
       "      <td>365.000000</td>\n",
       "      <td>365.000000</td>\n",
       "      <td>365.000000</td>\n",
       "      <td>365.000000</td>\n",
       "      <td>3.650000e+02</td>\n",
       "      <td>365.000000</td>\n",
       "    </tr>\n",
       "    <tr>\n",
       "      <th>mean</th>\n",
       "      <td>26.331507</td>\n",
       "      <td>12.666034</td>\n",
       "      <td>0.530419</td>\n",
       "      <td>0.929514</td>\n",
       "      <td>1.032909</td>\n",
       "      <td>1.049343</td>\n",
       "      <td>0.436602</td>\n",
       "      <td>65.479452</td>\n",
       "      <td>23.218988</td>\n",
       "      <td>3.933358</td>\n",
       "      <td>...</td>\n",
       "      <td>4.365285</td>\n",
       "      <td>2.364768</td>\n",
       "      <td>0.726964</td>\n",
       "      <td>0.472085</td>\n",
       "      <td>1.301159</td>\n",
       "      <td>2.014716</td>\n",
       "      <td>10.634483</td>\n",
       "      <td>8.186154</td>\n",
       "      <td>1.855072e+07</td>\n",
       "      <td>2.515068</td>\n",
       "    </tr>\n",
       "    <tr>\n",
       "      <th>std</th>\n",
       "      <td>4.272609</td>\n",
       "      <td>6.525061</td>\n",
       "      <td>0.156988</td>\n",
       "      <td>0.331687</td>\n",
       "      <td>0.124653</td>\n",
       "      <td>0.098545</td>\n",
       "      <td>0.129497</td>\n",
       "      <td>12.316242</td>\n",
       "      <td>7.255924</td>\n",
       "      <td>2.110981</td>\n",
       "      <td>...</td>\n",
       "      <td>2.500098</td>\n",
       "      <td>1.829802</td>\n",
       "      <td>0.387427</td>\n",
       "      <td>0.423370</td>\n",
       "      <td>0.780660</td>\n",
       "      <td>0.634228</td>\n",
       "      <td>5.888566</td>\n",
       "      <td>8.216853</td>\n",
       "      <td>2.896433e+07</td>\n",
       "      <td>0.500459</td>\n",
       "    </tr>\n",
       "    <tr>\n",
       "      <th>min</th>\n",
       "      <td>19.000000</td>\n",
       "      <td>1.453125</td>\n",
       "      <td>0.240909</td>\n",
       "      <td>0.000000</td>\n",
       "      <td>0.666667</td>\n",
       "      <td>0.755102</td>\n",
       "      <td>0.178797</td>\n",
       "      <td>41.000000</td>\n",
       "      <td>4.890625</td>\n",
       "      <td>0.265625</td>\n",
       "      <td>...</td>\n",
       "      <td>0.687500</td>\n",
       "      <td>0.281250</td>\n",
       "      <td>0.071429</td>\n",
       "      <td>0.012346</td>\n",
       "      <td>0.137255</td>\n",
       "      <td>0.452830</td>\n",
       "      <td>0.968750</td>\n",
       "      <td>0.050000</td>\n",
       "      <td>5.000000e+04</td>\n",
       "      <td>2.000000</td>\n",
       "    </tr>\n",
       "    <tr>\n",
       "      <th>25%</th>\n",
       "      <td>23.000000</td>\n",
       "      <td>8.060000</td>\n",
       "      <td>0.416337</td>\n",
       "      <td>0.900000</td>\n",
       "      <td>0.949367</td>\n",
       "      <td>0.984405</td>\n",
       "      <td>0.345104</td>\n",
       "      <td>56.000000</td>\n",
       "      <td>17.621622</td>\n",
       "      <td>2.404762</td>\n",
       "      <td>...</td>\n",
       "      <td>2.609375</td>\n",
       "      <td>1.117647</td>\n",
       "      <td>0.440000</td>\n",
       "      <td>0.186047</td>\n",
       "      <td>0.750000</td>\n",
       "      <td>1.584416</td>\n",
       "      <td>6.381579</td>\n",
       "      <td>2.034120</td>\n",
       "      <td>2.639314e+06</td>\n",
       "      <td>2.000000</td>\n",
       "    </tr>\n",
       "    <tr>\n",
       "      <th>50%</th>\n",
       "      <td>26.000000</td>\n",
       "      <td>10.849057</td>\n",
       "      <td>0.493365</td>\n",
       "      <td>1.018868</td>\n",
       "      <td>1.026087</td>\n",
       "      <td>1.043053</td>\n",
       "      <td>0.418421</td>\n",
       "      <td>68.000000</td>\n",
       "      <td>23.268293</td>\n",
       "      <td>3.373333</td>\n",
       "      <td>...</td>\n",
       "      <td>3.828947</td>\n",
       "      <td>1.779221</td>\n",
       "      <td>0.649351</td>\n",
       "      <td>0.372093</td>\n",
       "      <td>1.134146</td>\n",
       "      <td>1.982456</td>\n",
       "      <td>9.246575</td>\n",
       "      <td>4.536120</td>\n",
       "      <td>7.328280e+06</td>\n",
       "      <td>3.000000</td>\n",
       "    </tr>\n",
       "    <tr>\n",
       "      <th>75%</th>\n",
       "      <td>29.000000</td>\n",
       "      <td>16.085366</td>\n",
       "      <td>0.635463</td>\n",
       "      <td>1.107477</td>\n",
       "      <td>1.106109</td>\n",
       "      <td>1.110626</td>\n",
       "      <td>0.506684</td>\n",
       "      <td>76.000000</td>\n",
       "      <td>28.773333</td>\n",
       "      <td>5.206897</td>\n",
       "      <td>...</td>\n",
       "      <td>5.340426</td>\n",
       "      <td>3.136986</td>\n",
       "      <td>0.912500</td>\n",
       "      <td>0.600000</td>\n",
       "      <td>1.607843</td>\n",
       "      <td>2.439394</td>\n",
       "      <td>13.656716</td>\n",
       "      <td>12.000000</td>\n",
       "      <td>1.898872e+07</td>\n",
       "      <td>3.000000</td>\n",
       "    </tr>\n",
       "    <tr>\n",
       "      <th>max</th>\n",
       "      <td>42.000000</td>\n",
       "      <td>37.833333</td>\n",
       "      <td>1.155216</td>\n",
       "      <td>1.588235</td>\n",
       "      <td>1.398329</td>\n",
       "      <td>1.388889</td>\n",
       "      <td>0.982909</td>\n",
       "      <td>82.000000</td>\n",
       "      <td>36.926829</td>\n",
       "      <td>10.807692</td>\n",
       "      <td>...</td>\n",
       "      <td>15.594937</td>\n",
       "      <td>10.739726</td>\n",
       "      <td>2.207792</td>\n",
       "      <td>2.689189</td>\n",
       "      <td>4.961538</td>\n",
       "      <td>3.793103</td>\n",
       "      <td>36.128205</td>\n",
       "      <td>37.457154</td>\n",
       "      <td>1.664762e+08</td>\n",
       "      <td>3.000000</td>\n",
       "    </tr>\n",
       "  </tbody>\n",
       "</table>\n",
       "<p>8 rows × 32 columns</p>\n",
       "</div>"
      ],
      "text/plain": [
       "              Age         MDD  MDD_PER_1MP        PPT3        PPT2  \\\n",
       "count  365.000000  365.000000   365.000000  365.000000  365.000000   \n",
       "mean    26.331507   12.666034     0.530419    0.929514    1.032909   \n",
       "std      4.272609    6.525061     0.156988    0.331687    0.124653   \n",
       "min     19.000000    1.453125     0.240909    0.000000    0.666667   \n",
       "25%     23.000000    8.060000     0.416337    0.900000    0.949367   \n",
       "50%     26.000000   10.849057     0.493365    1.018868    1.026087   \n",
       "75%     29.000000   16.085366     0.635463    1.107477    1.106109   \n",
       "max     42.000000   37.833333     1.155216    1.588235    1.398329   \n",
       "\n",
       "              PPT     PtsToMP           G          MP          FG  ...  \\\n",
       "count  365.000000  365.000000  365.000000  365.000000  365.000000  ...   \n",
       "mean     1.049343    0.436602   65.479452   23.218988    3.933358  ...   \n",
       "std      0.098545    0.129497   12.316242    7.255924    2.110981  ...   \n",
       "min      0.755102    0.178797   41.000000    4.890625    0.265625  ...   \n",
       "25%      0.984405    0.345104   56.000000   17.621622    2.404762  ...   \n",
       "50%      1.043053    0.418421   68.000000   23.268293    3.373333  ...   \n",
       "75%      1.110626    0.506684   76.000000   28.773333    5.206897  ...   \n",
       "max      1.388889    0.982909   82.000000   36.926829   10.807692  ...   \n",
       "\n",
       "              TRB         AST         STL         BLK         TOV          PF  \\\n",
       "count  365.000000  365.000000  365.000000  365.000000  365.000000  365.000000   \n",
       "mean     4.365285    2.364768    0.726964    0.472085    1.301159    2.014716   \n",
       "std      2.500098    1.829802    0.387427    0.423370    0.780660    0.634228   \n",
       "min      0.687500    0.281250    0.071429    0.012346    0.137255    0.452830   \n",
       "25%      2.609375    1.117647    0.440000    0.186047    0.750000    1.584416   \n",
       "50%      3.828947    1.779221    0.649351    0.372093    1.134146    1.982456   \n",
       "75%      5.340426    3.136986    0.912500    0.600000    1.607843    2.439394   \n",
       "max     15.594937   10.739726    2.207792    2.689189    4.961538    3.793103   \n",
       "\n",
       "              PTS      Salary    Guaranteed  ThrowFavorite  \n",
       "count  365.000000  365.000000  3.650000e+02     365.000000  \n",
       "mean    10.634483    8.186154  1.855072e+07       2.515068  \n",
       "std      5.888566    8.216853  2.896433e+07       0.500459  \n",
       "min      0.968750    0.050000  5.000000e+04       2.000000  \n",
       "25%      6.381579    2.034120  2.639314e+06       2.000000  \n",
       "50%      9.246575    4.536120  7.328280e+06       3.000000  \n",
       "75%     13.656716   12.000000  1.898872e+07       3.000000  \n",
       "max     36.128205   37.457154  1.664762e+08       3.000000  \n",
       "\n",
       "[8 rows x 32 columns]"
      ]
     },
     "execution_count": 21,
     "metadata": {},
     "output_type": "execute_result"
    }
   ],
   "source": [
    "df.describe()"
   ]
  },
  {
   "cell_type": "code",
   "execution_count": 22,
   "metadata": {},
   "outputs": [
    {
     "data": {
      "text/plain": [
       "Text(0.5, 0, 'Salary')"
      ]
     },
     "execution_count": 22,
     "metadata": {},
     "output_type": "execute_result"
    },
    {
     "data": {
      "image/png": "[encoded data removed]",
      "text/plain": [
       "<Figure size 576x360 with 1 Axes>"
      ]
     },
     "metadata": {},
     "output_type": "display_data"
    },
    {
     "data": {
      "image/png": "[encoded data removed]",
      "text/plain": [
       "<Figure size 576x360 with 1 Axes>"
      ]
     },
     "metadata": {},
     "output_type": "display_data"
    },
    {
     "data": {
      "image/png": "[encoded data removed]",
      "text/plain": [
       "<Figure size 576x360 with 1 Axes>"
      ]
     },
     "metadata": {},
     "output_type": "display_data"
    },
    {
     "data": {
      "image/png": "[encoded data removed]",
      "text/plain": [
       "<Figure size 576x360 with 1 Axes>"
      ]
     },
     "metadata": {},
     "output_type": "display_data"
    },
    {
     "data": {
      "image/png": "[encoded data removed]",
      "text/plain": [
       "<Figure size 576x360 with 1 Axes>"
      ]
     },
     "metadata": {},
     "output_type": "display_data"
    }
   ],
   "source": [
    "f,ax= plt.subplots(figsize=(8,5))\n",
    "plt.hist(df['Age'],np.arange(19,40))\n",
    "plt.grid(True)\n",
    "plt.title(\"Histogram\")\n",
    "plt.xlabel(\"Age\")\n",
    "\n",
    "f,ax= plt.subplots(figsize=(8,5))\n",
    "df['Pos'].value_counts().plot.pie(subplots=True, figsize=(12, 6))\n",
    "plt.grid(True)\n",
    "\n",
    "f,ax= plt.subplots(figsize=(8,5))\n",
    "plt.hist(df['PTS'],np.arange(0,40))\n",
    "plt.grid(True)\n",
    "plt.title(\"Histogram\")\n",
    "plt.xlabel(\"PTS\")\n",
    "\n",
    "f,ax= plt.subplots(figsize=(8,5))\n",
    "plt.hist(df['MDD'],np.arange(0,40))\n",
    "plt.grid(True)\n",
    "plt.title(\"Histogram\")\n",
    "plt.xlabel(\"MDD\")\n",
    "plt.ylabel(\"\")\n",
    "\n",
    "f,ax= plt.subplots(figsize=(8,5))\n",
    "plt.hist(df['Salary'],np.arange(0,40))\n",
    "plt.grid(True)\n",
    "plt.title(\"Histogram\")\n",
    "plt.xlabel(\"Salary\")"
   ]
  },
  {
   "cell_type": "code",
   "execution_count": 23,
   "metadata": {},
   "outputs": [],
   "source": [
    "Q1 = df[['Player','PPT3','PPT2','3P%','3P','3PA','2P%','2P','2PA','G']]\n",
    "Q1 = Q1[ (Q1['3PA'] >= 2) & (Q1['3P'] >= 0.9)]\n",
    "Q1 = Q1[ (Q1['2PA'] >= 4) & (Q1['2P'] >= 2)]"
   ]
  },
  {
   "cell_type": "code",
   "execution_count": 24,
   "metadata": {},
   "outputs": [
    {
     "data": {
      "text/html": [
       "<div>\n",
       "<style scoped>\n",
       "    .dataframe tbody tr th:only-of-type {\n",
       "        vertical-align: middle;\n",
       "    }\n",
       "\n",
       "    .dataframe tbody tr th {\n",
       "        vertical-align: top;\n",
       "    }\n",
       "\n",
       "    .dataframe thead th {\n",
       "        text-align: right;\n",
       "    }\n",
       "</style>\n",
       "<table border=\"1\" class=\"dataframe\">\n",
       "  <thead>\n",
       "    <tr style=\"text-align: right;\">\n",
       "      <th></th>\n",
       "      <th>PPT3</th>\n",
       "      <th>PPT2</th>\n",
       "      <th>3P%</th>\n",
       "      <th>3P</th>\n",
       "      <th>3PA</th>\n",
       "      <th>2P%</th>\n",
       "      <th>2P</th>\n",
       "      <th>2PA</th>\n",
       "      <th>G</th>\n",
       "    </tr>\n",
       "  </thead>\n",
       "  <tbody>\n",
       "    <tr>\n",
       "      <th>count</th>\n",
       "      <td>118.000000</td>\n",
       "      <td>118.000000</td>\n",
       "      <td>118.000000</td>\n",
       "      <td>118.000000</td>\n",
       "      <td>118.000000</td>\n",
       "      <td>118.000000</td>\n",
       "      <td>118.000000</td>\n",
       "      <td>118.000000</td>\n",
       "      <td>118.000000</td>\n",
       "    </tr>\n",
       "    <tr>\n",
       "      <th>mean</th>\n",
       "      <td>1.090158</td>\n",
       "      <td>1.006223</td>\n",
       "      <td>0.363390</td>\n",
       "      <td>1.790173</td>\n",
       "      <td>4.906381</td>\n",
       "      <td>0.503102</td>\n",
       "      <td>4.122693</td>\n",
       "      <td>8.149648</td>\n",
       "      <td>69.711864</td>\n",
       "    </tr>\n",
       "    <tr>\n",
       "      <th>std</th>\n",
       "      <td>0.101889</td>\n",
       "      <td>0.085809</td>\n",
       "      <td>0.033937</td>\n",
       "      <td>0.753391</td>\n",
       "      <td>1.905003</td>\n",
       "      <td>0.042910</td>\n",
       "      <td>1.572236</td>\n",
       "      <td>2.843462</td>\n",
       "      <td>10.331349</td>\n",
       "    </tr>\n",
       "    <tr>\n",
       "      <th>min</th>\n",
       "      <td>0.868613</td>\n",
       "      <td>0.774545</td>\n",
       "      <td>0.290000</td>\n",
       "      <td>0.901639</td>\n",
       "      <td>2.552632</td>\n",
       "      <td>0.387000</td>\n",
       "      <td>2.022727</td>\n",
       "      <td>4.098765</td>\n",
       "      <td>43.000000</td>\n",
       "    </tr>\n",
       "    <tr>\n",
       "      <th>25%</th>\n",
       "      <td>1.018478</td>\n",
       "      <td>0.954785</td>\n",
       "      <td>0.339250</td>\n",
       "      <td>1.177921</td>\n",
       "      <td>3.500000</td>\n",
       "      <td>0.477000</td>\n",
       "      <td>2.762183</td>\n",
       "      <td>5.772846</td>\n",
       "      <td>64.000000</td>\n",
       "    </tr>\n",
       "    <tr>\n",
       "      <th>50%</th>\n",
       "      <td>1.083406</td>\n",
       "      <td>0.996867</td>\n",
       "      <td>0.361000</td>\n",
       "      <td>1.621142</td>\n",
       "      <td>4.617695</td>\n",
       "      <td>0.498500</td>\n",
       "      <td>3.879227</td>\n",
       "      <td>7.664109</td>\n",
       "      <td>72.000000</td>\n",
       "    </tr>\n",
       "    <tr>\n",
       "      <th>75%</th>\n",
       "      <td>1.149499</td>\n",
       "      <td>1.064520</td>\n",
       "      <td>0.382750</td>\n",
       "      <td>2.178827</td>\n",
       "      <td>5.949327</td>\n",
       "      <td>0.532500</td>\n",
       "      <td>5.197319</td>\n",
       "      <td>10.448718</td>\n",
       "      <td>78.000000</td>\n",
       "    </tr>\n",
       "    <tr>\n",
       "      <th>max</th>\n",
       "      <td>1.422280</td>\n",
       "      <td>1.218425</td>\n",
       "      <td>0.474000</td>\n",
       "      <td>5.130435</td>\n",
       "      <td>13.179487</td>\n",
       "      <td>0.609000</td>\n",
       "      <td>8.127273</td>\n",
       "      <td>14.625000</td>\n",
       "      <td>82.000000</td>\n",
       "    </tr>\n",
       "  </tbody>\n",
       "</table>\n",
       "</div>"
      ],
      "text/plain": [
       "             PPT3        PPT2         3P%          3P         3PA         2P%  \\\n",
       "count  118.000000  118.000000  118.000000  118.000000  118.000000  118.000000   \n",
       "mean     1.090158    1.006223    0.363390    1.790173    4.906381    0.503102   \n",
       "std      0.101889    0.085809    0.033937    0.753391    1.905003    0.042910   \n",
       "min      0.868613    0.774545    0.290000    0.901639    2.552632    0.387000   \n",
       "25%      1.018478    0.954785    0.339250    1.177921    3.500000    0.477000   \n",
       "50%      1.083406    0.996867    0.361000    1.621142    4.617695    0.498500   \n",
       "75%      1.149499    1.064520    0.382750    2.178827    5.949327    0.532500   \n",
       "max      1.422280    1.218425    0.474000    5.130435   13.179487    0.609000   \n",
       "\n",
       "               2P         2PA           G  \n",
       "count  118.000000  118.000000  118.000000  \n",
       "mean     4.122693    8.149648   69.711864  \n",
       "std      1.572236    2.843462   10.331349  \n",
       "min      2.022727    4.098765   43.000000  \n",
       "25%      2.762183    5.772846   64.000000  \n",
       "50%      3.879227    7.664109   72.000000  \n",
       "75%      5.197319   10.448718   78.000000  \n",
       "max      8.127273   14.625000   82.000000  "
      ]
     },
     "execution_count": 24,
     "metadata": {},
     "output_type": "execute_result"
    }
   ],
   "source": [
    "Q1.describe()"
   ]
  },
  {
   "cell_type": "code",
   "execution_count": 25,
   "metadata": {},
   "outputs": [
    {
     "data": {
      "text/html": [
       "<div>\n",
       "<style scoped>\n",
       "    .dataframe tbody tr th:only-of-type {\n",
       "        vertical-align: middle;\n",
       "    }\n",
       "\n",
       "    .dataframe tbody tr th {\n",
       "        vertical-align: top;\n",
       "    }\n",
       "\n",
       "    .dataframe thead th {\n",
       "        text-align: right;\n",
       "    }\n",
       "</style>\n",
       "<table border=\"1\" class=\"dataframe\">\n",
       "  <thead>\n",
       "    <tr style=\"text-align: right;\">\n",
       "      <th></th>\n",
       "      <th>Player</th>\n",
       "      <th>PPT3</th>\n",
       "      <th>PPT2</th>\n",
       "      <th>3P%</th>\n",
       "      <th>3P</th>\n",
       "      <th>3PA</th>\n",
       "      <th>2P%</th>\n",
       "      <th>2P</th>\n",
       "      <th>2PA</th>\n",
       "      <th>G</th>\n",
       "      <th>ThrowFavorite</th>\n",
       "      <th>PercentFromFavorite</th>\n",
       "    </tr>\n",
       "  </thead>\n",
       "  <tbody>\n",
       "    <tr>\n",
       "      <th>232</th>\n",
       "      <td>Joe Harris</td>\n",
       "      <td>1.422280</td>\n",
       "      <td>1.055249</td>\n",
       "      <td>0.474</td>\n",
       "      <td>2.407895</td>\n",
       "      <td>5.078947</td>\n",
       "      <td>0.528</td>\n",
       "      <td>2.513158</td>\n",
       "      <td>4.763158</td>\n",
       "      <td>76</td>\n",
       "      <td>3</td>\n",
       "      <td>1.422280</td>\n",
       "    </tr>\n",
       "    <tr>\n",
       "      <th>136</th>\n",
       "      <td>Stephen Curry</td>\n",
       "      <td>1.311111</td>\n",
       "      <td>1.049057</td>\n",
       "      <td>0.437</td>\n",
       "      <td>5.130435</td>\n",
       "      <td>11.739130</td>\n",
       "      <td>0.525</td>\n",
       "      <td>4.028986</td>\n",
       "      <td>7.681159</td>\n",
       "      <td>69</td>\n",
       "      <td>3</td>\n",
       "      <td>1.311111</td>\n",
       "    </tr>\n",
       "    <tr>\n",
       "      <th>197</th>\n",
       "      <td>Danilo Gallinari</td>\n",
       "      <td>1.298387</td>\n",
       "      <td>0.968750</td>\n",
       "      <td>0.433</td>\n",
       "      <td>2.367647</td>\n",
       "      <td>5.470588</td>\n",
       "      <td>0.484</td>\n",
       "      <td>3.647059</td>\n",
       "      <td>7.529412</td>\n",
       "      <td>68</td>\n",
       "      <td>3</td>\n",
       "      <td>1.298387</td>\n",
       "    </tr>\n",
       "    <tr>\n",
       "      <th>392</th>\n",
       "      <td>E'Twaun Moore</td>\n",
       "      <td>1.295455</td>\n",
       "      <td>1.011236</td>\n",
       "      <td>0.432</td>\n",
       "      <td>1.433962</td>\n",
       "      <td>3.320755</td>\n",
       "      <td>0.506</td>\n",
       "      <td>3.396226</td>\n",
       "      <td>6.716981</td>\n",
       "      <td>53</td>\n",
       "      <td>3</td>\n",
       "      <td>1.295455</td>\n",
       "    </tr>\n",
       "    <tr>\n",
       "      <th>546</th>\n",
       "      <td>T.J. Warren</td>\n",
       "      <td>1.283333</td>\n",
       "      <td>1.020882</td>\n",
       "      <td>0.428</td>\n",
       "      <td>1.790698</td>\n",
       "      <td>4.186047</td>\n",
       "      <td>0.510</td>\n",
       "      <td>5.116279</td>\n",
       "      <td>10.023256</td>\n",
       "      <td>43</td>\n",
       "      <td>3</td>\n",
       "      <td>1.283333</td>\n",
       "    </tr>\n",
       "  </tbody>\n",
       "</table>\n",
       "</div>"
      ],
      "text/plain": [
       "               Player      PPT3      PPT2    3P%        3P        3PA    2P%  \\\n",
       "232        Joe Harris  1.422280  1.055249  0.474  2.407895   5.078947  0.528   \n",
       "136     Stephen Curry  1.311111  1.049057  0.437  5.130435  11.739130  0.525   \n",
       "197  Danilo Gallinari  1.298387  0.968750  0.433  2.367647   5.470588  0.484   \n",
       "392     E'Twaun Moore  1.295455  1.011236  0.432  1.433962   3.320755  0.506   \n",
       "546       T.J. Warren  1.283333  1.020882  0.428  1.790698   4.186047  0.510   \n",
       "\n",
       "           2P        2PA   G  ThrowFavorite  PercentFromFavorite  \n",
       "232  2.513158   4.763158  76              3             1.422280  \n",
       "136  4.028986   7.681159  69              3             1.311111  \n",
       "197  3.647059   7.529412  68              3             1.298387  \n",
       "392  3.396226   6.716981  53              3             1.295455  \n",
       "546  5.116279  10.023256  43              3             1.283333  "
      ]
     },
     "execution_count": 25,
     "metadata": {},
     "output_type": "execute_result"
    }
   ],
   "source": [
    "Q1['ThrowFavorite'] = np.where(Q1['PPT3'] > Q1['PPT2'],3 , 2)\n",
    "Q1['PercentFromFavorite'] = np.where(Q1['PPT3'] > Q1['PPT2'],Q1['PPT3'] , Q1['PPT2'])\n",
    "Q1.sort_values('PercentFromFavorite', ascending=False).head()"
   ]
  },
  {
   "cell_type": "code",
   "execution_count": 26,
   "metadata": {},
   "outputs": [
    {
     "data": {
      "text/plain": [
       "<matplotlib.axes._subplots.AxesSubplot at 0x13f5d7416c8>"
      ]
     },
     "execution_count": 26,
     "metadata": {},
     "output_type": "execute_result"
    },
    {
     "data": {
      "image/png": "[encoded data removed]",
      "text/plain": [
       "<Figure size 720x432 with 1 Axes>"
      ]
     },
     "metadata": {},
     "output_type": "display_data"
    }
   ],
   "source": [
    "Q1['ThrowFavorite'].value_counts().plot(kind='bar')"
   ]
  },
  {
   "cell_type": "code",
   "execution_count": 27,
   "metadata": {},
   "outputs": [],
   "source": [
    "Q1 = Q1.merge(df[['Pos','Player','Tm']] , how='left', on='Player')"
   ]
  },
  {
   "cell_type": "code",
   "execution_count": 28,
   "metadata": {},
   "outputs": [
    {
     "data": {
      "text/plain": [
       "<matplotlib.axes._subplots.AxesSubplot at 0x13f5d8d58c8>"
      ]
     },
     "execution_count": 28,
     "metadata": {},
     "output_type": "execute_result"
    },
    {
     "data": {
      "image/png": "[encoded data removed]",
      "text/plain": [
       "<Figure size 720x432 with 1 Axes>"
      ]
     },
     "metadata": {},
     "output_type": "display_data"
    }
   ],
   "source": [
    "Q1['Pos'].value_counts().plot.bar()"
   ]
  },
  {
   "cell_type": "code",
   "execution_count": 29,
   "metadata": {},
   "outputs": [
    {
     "data": {
      "image/png": "[encoded data removed]",
      "text/plain": [
       "<Figure size 576x360 with 1 Axes>"
      ]
     },
     "metadata": {},
     "output_type": "display_data"
    },
    {
     "data": {
      "image/png": "[encoded data removed]",
      "text/plain": [
       "<Figure size 576x360 with 1 Axes>"
      ]
     },
     "metadata": {},
     "output_type": "display_data"
    }
   ],
   "source": [
    "f,ax= plt.subplots(figsize=(8,5))\n",
    "Q1[Q1.ThrowFavorite==2]['Pos'].value_counts().plot.bar(color='brown')\n",
    "plt.grid(True)\n",
    "\n",
    "f,ax= plt.subplots(figsize=(8,5))\n",
    "Q1[Q1.ThrowFavorite==3]['Pos'].value_counts().plot.bar(color='red')\n",
    "plt.grid(True)"
   ]
  },
  {
   "cell_type": "code",
   "execution_count": 30,
   "metadata": {},
   "outputs": [],
   "source": [
    "df['POSֹ'] = df['Pos']\n",
    "df['POSֹ'] = df['POSֹ'].replace('PG', 1)\n",
    "df['POSֹ'] = df['POSֹ'].replace('SG' ,2)\n",
    "df['POSֹ'] = df['POSֹ'].replace('SF', 3)\n",
    "df['POSֹ'] = df['POSֹ'].replace('PF', 4)\n",
    "df['POSֹ'] = df['POSֹ'].replace('C',  5)"
   ]
  },
  {
   "cell_type": "markdown",
   "metadata": {},
   "source": [
    "# 1.2"
   ]
  },
  {
   "cell_type": "code",
   "execution_count": null,
   "metadata": {},
   "outputs": [],
   "source": [
    "# df.corr()\n",
    "# sns.set()\n",
    "# df_corr = df._get_numeric_data()\n",
    "\n",
    "# mask = np.zeros_like(df_corr.corr(),dtype=np.bool)\n",
    "# mask[np.triu_indices_from(mask)] = True\n",
    "# cmap =  sns.palplot(sns.diverging_palette(150, 275, s=80, l=55, n=9))\n",
    "\n",
    "# plt.figure(figsize=(50,20))\n",
    "# sns.heatmap(df_corr.corr(),cmap=cmap,annot=True,mask = mask,square = True)\n",
    "# #plt.show()"
   ]
  },
  {
   "cell_type": "code",
   "execution_count": null,
   "metadata": {},
   "outputs": [],
   "source": [
    "#ax = sns.clustermap(df.corr() , standard_scale = 1  )"
   ]
  },
  {
   "cell_type": "code",
   "execution_count": null,
   "metadata": {},
   "outputs": [],
   "source": [
    "# TEAM_corr = TEAM._get_numeric_data()  #אתה יכול להשתמש בפונקציה הלא מתועד _get_numeric_data()לסינון עמודות מספריות בלבד:\n",
    "# TEAM_corr = TEAM_corr.drop(['GP','W','L','MIN'],axis=1)\n",
    "\n",
    "# mask = np.zeros_like(TEAM_corr.corr(),dtype=np.bool)\n",
    "# mask[np.triu_indices_from(mask)] = True\n",
    "# cmap =  sns.palplot(sns.diverging_palette(150, 275, s=80, l=55, n=9))\n",
    "\n",
    "# plt.figure(figsize=(50,20))\n",
    "# sns.heatmap(TEAM_corr.corr(),cmap=cmap,annot=True,mask = mask,square = True)\n",
    "# #plt.show()"
   ]
  },
  {
   "cell_type": "code",
   "execution_count": null,
   "metadata": {},
   "outputs": [],
   "source": [
    "#ax = sns.clustermap(TEAM_corr.corr() , standard_scale = 1  )"
   ]
  },
  {
   "cell_type": "markdown",
   "metadata": {},
   "source": [
    "# 2.1\n",
    "# Player Ratio Group  רגרסיה לינארית"
   ]
  },
  {
   "cell_type": "code",
   "execution_count": 31,
   "metadata": {},
   "outputs": [],
   "source": [
    "PlayerRatioGroup = df[['Player','Tm','G','Age','Salary','MP','PTS','AST','TRB']].merge(TEAM[['Tm','PTS','MIN','AST','REB']]\n",
    "                                                                              ,   how='left', on='Tm')"
   ]
  },
  {
   "cell_type": "code",
   "execution_count": 32,
   "metadata": {},
   "outputs": [
    {
     "data": {
      "text/plain": [
       "Player     0\n",
       "Tm         0\n",
       "G          0\n",
       "Age        0\n",
       "Salary     0\n",
       "MP         0\n",
       "PTS_x      0\n",
       "AST_x      0\n",
       "TRB        0\n",
       "PTS_y     83\n",
       "MIN       83\n",
       "AST_y     83\n",
       "REB       83\n",
       "dtype: int64"
      ]
     },
     "execution_count": 32,
     "metadata": {},
     "output_type": "execute_result"
    }
   ],
   "source": [
    "PlayerRatioGroup.isnull().sum()"
   ]
  },
  {
   "cell_type": "code",
   "execution_count": 33,
   "metadata": {},
   "outputs": [],
   "source": [
    "PlayerRatioGroup= PlayerRatioGroup.dropna()"
   ]
  },
  {
   "cell_type": "code",
   "execution_count": 34,
   "metadata": {},
   "outputs": [],
   "source": [
    "PlayerRatioGroup['PTS'] = PlayerRatioGroup['PTS_x'] / PlayerRatioGroup['PTS_y'] *100   \n",
    "PlayerRatioGroup['AST'] = PlayerRatioGroup['AST_x'] / PlayerRatioGroup['AST_y']  *100  \n",
    "PlayerRatioGroup['RB'] = PlayerRatioGroup['TRB'] / PlayerRatioGroup['REB']    *100"
   ]
  },
  {
   "cell_type": "code",
   "execution_count": 35,
   "metadata": {},
   "outputs": [
    {
     "data": {
      "text/html": [
       "<div>\n",
       "<style scoped>\n",
       "    .dataframe tbody tr th:only-of-type {\n",
       "        vertical-align: middle;\n",
       "    }\n",
       "\n",
       "    .dataframe tbody tr th {\n",
       "        vertical-align: top;\n",
       "    }\n",
       "\n",
       "    .dataframe thead th {\n",
       "        text-align: right;\n",
       "    }\n",
       "</style>\n",
       "<table border=\"1\" class=\"dataframe\">\n",
       "  <thead>\n",
       "    <tr style=\"text-align: right;\">\n",
       "      <th></th>\n",
       "      <th>Player</th>\n",
       "      <th>Tm</th>\n",
       "      <th>G</th>\n",
       "      <th>Age</th>\n",
       "      <th>Salary</th>\n",
       "      <th>MP</th>\n",
       "      <th>PTS_x</th>\n",
       "      <th>AST_x</th>\n",
       "      <th>TRB</th>\n",
       "      <th>PTS_y</th>\n",
       "      <th>MIN</th>\n",
       "      <th>AST_y</th>\n",
       "      <th>REB</th>\n",
       "      <th>PTS</th>\n",
       "      <th>AST</th>\n",
       "      <th>RB</th>\n",
       "    </tr>\n",
       "  </thead>\n",
       "  <tbody>\n",
       "    <tr>\n",
       "      <th>327</th>\n",
       "      <td>Klay Thompson</td>\n",
       "      <td>GSW</td>\n",
       "      <td>78</td>\n",
       "      <td>28</td>\n",
       "      <td>18.988725</td>\n",
       "      <td>34.0</td>\n",
       "      <td>21.538462</td>\n",
       "      <td>2.384615</td>\n",
       "      <td>3.833333</td>\n",
       "      <td>117.7</td>\n",
       "      <td>48.3</td>\n",
       "      <td>29.4</td>\n",
       "      <td>46.2</td>\n",
       "      <td>18.299458</td>\n",
       "      <td>8.110937</td>\n",
       "      <td>8.297258</td>\n",
       "    </tr>\n",
       "  </tbody>\n",
       "</table>\n",
       "</div>"
      ],
      "text/plain": [
       "            Player   Tm   G  Age     Salary    MP      PTS_x     AST_x  \\\n",
       "327  Klay Thompson  GSW  78   28  18.988725  34.0  21.538462  2.384615   \n",
       "\n",
       "          TRB  PTS_y   MIN  AST_y   REB        PTS       AST        RB  \n",
       "327  3.833333  117.7  48.3   29.4  46.2  18.299458  8.110937  8.297258  "
      ]
     },
     "execution_count": 35,
     "metadata": {},
     "output_type": "execute_result"
    }
   ],
   "source": [
    "PlayerRatioGroup = PlayerRatioGroup[ PlayerRatioGroup.Salary > .5]\n",
    "PlayerRatioGroup.sample(1)"
   ]
  },
  {
   "cell_type": "code",
   "execution_count": 36,
   "metadata": {},
   "outputs": [
    {
     "data": {
      "text/html": [
       "<div>\n",
       "<style scoped>\n",
       "    .dataframe tbody tr th:only-of-type {\n",
       "        vertical-align: middle;\n",
       "    }\n",
       "\n",
       "    .dataframe tbody tr th {\n",
       "        vertical-align: top;\n",
       "    }\n",
       "\n",
       "    .dataframe thead th {\n",
       "        text-align: right;\n",
       "    }\n",
       "</style>\n",
       "<table border=\"1\" class=\"dataframe\">\n",
       "  <thead>\n",
       "    <tr style=\"text-align: right;\">\n",
       "      <th></th>\n",
       "      <th>G</th>\n",
       "      <th>Age</th>\n",
       "      <th>Salary</th>\n",
       "      <th>MP</th>\n",
       "      <th>PTS_x</th>\n",
       "      <th>AST_x</th>\n",
       "      <th>TRB</th>\n",
       "      <th>PTS_y</th>\n",
       "      <th>MIN</th>\n",
       "      <th>AST_y</th>\n",
       "      <th>REB</th>\n",
       "      <th>PTS</th>\n",
       "      <th>AST</th>\n",
       "      <th>RB</th>\n",
       "    </tr>\n",
       "  </thead>\n",
       "  <tbody>\n",
       "    <tr>\n",
       "      <th>count</th>\n",
       "      <td>281.000000</td>\n",
       "      <td>281.000000</td>\n",
       "      <td>281.000000</td>\n",
       "      <td>281.000000</td>\n",
       "      <td>281.000000</td>\n",
       "      <td>281.000000</td>\n",
       "      <td>281.000000</td>\n",
       "      <td>281.000000</td>\n",
       "      <td>281.000000</td>\n",
       "      <td>281.000000</td>\n",
       "      <td>281.000000</td>\n",
       "      <td>281.000000</td>\n",
       "      <td>281.000000</td>\n",
       "      <td>281.000000</td>\n",
       "    </tr>\n",
       "    <tr>\n",
       "      <th>mean</th>\n",
       "      <td>66.288256</td>\n",
       "      <td>26.117438</td>\n",
       "      <td>8.334951</td>\n",
       "      <td>23.509990</td>\n",
       "      <td>11.007349</td>\n",
       "      <td>2.497115</td>\n",
       "      <td>4.492623</td>\n",
       "      <td>111.259075</td>\n",
       "      <td>48.309964</td>\n",
       "      <td>24.717794</td>\n",
       "      <td>45.311388</td>\n",
       "      <td>9.886569</td>\n",
       "      <td>10.105026</td>\n",
       "      <td>9.914583</td>\n",
       "    </tr>\n",
       "    <tr>\n",
       "      <th>std</th>\n",
       "      <td>12.497950</td>\n",
       "      <td>4.365091</td>\n",
       "      <td>8.494684</td>\n",
       "      <td>7.505253</td>\n",
       "      <td>6.283108</td>\n",
       "      <td>1.976138</td>\n",
       "      <td>2.566272</td>\n",
       "      <td>3.997463</td>\n",
       "      <td>0.157345</td>\n",
       "      <td>2.067116</td>\n",
       "      <td>2.070941</td>\n",
       "      <td>5.575128</td>\n",
       "      <td>7.980924</td>\n",
       "      <td>5.635366</td>\n",
       "    </tr>\n",
       "    <tr>\n",
       "      <th>min</th>\n",
       "      <td>41.000000</td>\n",
       "      <td>19.000000</td>\n",
       "      <td>0.596872</td>\n",
       "      <td>4.890625</td>\n",
       "      <td>0.968750</td>\n",
       "      <td>0.281250</td>\n",
       "      <td>0.687500</td>\n",
       "      <td>103.500000</td>\n",
       "      <td>48.100000</td>\n",
       "      <td>20.100000</td>\n",
       "      <td>40.400000</td>\n",
       "      <td>0.841659</td>\n",
       "      <td>1.171875</td>\n",
       "      <td>1.510989</td>\n",
       "    </tr>\n",
       "    <tr>\n",
       "      <th>25%</th>\n",
       "      <td>58.000000</td>\n",
       "      <td>23.000000</td>\n",
       "      <td>2.165481</td>\n",
       "      <td>17.610390</td>\n",
       "      <td>6.294118</td>\n",
       "      <td>1.103448</td>\n",
       "      <td>2.705882</td>\n",
       "      <td>107.500000</td>\n",
       "      <td>48.200000</td>\n",
       "      <td>23.400000</td>\n",
       "      <td>44.500000</td>\n",
       "      <td>5.672515</td>\n",
       "      <td>4.373497</td>\n",
       "      <td>6.049607</td>\n",
       "    </tr>\n",
       "    <tr>\n",
       "      <th>50%</th>\n",
       "      <td>68.000000</td>\n",
       "      <td>25.000000</td>\n",
       "      <td>4.696875</td>\n",
       "      <td>24.085714</td>\n",
       "      <td>9.446429</td>\n",
       "      <td>1.849315</td>\n",
       "      <td>3.897059</td>\n",
       "      <td>112.200000</td>\n",
       "      <td>48.300000</td>\n",
       "      <td>24.600000</td>\n",
       "      <td>45.400000</td>\n",
       "      <td>8.528624</td>\n",
       "      <td>7.548465</td>\n",
       "      <td>8.510077</td>\n",
       "    </tr>\n",
       "    <tr>\n",
       "      <th>75%</th>\n",
       "      <td>77.000000</td>\n",
       "      <td>29.000000</td>\n",
       "      <td>11.750000</td>\n",
       "      <td>29.760870</td>\n",
       "      <td>14.796610</td>\n",
       "      <td>3.316667</td>\n",
       "      <td>5.347826</td>\n",
       "      <td>114.400000</td>\n",
       "      <td>48.400000</td>\n",
       "      <td>26.000000</td>\n",
       "      <td>46.400000</td>\n",
       "      <td>13.135513</td>\n",
       "      <td>13.673319</td>\n",
       "      <td>11.782919</td>\n",
       "    </tr>\n",
       "    <tr>\n",
       "      <th>max</th>\n",
       "      <td>82.000000</td>\n",
       "      <td>42.000000</td>\n",
       "      <td>37.457154</td>\n",
       "      <td>36.926829</td>\n",
       "      <td>36.128205</td>\n",
       "      <td>10.739726</td>\n",
       "      <td>15.594937</td>\n",
       "      <td>118.100000</td>\n",
       "      <td>48.700000</td>\n",
       "      <td>29.400000</td>\n",
       "      <td>49.700000</td>\n",
       "      <td>31.719232</td>\n",
       "      <td>45.896265</td>\n",
       "      <td>34.655415</td>\n",
       "    </tr>\n",
       "  </tbody>\n",
       "</table>\n",
       "</div>"
      ],
      "text/plain": [
       "                G         Age      Salary          MP       PTS_x       AST_x  \\\n",
       "count  281.000000  281.000000  281.000000  281.000000  281.000000  281.000000   \n",
       "mean    66.288256   26.117438    8.334951   23.509990   11.007349    2.497115   \n",
       "std     12.497950    4.365091    8.494684    7.505253    6.283108    1.976138   \n",
       "min     41.000000   19.000000    0.596872    4.890625    0.968750    0.281250   \n",
       "25%     58.000000   23.000000    2.165481   17.610390    6.294118    1.103448   \n",
       "50%     68.000000   25.000000    4.696875   24.085714    9.446429    1.849315   \n",
       "75%     77.000000   29.000000   11.750000   29.760870   14.796610    3.316667   \n",
       "max     82.000000   42.000000   37.457154   36.926829   36.128205   10.739726   \n",
       "\n",
       "              TRB       PTS_y         MIN       AST_y         REB         PTS  \\\n",
       "count  281.000000  281.000000  281.000000  281.000000  281.000000  281.000000   \n",
       "mean     4.492623  111.259075   48.309964   24.717794   45.311388    9.886569   \n",
       "std      2.566272    3.997463    0.157345    2.067116    2.070941    5.575128   \n",
       "min      0.687500  103.500000   48.100000   20.100000   40.400000    0.841659   \n",
       "25%      2.705882  107.500000   48.200000   23.400000   44.500000    5.672515   \n",
       "50%      3.897059  112.200000   48.300000   24.600000   45.400000    8.528624   \n",
       "75%      5.347826  114.400000   48.400000   26.000000   46.400000   13.135513   \n",
       "max     15.594937  118.100000   48.700000   29.400000   49.700000   31.719232   \n",
       "\n",
       "              AST          RB  \n",
       "count  281.000000  281.000000  \n",
       "mean    10.105026    9.914583  \n",
       "std      7.980924    5.635366  \n",
       "min      1.171875    1.510989  \n",
       "25%      4.373497    6.049607  \n",
       "50%      7.548465    8.510077  \n",
       "75%     13.673319   11.782919  \n",
       "max     45.896265   34.655415  "
      ]
     },
     "execution_count": 36,
     "metadata": {},
     "output_type": "execute_result"
    }
   ],
   "source": [
    "PlayerRatioGroup.describe()"
   ]
  },
  {
   "cell_type": "code",
   "execution_count": 37,
   "metadata": {},
   "outputs": [],
   "source": [
    "bins = [0, 23 ,26, 30, 43]\n",
    "category = [ 1 ,2 ,3 ,4 ]\n",
    "PlayerRatioGroup['AgeCategory'] = pd.cut(PlayerRatioGroup['Age'], bins, labels = category)"
   ]
  },
  {
   "cell_type": "code",
   "execution_count": 38,
   "metadata": {},
   "outputs": [],
   "source": [
    "PlayerRatioGroup['PTS_TOGAME'] = PlayerRatioGroup['PTS_x']"
   ]
  },
  {
   "cell_type": "code",
   "execution_count": 39,
   "metadata": {},
   "outputs": [
    {
     "data": {
      "text/html": [
       "<div>\n",
       "<style scoped>\n",
       "    .dataframe tbody tr th:only-of-type {\n",
       "        vertical-align: middle;\n",
       "    }\n",
       "\n",
       "    .dataframe tbody tr th {\n",
       "        vertical-align: top;\n",
       "    }\n",
       "\n",
       "    .dataframe thead th {\n",
       "        text-align: right;\n",
       "    }\n",
       "</style>\n",
       "<table border=\"1\" class=\"dataframe\">\n",
       "  <thead>\n",
       "    <tr style=\"text-align: right;\">\n",
       "      <th></th>\n",
       "      <th>Player</th>\n",
       "      <th>G</th>\n",
       "      <th>PTS</th>\n",
       "      <th>AST</th>\n",
       "      <th>RB</th>\n",
       "      <th>Salary</th>\n",
       "      <th>PTS_TOGAME</th>\n",
       "      <th>AgeCategory</th>\n",
       "      <th>SUM</th>\n",
       "    </tr>\n",
       "  </thead>\n",
       "  <tbody>\n",
       "    <tr>\n",
       "      <th>138</th>\n",
       "      <td>James Harden</td>\n",
       "      <td>78</td>\n",
       "      <td>31.719232</td>\n",
       "      <td>35.437833</td>\n",
       "      <td>15.774408</td>\n",
       "      <td>30.431854</td>\n",
       "      <td>36.128205</td>\n",
       "      <td>3</td>\n",
       "      <td>82.931472</td>\n",
       "    </tr>\n",
       "    <tr>\n",
       "      <th>38</th>\n",
       "      <td>Devin Booker</td>\n",
       "      <td>64</td>\n",
       "      <td>24.709302</td>\n",
       "      <td>28.308054</td>\n",
       "      <td>10.249072</td>\n",
       "      <td>3.314365</td>\n",
       "      <td>26.562500</td>\n",
       "      <td>1</td>\n",
       "      <td>63.266429</td>\n",
       "    </tr>\n",
       "    <tr>\n",
       "      <th>120</th>\n",
       "      <td>Paul George</td>\n",
       "      <td>77</td>\n",
       "      <td>24.488176</td>\n",
       "      <td>17.649018</td>\n",
       "      <td>16.956017</td>\n",
       "      <td>30.560700</td>\n",
       "      <td>28.038961</td>\n",
       "      <td>3</td>\n",
       "      <td>59.093210</td>\n",
       "    </tr>\n",
       "    <tr>\n",
       "      <th>178</th>\n",
       "      <td>LeBron James</td>\n",
       "      <td>55</td>\n",
       "      <td>24.475524</td>\n",
       "      <td>32.244318</td>\n",
       "      <td>18.142801</td>\n",
       "      <td>35.654150</td>\n",
       "      <td>27.363636</td>\n",
       "      <td>4</td>\n",
       "      <td>74.862644</td>\n",
       "    </tr>\n",
       "    <tr>\n",
       "      <th>102</th>\n",
       "      <td>Joel Embiid</td>\n",
       "      <td>64</td>\n",
       "      <td>23.885091</td>\n",
       "      <td>13.592007</td>\n",
       "      <td>28.471496</td>\n",
       "      <td>25.467250</td>\n",
       "      <td>27.515625</td>\n",
       "      <td>2</td>\n",
       "      <td>65.948594</td>\n",
       "    </tr>\n",
       "  </tbody>\n",
       "</table>\n",
       "</div>"
      ],
      "text/plain": [
       "           Player   G        PTS        AST         RB     Salary  PTS_TOGAME  \\\n",
       "138  James Harden  78  31.719232  35.437833  15.774408  30.431854   36.128205   \n",
       "38   Devin Booker  64  24.709302  28.308054  10.249072   3.314365   26.562500   \n",
       "120   Paul George  77  24.488176  17.649018  16.956017  30.560700   28.038961   \n",
       "178  LeBron James  55  24.475524  32.244318  18.142801  35.654150   27.363636   \n",
       "102   Joel Embiid  64  23.885091  13.592007  28.471496  25.467250   27.515625   \n",
       "\n",
       "    AgeCategory        SUM  \n",
       "138           3  82.931472  \n",
       "38            1  63.266429  \n",
       "120           3  59.093210  \n",
       "178           4  74.862644  \n",
       "102           2  65.948594  "
      ]
     },
     "execution_count": 39,
     "metadata": {},
     "output_type": "execute_result"
    }
   ],
   "source": [
    "PlayerRatioGroup = PlayerRatioGroup[['Player','G',\"PTS\", \"AST\", 'RB',\"Salary\",'PTS_TOGAME','AgeCategory']]\n",
    "PlayerRatioGroup['SUM'] = PlayerRatioGroup.PTS + PlayerRatioGroup.AST + PlayerRatioGroup.RB\n",
    "\n",
    "PlayerRatioGroup.sort_values('PTS', ascending=False).head()"
   ]
  },
  {
   "cell_type": "code",
   "execution_count": 40,
   "metadata": {},
   "outputs": [
    {
     "data": {
      "text/plain": [
       "array([[<matplotlib.axes._subplots.AxesSubplot object at 0x0000013F5D7E4F08>,\n",
       "        <matplotlib.axes._subplots.AxesSubplot object at 0x0000013F5D81EDC8>,\n",
       "        <matplotlib.axes._subplots.AxesSubplot object at 0x0000013F5D8CD1C8>,\n",
       "        <matplotlib.axes._subplots.AxesSubplot object at 0x0000013F5D92B4C8>],\n",
       "       [<matplotlib.axes._subplots.AxesSubplot object at 0x0000013F5D963348>,\n",
       "        <matplotlib.axes._subplots.AxesSubplot object at 0x0000013F5D998D08>,\n",
       "        <matplotlib.axes._subplots.AxesSubplot object at 0x0000013F5D9D5748>,\n",
       "        <matplotlib.axes._subplots.AxesSubplot object at 0x0000013F5DA0E748>],\n",
       "       [<matplotlib.axes._subplots.AxesSubplot object at 0x0000013F5DA46888>,\n",
       "        <matplotlib.axes._subplots.AxesSubplot object at 0x0000013F5EA4D9C8>,\n",
       "        <matplotlib.axes._subplots.AxesSubplot object at 0x0000013F5EA86A88>,\n",
       "        <matplotlib.axes._subplots.AxesSubplot object at 0x0000013F5EABFB48>],\n",
       "       [<matplotlib.axes._subplots.AxesSubplot object at 0x0000013F5EAF8C88>,\n",
       "        <matplotlib.axes._subplots.AxesSubplot object at 0x0000013F5EB33D88>,\n",
       "        <matplotlib.axes._subplots.AxesSubplot object at 0x0000013F5EB6DE88>,\n",
       "        <matplotlib.axes._subplots.AxesSubplot object at 0x0000013F5EBA5FC8>]],\n",
       "      dtype=object)"
      ]
     },
     "execution_count": 40,
     "metadata": {},
     "output_type": "execute_result"
    },
    {
     "data": {
      "image/png": "[encoded data removed]",
      "text/plain": [
       "<Figure size 720x432 with 16 Axes>"
      ]
     },
     "metadata": {},
     "output_type": "display_data"
    }
   ],
   "source": [
    "scatter_matrix(PlayerRatioGroup[[\"PTS\", \"AST\", 'RB',\"Salary\"]], alpha = 0.5, figsize=(10, 6))"
   ]
  },
  {
   "cell_type": "code",
   "execution_count": 41,
   "metadata": {},
   "outputs": [
    {
     "data": {
      "text/plain": [
       "G            -0.018524\n",
       "RB            0.294946\n",
       "AST           0.389425\n",
       "PTS           0.478178\n",
       "PTS_TOGAME    0.492568\n",
       "SUM           0.550314\n",
       "Salary        1.000000\n",
       "Name: Salary, dtype: float64"
      ]
     },
     "execution_count": 41,
     "metadata": {},
     "output_type": "execute_result"
    }
   ],
   "source": [
    "PlayerRatioGroup[ PlayerRatioGroup.PTS_TOGAME >= 10].corr()[\"Salary\"].sort_values()"
   ]
  },
  {
   "cell_type": "code",
   "execution_count": 42,
   "metadata": {
    "scrolled": false
   },
   "outputs": [
    {
     "data": {
      "text/plain": [
       "(39, 17)"
      ]
     },
     "execution_count": 42,
     "metadata": {},
     "output_type": "execute_result"
    }
   ],
   "source": [
    "R1 = PlayerRatioGroup.sort_values('SUM', ascending=False).head(70)\n",
    "R2 = PlayerRatioGroup.sort_values('Salary', ascending=False).head(70)\n",
    "R3 = R1.merge(R2, on='Player')\n",
    "R3[['Player']].head()\n",
    "R3.shape"
   ]
  },
  {
   "cell_type": "code",
   "execution_count": 43,
   "metadata": {},
   "outputs": [
    {
     "data": {
      "text/plain": [
       "G             0.077588\n",
       "RB            0.438824\n",
       "AST           0.533078\n",
       "PTS           0.632726\n",
       "PTS_TOGAME    0.641002\n",
       "SUM           0.670344\n",
       "Salary        1.000000\n",
       "Name: Salary, dtype: float64"
      ]
     },
     "execution_count": 43,
     "metadata": {},
     "output_type": "execute_result"
    }
   ],
   "source": [
    "PlayerRatioGroup[ PlayerRatioGroup.G >= 53].corr()[\"Salary\"].sort_values()"
   ]
  },
  {
   "cell_type": "code",
   "execution_count": 44,
   "metadata": {},
   "outputs": [],
   "source": [
    "PlayerRatioGroup = PlayerRatioGroup[ PlayerRatioGroup.G >= 53]"
   ]
  },
  {
   "cell_type": "code",
   "execution_count": 46,
   "metadata": {},
   "outputs": [],
   "source": [
    "# PRG_corr = PlayerRatioGroup._get_numeric_data() \n",
    "\n",
    "# mask = np.zeros_like(PRG_corr.corr(),dtype=np.bool)\n",
    "# mask[np.triu_indices_from(mask)] = True\n",
    "# cmap =  sns.palplot(sns.diverging_palette(150, 275, s=80, l=55, n=9))\n",
    "\n",
    "# plt.figure(figsize=(20,10))\n",
    "# sns.heatmap(PRG_corr.corr(),cmap=cmap,annot=True,mask = mask,square = True)\n",
    "# plt.show()"
   ]
  },
  {
   "cell_type": "code",
   "execution_count": null,
   "metadata": {},
   "outputs": [],
   "source": [
    "plt.rcParams['figure.figsize'] = (10, 6)\n",
    "plt.scatter(x=PlayerRatioGroup['AST'],y=PlayerRatioGroup['Salary'],c='w',label='AST')\n",
    "#plt.scatter(x=PlayerRatioGroup['SUM'],y=PlayerRatioGroup['Salary'],c='k',label='SUM')\n",
    "plt.scatter(x=PlayerRatioGroup['PTS'],y=PlayerRatioGroup['Salary'],c='b',label='PTS')\n",
    "plt.scatter(x=PlayerRatioGroup['RB'],y=PlayerRatioGroup['Salary'],c='g',label='RB')\n",
    "\n",
    "plt.plot(PlayerRatioGroup['AST'], sm.ols(formula=\"Salary ~ AST\", data=PlayerRatioGroup).fit().predict(),c='w',linewidth=3)\n",
    "plt.plot(PlayerRatioGroup['PTS'], sm.ols(formula=\"Salary ~ PTS\", data=PlayerRatioGroup).fit().predict(),c='b',linewidth=3)\n",
    "plt.plot(PlayerRatioGroup['RB'],  sm.ols(formula=\"Salary ~ RB\", data=PlayerRatioGroup).fit().predict(),c='g',linewidth=3)\n",
    "\n",
    "plt.legend(numpoints=1,loc=4)\n",
    "plt.ylabel('Salary')\n",
    "plt.show()"
   ]
  },
  {
   "cell_type": "code",
   "execution_count": null,
   "metadata": {},
   "outputs": [],
   "source": [
    "sm.ols(formula=\"Salary ~ SUM\", data=PlayerRatioGroup).fit().summary()"
   ]
  },
  {
   "cell_type": "code",
   "execution_count": null,
   "metadata": {},
   "outputs": [],
   "source": [
    "PlayerRatioGroup[['SUM','Salary']].corr()[\"Salary\"].sort_values()"
   ]
  },
  {
   "cell_type": "code",
   "execution_count": null,
   "metadata": {},
   "outputs": [],
   "source": [
    "plt.scatter(x=PlayerRatioGroup['SUM'],y=PlayerRatioGroup['Salary'],c='r',label='SUM')\n",
    "plt.plot(PlayerRatioGroup['SUM'], sm.ols(formula=\"Salary ~ SUM\", data=PlayerRatioGroup).fit().predict(),c='b',linewidth=7)\n",
    "\n",
    "plt.legend(numpoints=1,loc=4)\n",
    "plt.ylabel('Salary')\n",
    "plt.show()"
   ]
  },
  {
   "cell_type": "markdown",
   "metadata": {},
   "source": [
    "# [0, 23 ,26, 30, 43]"
   ]
  },
  {
   "cell_type": "code",
   "execution_count": 47,
   "metadata": {},
   "outputs": [
    {
     "data": {
      "text/plain": [
       "<matplotlib.axes._subplots.AxesSubplot at 0x13f5efda6c8>"
      ]
     },
     "execution_count": 47,
     "metadata": {},
     "output_type": "execute_result"
    },
    {
     "data": {
      "image/png": "[encoded data removed]",
      "text/plain": [
       "<Figure size 720x432 with 1 Axes>"
      ]
     },
     "metadata": {},
     "output_type": "display_data"
    }
   ],
   "source": [
    "PlayerRatioGroup['AgeCategory'].value_counts().plot.bar()"
   ]
  },
  {
   "cell_type": "code",
   "execution_count": 48,
   "metadata": {
    "scrolled": false
   },
   "outputs": [
    {
     "name": "stderr",
     "output_type": "stream",
     "text": [
      "C:\\Users\\dudi9\\Anaconda3\\lib\\site-packages\\matplotlib\\cbook\\__init__.py:1402: FutureWarning: Support for multi-dimensional indexing (e.g. `obj[:, None]`) is deprecated and will be removed in a future version.  Convert to a numpy array before indexing instead.\n",
      "  x[:, None]\n",
      "C:\\Users\\dudi9\\Anaconda3\\lib\\site-packages\\matplotlib\\axes\\_base.py:276: FutureWarning: Support for multi-dimensional indexing (e.g. `obj[:, None]`) is deprecated and will be removed in a future version.  Convert to a numpy array before indexing instead.\n",
      "  x = x[:, np.newaxis]\n"
     ]
    },
    {
     "data": {
      "image/png": "[encoded data removed]",
      "text/plain": [
       "<Figure size 720x360 with 1 Axes>"
      ]
     },
     "metadata": {},
     "output_type": "display_data"
    },
    {
     "data": {
      "image/png": "[encoded data removed]",
      "text/plain": [
       "<Figure size 720x360 with 1 Axes>"
      ]
     },
     "metadata": {},
     "output_type": "display_data"
    },
    {
     "data": {
      "image/png": "[encoded data removed]",
      "text/plain": [
       "<Figure size 720x360 with 1 Axes>"
      ]
     },
     "metadata": {},
     "output_type": "display_data"
    },
    {
     "data": {
      "image/png": "[encoded data removed]",
      "text/plain": [
       "<Figure size 720x360 with 1 Axes>"
      ]
     },
     "metadata": {},
     "output_type": "display_data"
    },
    {
     "data": {
      "image/png": "[encoded data removed]",
      "text/plain": [
       "<Figure size 720x360 with 1 Axes>"
      ]
     },
     "metadata": {},
     "output_type": "display_data"
    }
   ],
   "source": [
    "f,ax= plt.subplots(figsize=(10,5))# 3 כתום# 1 שחור\n",
    "\n",
    "plt.scatter(x=PlayerRatioGroup['SUM'],y=PlayerRatioGroup['Salary'], c=PlayerRatioGroup['AgeCategory']  ,label='SUM')\n",
    "plt.plot(PlayerRatioGroup['SUM'], sm.ols(formula=\"Salary ~ SUM\", data=PlayerRatioGroup).fit().predict(),linewidth=7)\n",
    "plt.grid(True)\n",
    "plt.legend(numpoints=1,loc=4)\n",
    "plt.title(\"TO AGE\")\n",
    "plt.ylabel('Salary')\n",
    "plt.xlabel('Dominant and significant to the group')\n",
    "plt.show()\n",
    "# bins = [0, 23 ,26, 30, 43]\n",
    "\n",
    "f,ax= plt.subplots(figsize=(10,5))\n",
    "plt.scatter(x=PlayerRatioGroup[PlayerRatioGroup.AgeCategory ==1]['SUM']\n",
    "        ,y=PlayerRatioGroup[PlayerRatioGroup.AgeCategory ==1]['Salary'] ,c='r'    ,label='SUM')\n",
    "plt.plot(PlayerRatioGroup['SUM'], sm.ols(formula=\"Salary ~ SUM\", data=PlayerRatioGroup).fit().predict(),linewidth=7)\n",
    "\n",
    "plt.title(\"TO AGE 19 - 23\")\n",
    "plt.ylabel('Salary')\n",
    "plt.xlabel('Dominant and significant to the group')\n",
    "plt.grid(True)\n",
    "plt.show()\n",
    "\n",
    "f,ax= plt.subplots(figsize=(10,5))\n",
    "\n",
    "plt.scatter(x=PlayerRatioGroup[PlayerRatioGroup.AgeCategory ==2]['SUM']\n",
    "        ,y=PlayerRatioGroup[PlayerRatioGroup.AgeCategory ==2]['Salary']  ,c='g'   ,label='SUM')\n",
    "plt.plot(PlayerRatioGroup['SUM'], sm.ols(formula=\"Salary ~ SUM\", data=PlayerRatioGroup).fit().predict(),linewidth=7)\n",
    "plt.title(\"TO AGE 23 - 26\")\n",
    "plt.ylabel('Salary')\n",
    "plt.xlabel('Dominant and significant to the group')\n",
    "plt.grid(True)\n",
    "plt.show()\n",
    "\n",
    "f,ax= plt.subplots(figsize=(10,5))\n",
    "\n",
    "plt.scatter(x=PlayerRatioGroup[PlayerRatioGroup.AgeCategory ==3]['SUM']\n",
    "        ,y=PlayerRatioGroup[PlayerRatioGroup.AgeCategory ==3]['Salary'] ,c='r'    ,label='SUM')\n",
    "plt.plot(PlayerRatioGroup['SUM'], sm.ols(formula=\"Salary ~ SUM\", data=PlayerRatioGroup).fit().predict(),linewidth=7)\n",
    "plt.title(\"TO AGE 26 - 30\")\n",
    "plt.ylabel('Salary')\n",
    "plt.xlabel('Dominant and significant to the group')\n",
    "plt.grid(True)\n",
    "plt.show()\n",
    "\n",
    "f,ax= plt.subplots(figsize=(10,5))\n",
    "\n",
    "plt.scatter(x=PlayerRatioGroup[PlayerRatioGroup.AgeCategory ==4]['SUM']\n",
    "        ,y=PlayerRatioGroup[PlayerRatioGroup.AgeCategory ==4]['Salary'] , c='g'     ,label='SUM')\n",
    "plt.plot(PlayerRatioGroup['SUM'], sm.ols(formula=\"Salary ~ SUM\", data=PlayerRatioGroup).fit().predict(),linewidth=7)\n",
    "plt.title(\"TO AGE 30 - 43\")\n",
    "plt.ylabel('Salary')\n",
    "plt.xlabel('Dominant and significant to the group')\n",
    "plt.grid(True)\n",
    "plt.show()"
   ]
  },
  {
   "cell_type": "markdown",
   "metadata": {},
   "source": [
    "#  2.2  מכונה \n",
    "#  SUM SALARY PlayerRatioGroup  "
   ]
  },
  {
   "cell_type": "code",
   "execution_count": null,
   "metadata": {},
   "outputs": [],
   "source": [
    "X = PlayerRatioGroup[['SUM']].values\n",
    "y = PlayerRatioGroup['Salary'].values"
   ]
  },
  {
   "cell_type": "code",
   "execution_count": null,
   "metadata": {},
   "outputs": [],
   "source": [
    "X_train, X_test, y_train, y_test = train_test_split(X, y, test_size=0.25)"
   ]
  },
  {
   "cell_type": "code",
   "execution_count": null,
   "metadata": {},
   "outputs": [],
   "source": [
    "# model = Sequential()\n",
    "\n",
    "# model.add(Dense(1, input_shape=(1,)))\n",
    "\n",
    "# model.add(Activation('linear'))\n",
    "# model.summary()"
   ]
  },
  {
   "cell_type": "code",
   "execution_count": null,
   "metadata": {},
   "outputs": [],
   "source": [
    "# model.compile(Adam(lr = 50), loss='mean_squared_error')"
   ]
  },
  {
   "cell_type": "code",
   "execution_count": null,
   "metadata": {},
   "outputs": [],
   "source": [
    "# es = EarlyStopping(monitor='val_loss',min_delta=0, patience=10,verbose=2, mode='auto')"
   ]
  },
  {
   "cell_type": "code",
   "execution_count": null,
   "metadata": {},
   "outputs": [],
   "source": [
    "# model.fit(X_train,  y_train,  epochs= 900,\n",
    "#           validation_data=(X_test,y_test), callbacks=[es])"
   ]
  },
  {
   "cell_type": "code",
   "execution_count": null,
   "metadata": {},
   "outputs": [],
   "source": [
    "# W, B = model.get_weights()\n",
    "\n",
    "# print('The slope of the regression line: %.2f' % (W))#שיפוע\n",
    "# print('The intercept for the regression line: %.2f' % (B))"
   ]
  },
  {
   "cell_type": "code",
   "execution_count": null,
   "metadata": {},
   "outputs": [],
   "source": [
    "y_pred = model.predict(X_test)"
   ]
  },
  {
   "cell_type": "code",
   "execution_count": null,
   "metadata": {},
   "outputs": [],
   "source": [
    "plt.plot(PlayerRatioGroup['SUM'], PlayerRatioGroup['Salary'], 'o')\n",
    "plt.ylabel('Salary')\n",
    "plt.xlabel('Ratio Group SUM')\n",
    "plt.title('Player Ratio Group SUM vs Salary')\n",
    "\n",
    "plt.plot(X_test , y_pred, linewidth=5)"
   ]
  },
  {
   "cell_type": "code",
   "execution_count": null,
   "metadata": {},
   "outputs": [],
   "source": [
    "test_score = r2_score(y_test, y_pred)\n",
    "print('R-squared for the test set: %.2f' % (test_score))"
   ]
  },
  {
   "cell_type": "code",
   "execution_count": null,
   "metadata": {},
   "outputs": [],
   "source": [
    "plt.plot(PlayerRatioGroup['SUM'] , PlayerRatioGroup['Salary'], 'o')\n",
    "plt.ylabel('Salary')\n",
    "plt.title('Player Ratio Group PTS vs Salary')\n",
    "plt.plot(X_test,y_pred,color='black',linewidth=3 )"
   ]
  },
  {
   "cell_type": "code",
   "execution_count": null,
   "metadata": {},
   "outputs": [],
   "source": [
    "#הערך בריבוע R נמוך יותר עבור ערכת הבדיקה מאשר עבור מערך הרכבות (0.39 <0.45) כך שנראה שהמודל מתאים לסט הרכבת\n",
    "y_pred_train = model.predict(X_train)\n",
    "\n",
    "train_score = r2_score(y_train, y_pred_train)\n",
    "print('R-squared for the train set: %.2f' % (train_score))"
   ]
  },
  {
   "cell_type": "code",
   "execution_count": null,
   "metadata": {},
   "outputs": [],
   "source": [
    "y_pred_all = model.predict(X)\n",
    "\n",
    "score = r2_score(y, y_pred_all)\n",
    "print('R-squared for all of the data: %.2f' % (score))"
   ]
  },
  {
   "cell_type": "code",
   "execution_count": null,
   "metadata": {},
   "outputs": [],
   "source": [
    "y_test_f32 = y_test.astype('float32').reshape(56)\n",
    "y_pred_f32 = y_pred.astype('float32').reshape(56)\n",
    "corr, p_value = pearsonr(y_pred_f32 , y_test_f32)\n",
    "print('P-value for the test set: ' + str(p_value))"
   ]
  },
  {
   "cell_type": "markdown",
   "metadata": {},
   "source": [
    "# 2.3\n",
    "# חיזוי שכר באמצעות למידת מכונה ומודל לינארי מרובה משתנים"
   ]
  },
  {
   "cell_type": "code",
   "execution_count": null,
   "metadata": {},
   "outputs": [],
   "source": [
    "PlayerRatioGroup.corr()['Salary'].sort_values()"
   ]
  },
  {
   "cell_type": "code",
   "execution_count": null,
   "metadata": {},
   "outputs": [],
   "source": [
    "PlayerRatioGroup[ PlayerRatioGroup.Salary > 5].corr()[\"Salary\"].sort_values()"
   ]
  },
  {
   "cell_type": "code",
   "execution_count": null,
   "metadata": {},
   "outputs": [],
   "source": [
    "plt.plot(PlayerRatioGroup['PTS_TOGAME'], PlayerRatioGroup['Salary'], 'o')\n",
    "plt.ylabel('Salary')"
   ]
  },
  {
   "cell_type": "code",
   "execution_count": null,
   "metadata": {},
   "outputs": [],
   "source": [
    "plt.plot(PlayerRatioGroup['PTS'], PlayerRatioGroup['Salary'], 'o')\n",
    "plt.ylabel('Salary')"
   ]
  },
  {
   "cell_type": "code",
   "execution_count": null,
   "metadata": {},
   "outputs": [],
   "source": [
    "plt.plot(PlayerRatioGroup['AST'], PlayerRatioGroup['Salary'], 'o')\n",
    "plt.ylabel('Salary')"
   ]
  },
  {
   "cell_type": "code",
   "execution_count": null,
   "metadata": {},
   "outputs": [],
   "source": [
    "X = PlayerRatioGroup[['PTS','SUM','PTS_TOGAME']]\n",
    "y = PlayerRatioGroup['Salary']"
   ]
  },
  {
   "cell_type": "code",
   "execution_count": null,
   "metadata": {},
   "outputs": [],
   "source": [
    "X_train, X_test, y_train, y_test = train_test_split(X, y, test_size=0.33)"
   ]
  },
  {
   "cell_type": "code",
   "execution_count": null,
   "metadata": {},
   "outputs": [],
   "source": [
    "model = Sequential()\n",
    "\n",
    "model.add(Dense(1, input_shape=(3,)))\n",
    "\n",
    "model.add(Activation('linear'))"
   ]
  },
  {
   "cell_type": "code",
   "execution_count": null,
   "metadata": {},
   "outputs": [],
   "source": [
    "model.summary()"
   ]
  },
  {
   "cell_type": "code",
   "execution_count": null,
   "metadata": {},
   "outputs": [],
   "source": [
    "model.compile(Adam(lr=20), 'mean_squared_error')"
   ]
  },
  {
   "cell_type": "code",
   "execution_count": null,
   "metadata": {},
   "outputs": [],
   "source": [
    "es = EarlyStopping(monitor='val_loss',\n",
    "                   min_delta=0, patience=10,\n",
    "                   verbose=2, mode='auto')"
   ]
  },
  {
   "cell_type": "code",
   "execution_count": null,
   "metadata": {},
   "outputs": [],
   "source": [
    "model.fit(X_train, y_train,\n",
    "          batch_size=32,  epochs=1500,\n",
    "          validation_data=(X_test,y_test), callbacks=[es])"
   ]
  },
  {
   "cell_type": "code",
   "execution_count": null,
   "metadata": {},
   "outputs": [],
   "source": [
    "(W1, W2, W3), B = model.get_weights()\n",
    "X_test.head(3)"
   ]
  },
  {
   "cell_type": "code",
   "execution_count": null,
   "metadata": {},
   "outputs": [],
   "source": [
    "X_test.loc[0]"
   ]
  },
  {
   "cell_type": "code",
   "execution_count": null,
   "metadata": {},
   "outputs": [],
   "source": [
    "y_test.loc[0]"
   ]
  },
  {
   "cell_type": "code",
   "execution_count": null,
   "metadata": {},
   "outputs": [],
   "source": [
    "y_pred7 = 12.096070 * W1 + 38.470521 * W2 + 15.689300 * W3 + 38.470521* W3 + B\n",
    "y_pred7[0]"
   ]
  },
  {
   "cell_type": "code",
   "execution_count": null,
   "metadata": {},
   "outputs": [],
   "source": []
  },
  {
   "cell_type": "code",
   "execution_count": null,
   "metadata": {},
   "outputs": [],
   "source": [
    "y_pred = model.predict(X_test)"
   ]
  },
  {
   "cell_type": "code",
   "execution_count": null,
   "metadata": {
    "scrolled": true
   },
   "outputs": [],
   "source": [
    "slope, intercept, r_value, p_value, std_err = stats.linregress(y_test.values.reshape(74), y_pred.reshape(74))\n",
    "\n",
    "idx = ['slope', 'intercept', 'r_value', 'p_value', 'std_err']\n",
    "data = np.array([slope, intercept, r_value, p_value, std_err])\n",
    "fd = pd.DataFrame(data = data, index = idx , columns = ['values'])\n",
    "fd\n",
    "#ערך r של  אומר לנו שהמודל מצליח להסביר 67% מהשונות בתוצאות.\n",
    "#ערך p שואף לאפס, מלמד שהקשר אותו מתאר המודל הוא מובהק ביותר, ואינו מקרי."
   ]
  },
  {
   "cell_type": "code",
   "execution_count": null,
   "metadata": {},
   "outputs": [],
   "source": [
    "# משוואת הישר \n",
    "predict_line = lambda S: 4.309718e-01 * y_test + 4.056186e+00"
   ]
  },
  {
   "cell_type": "code",
   "execution_count": null,
   "metadata": {},
   "outputs": [],
   "source": [
    "two_pts_for_the_line = np.array([y_test.min(), y_test.max()])\n",
    "\n",
    "predicted_line = predict_line(two_pts_for_the_line)"
   ]
  },
  {
   "cell_type": "code",
   "execution_count": null,
   "metadata": {},
   "outputs": [],
   "source": [
    "plt.plot(y_test, y_pred, 'bo')\n",
    "plt.plot(y_test, predicted_line, c='RED')\n",
    "plt.xlabel(\"\")\n",
    "\n",
    "plt.tight_layout()"
   ]
  },
  {
   "cell_type": "code",
   "execution_count": null,
   "metadata": {},
   "outputs": [],
   "source": [
    "#מידת הסטייה בין התחזית למחירים בפועל\n",
    "print('MAE: %.2f' % metrics.mean_absolute_error(y_test, y_pred))\n",
    "print('MSE: %.2f' % metrics.mean_squared_error(y_test, y_pred))\n",
    "print('RMSE: %.2f'% np.sqrt(metrics.mean_squared_error(y_test, y_pred)))\n",
    "#אומר שגיאה מוחלטת\n",
    "#משמעותם של מדדים היא שגיאה בריבוע"
   ]
  },
  {
   "cell_type": "code",
   "execution_count": null,
   "metadata": {},
   "outputs": [],
   "source": [
    "model1 = LinearRegression()\n",
    "\n",
    "model1.fit(X_train,y_train)"
   ]
  },
  {
   "cell_type": "code",
   "execution_count": null,
   "metadata": {},
   "outputs": [],
   "source": [
    "y_pred = model1.predict(X_test)"
   ]
  },
  {
   "cell_type": "code",
   "execution_count": null,
   "metadata": {},
   "outputs": [],
   "source": [
    "#חישוב רגרסיה לינארית פחות ריבועית לשתי קבוצות של מדידות.\n",
    "slope, intercept, r_value, p_value, std_err = stats.linregress(y_test, y_pred)\n",
    "\n",
    "idx = ['slope', 'intercept', 'r_value', 'p_value', 'std_err']\n",
    "data = np.array([slope, intercept, r_value, p_value, std_err])\n",
    "\n",
    "pd.DataFrame(data = data, index = idx , columns = ['values'])"
   ]
  },
  {
   "cell_type": "code",
   "execution_count": null,
   "metadata": {},
   "outputs": [],
   "source": [
    "predict_line = lambda S: 4.796025e-01 * y_test + 4.530588e+00\n",
    "\n",
    "two_pts_for_the_line = np.array([y_test.min(), y_test.max()])\n",
    "\n",
    "predicted_line = predict_line(two_pts_for_the_line)"
   ]
  },
  {
   "cell_type": "code",
   "execution_count": null,
   "metadata": {},
   "outputs": [],
   "source": [
    "plt.plot(y_test, y_pred, 'bo')\n",
    "plt.plot(y_test, predicted_line, c='RED')\n",
    "plt.xlabel(\"\")\n",
    "\n",
    "plt.tight_layout()"
   ]
  },
  {
   "cell_type": "markdown",
   "metadata": {},
   "source": [
    "# 3.1\n",
    "# Linear Regression"
   ]
  },
  {
   "cell_type": "markdown",
   "metadata": {},
   "source": [
    "# \"MDD\", \"PTS\", \"Salary\""
   ]
  },
  {
   "cell_type": "code",
   "execution_count": null,
   "metadata": {
    "scrolled": false
   },
   "outputs": [],
   "source": [
    "scatter_matrix(df[[\"MDD\", \"PTS\", \"Salary\"]], alpha = 1, figsize=(13, 6 ))"
   ]
  },
  {
   "cell_type": "code",
   "execution_count": null,
   "metadata": {},
   "outputs": [],
   "source": [
    "df.corr()[\"Salary\"].sort_values().tail(8)"
   ]
  },
  {
   "cell_type": "code",
   "execution_count": null,
   "metadata": {},
   "outputs": [],
   "source": [
    "df.corr()[\"MDD\"].sort_values().tail(15)"
   ]
  },
  {
   "cell_type": "code",
   "execution_count": null,
   "metadata": {
    "scrolled": false
   },
   "outputs": [],
   "source": [
    "plt.scatter(x=df['MDD'],y=df['Salary'],c='b',marker='o',label='MDD')\n",
    "plt.scatter(x=df['PTS'],y=df['Salary'],c='k',marker='*',label='PTS')\n",
    "\n",
    "plt.legend(numpoints=1,loc=4)\n",
    "plt.xlabel('MDD || PTS')\n",
    "plt.ylabel('Salary')\n",
    "plt.show()"
   ]
  },
  {
   "cell_type": "code",
   "execution_count": null,
   "metadata": {},
   "outputs": [],
   "source": [
    "ols1 = sm.ols(formula=\"Salary ~ MDD\", data=df).fit()\n",
    "ols1.summary()"
   ]
  },
  {
   "cell_type": "code",
   "execution_count": null,
   "metadata": {},
   "outputs": [],
   "source": [
    "ols2 = sm.ols(formula=\"Salary ~ PTS\", data=df).fit()\n",
    "ols2.summary()"
   ]
  },
  {
   "cell_type": "code",
   "execution_count": null,
   "metadata": {},
   "outputs": [],
   "source": [
    "plt.scatter(x=df['MDD'],y=df['Salary'],c='b',marker='o',label='MDD')\n",
    "plt.scatter(x=df['PTS'],y=df['Salary'],c='k',marker='*',label='PTS')\n",
    "plt.legend(numpoints=1,loc=4)\n",
    "\n",
    "\n",
    "plt.plot(df['MDD'],ols1.predict(),c='b',linewidth=3)\n",
    "plt.plot(df['PTS'],ols2.predict(),c='k',linewidth=3)\n",
    "\n",
    "plt.xlabel('MDD')\n",
    "plt.ylabel('Salary')\n",
    "plt.show()"
   ]
  },
  {
   "cell_type": "markdown",
   "metadata": {},
   "source": [
    "# 3.2\n",
    "# Multiple Linear Regression"
   ]
  },
  {
   "cell_type": "code",
   "execution_count": null,
   "metadata": {},
   "outputs": [],
   "source": [
    "ols3 = sm.ols(formula=\"Salary ~ MDD +  PTS\", data=df).fit()\n",
    "ols3.summary()"
   ]
  },
  {
   "cell_type": "code",
   "execution_count": null,
   "metadata": {},
   "outputs": [],
   "source": [
    "ols4 = sm.ols(formula=\"Salary ~ MDD +  PTS + MDD * PTS\", data=df).fit()\n",
    "ols4.summary()"
   ]
  },
  {
   "cell_type": "markdown",
   "metadata": {},
   "source": [
    "# 3.3  MDD"
   ]
  },
  {
   "cell_type": "code",
   "execution_count": null,
   "metadata": {},
   "outputs": [],
   "source": [
    "plt.scatter(x=df['AST'],y=df['MDD'],c='r',marker='s',label='AST')\n",
    "plt.scatter(x=df['TRB'],y=df['MDD'],c='b',marker='o',label='TRB')\n",
    "plt.scatter(x=df['PTS'],y=df['MDD'],c='k',marker='*',label='PTS')\n",
    "\n",
    "plt.legend(numpoints=1,loc=4)\n",
    "plt.xlabel('AST || TRB || PTS')\n",
    "plt.ylabel('MDD ')\n",
    "plt.show()"
   ]
  },
  {
   "cell_type": "code",
   "execution_count": null,
   "metadata": {},
   "outputs": [],
   "source": [
    "ols = sm.ols(formula=\"MDD ~ PTS\", data=df).fit()\n",
    "ols.summary()"
   ]
  },
  {
   "cell_type": "code",
   "execution_count": null,
   "metadata": {},
   "outputs": [],
   "source": [
    "plt.scatter(x=df['PTS'],y=df['MDD'],c='k',marker='*',label='PTS')\n",
    "plt.plot(df['PTS'], ols.predict(),'k',color='blue',linewidth=2)\n",
    "\n",
    "plt.xlabel('PTS')\n",
    "plt.ylabel('MDD')\n",
    "plt.show()"
   ]
  },
  {
   "cell_type": "code",
   "execution_count": null,
   "metadata": {},
   "outputs": [],
   "source": [
    "ols2 = sm.ols(formula=\"MDD ~ TRB\", data=df).fit()\n",
    "ols2.summary()"
   ]
  },
  {
   "cell_type": "code",
   "execution_count": null,
   "metadata": {},
   "outputs": [],
   "source": [
    "plt.scatter(x=df['TRB'],y=df['MDD'],c='k',marker='*',label='TRB')\n",
    "plt.plot(df['TRB'], ols2.predict(),'k',color='blue',linewidth=1.5)\n",
    "\n",
    "plt.xlabel('TRB')\n",
    "plt.ylabel('MDD')\n",
    "plt.show()"
   ]
  },
  {
   "cell_type": "code",
   "execution_count": null,
   "metadata": {},
   "outputs": [],
   "source": [
    "ols1 = sm.ols(formula=\"MDD ~ AST \", data=df).fit()\n",
    "ols2 = sm.ols(formula=\"MDD ~ TRB \", data=df).fit()\n",
    "ols3 = sm.ols(formula=\"MDD ~ PTS \", data=df).fit()\n",
    "\n",
    "plt.scatter(x=df['AST'],y=df['MDD'],c='r',marker='s',label='AST')\n",
    "plt.scatter(x=df['TRB'],y=df['MDD'],c='b',marker='o',label='TRB')\n",
    "plt.scatter(x=df['PTS'],y=df['MDD'],c='k',marker='*',label='PTS')\n",
    "plt.legend(numpoints=1,loc=4)\n",
    "\n",
    "plt.plot(df['AST'], ols1.predict(),c='r',linewidth=2)\n",
    "plt.plot(df['TRB'], ols2.predict(),c='b',linewidth=2)\n",
    "plt.plot(df['PTS'], ols3.predict(),c='k',linewidth=2)\n",
    "\n",
    "plt.xlabel('')\n",
    "plt.ylabel(' ')\n",
    "plt.show()\n"
   ]
  },
  {
   "cell_type": "code",
   "execution_count": null,
   "metadata": {},
   "outputs": [],
   "source": [
    "all_ols = sm.ols(formula=\"MDD ~ PTS + TRB \", data=df).fit()\n",
    "all_ols.summary()"
   ]
  },
  {
   "cell_type": "markdown",
   "metadata": {},
   "source": [
    "# 4.1\n",
    "# TEAM ~~~ playoffs"
   ]
  },
  {
   "cell_type": "code",
   "execution_count": null,
   "metadata": {},
   "outputs": [],
   "source": [
    "TEAM = TEAM.drop(columns=['Tm','W','L','MIN','GP'])"
   ]
  },
  {
   "cell_type": "code",
   "execution_count": null,
   "metadata": {},
   "outputs": [],
   "source": [
    "TEAM.describe()"
   ]
  },
  {
   "cell_type": "code",
   "execution_count": null,
   "metadata": {},
   "outputs": [],
   "source": [
    "TEAM['playoffs'] = np.where(TEAM['WIN%'] >= 0.5, 1 , 0)"
   ]
  },
  {
   "cell_type": "code",
   "execution_count": null,
   "metadata": {},
   "outputs": [],
   "source": [
    "TEAM.sample(2)"
   ]
  },
  {
   "cell_type": "code",
   "execution_count": null,
   "metadata": {
    "scrolled": false
   },
   "outputs": [],
   "source": [
    "TEAM.plot.scatter(x='P3P',y='playoffs',s=55)"
   ]
  },
  {
   "cell_type": "code",
   "execution_count": null,
   "metadata": {},
   "outputs": [],
   "source": [
    "model1 = sm.logit(formula=\" playoffs ~ P3P \", data=TEAM).fit()\n",
    "model1.summary()"
   ]
  },
  {
   "cell_type": "code",
   "execution_count": null,
   "metadata": {},
   "outputs": [],
   "source": [
    "x = sc.linspace(-10,10,1000)\n",
    "logistic = lambda x: 1/(1+sc.exp(-x))\n",
    "\n",
    "TEAM.plot.scatter(x='P3P',y='playoffs',s=30)\n",
    "x = sc.linspace(TEAM['P3P'].min(),TEAM['P3P'].max(),1000)\n",
    "par = dict( model1.params)\n",
    "plt.plot(x,logistic(par['Intercept'] + par['P3P']*x),color='Red')\n",
    "plt.show()"
   ]
  },
  {
   "cell_type": "code",
   "execution_count": null,
   "metadata": {},
   "outputs": [],
   "source": [
    "logistic(par['Intercept'] + par['P3P'] * .35)"
   ]
  },
  {
   "cell_type": "code",
   "execution_count": null,
   "metadata": {},
   "outputs": [],
   "source": [
    "model2 = sm.logit(formula=\" playoffs ~ FGF \", data=TEAM).fit()\n",
    "model2.summary()"
   ]
  },
  {
   "cell_type": "code",
   "execution_count": null,
   "metadata": {},
   "outputs": [],
   "source": [
    "#logistic(par['Intercept'] + par['FGF'] * 0.04)\n",
    "model2.predict(pd.DataFrame({\"FGF\": [0.004]}))"
   ]
  },
  {
   "cell_type": "code",
   "execution_count": null,
   "metadata": {},
   "outputs": [],
   "source": [
    "TEAM.plot.scatter(x='FGF',y='playoffs',s=30)\n",
    "x = sc.linspace(TEAM['FGF'].min(),TEAM['FGF'].max(),1000)\n",
    "par = dict( model2.params)\n",
    "plt.plot(x,logistic(par['Intercept'] + par['FGF']*x),color='Red')\n",
    "plt.show()"
   ]
  },
  {
   "cell_type": "code",
   "execution_count": null,
   "metadata": {},
   "outputs": [],
   "source": [
    "TEAM['T_F'] = model1.predict()> 0.55\n",
    "pd.crosstab(index=TEAM[\"playoffs\"], columns=TEAM[\"T_F\"])"
   ]
  },
  {
   "cell_type": "code",
   "execution_count": null,
   "metadata": {},
   "outputs": [],
   "source": [
    "print(23/30)\n",
    "\n",
    "print(19/30)"
   ]
  },
  {
   "cell_type": "code",
   "execution_count": null,
   "metadata": {},
   "outputs": [],
   "source": [
    "TEAM['T_F'] = model1.predict()> 0.7\n",
    "pd.crosstab(index=TEAM[\"playoffs\"], columns=TEAM[\"T_F\"])"
   ]
  },
  {
   "cell_type": "code",
   "execution_count": null,
   "metadata": {},
   "outputs": [],
   "source": [
    "TEAM.plot.scatter(x='PTS',y='playoffs',s=40)"
   ]
  },
  {
   "cell_type": "code",
   "execution_count": null,
   "metadata": {},
   "outputs": [],
   "source": [
    "sm.logit(formula=\" playoffs ~ PTS \", data=TEAM).fit().summary()"
   ]
  },
  {
   "cell_type": "markdown",
   "metadata": {},
   "source": [
    "# 5.1\n",
    "# POS הבחנה בין קבוצות עמדות"
   ]
  },
  {
   "cell_type": "code",
   "execution_count": null,
   "metadata": {},
   "outputs": [],
   "source": [
    "#1\n",
    "plt.figure(figsize=(7,7))\n",
    "sns.set(style='ticks')\n",
    "sns.pairplot(df[['Pos','FT%','2P%','3P%','eFG%']],hue = 'Pos' )"
   ]
  },
  {
   "cell_type": "code",
   "execution_count": null,
   "metadata": {},
   "outputs": [],
   "source": [
    "P1 = df[['Pos','FT%','2P%','3P%','eFG%']]\n",
    "x = P1[['FT%','2P%','3P%','eFG%']].values\n",
    "y = P1[['Pos']].values"
   ]
  },
  {
   "cell_type": "code",
   "execution_count": null,
   "metadata": {},
   "outputs": [],
   "source": [
    "POS_names = np.unique(np.array(y))\n",
    "POS_names"
   ]
  },
  {
   "cell_type": "code",
   "execution_count": null,
   "metadata": {},
   "outputs": [],
   "source": [
    "names_dict = {k: v for v, k in enumerate(POS_names)}\n",
    "names_dict"
   ]
  },
  {
   "cell_type": "code",
   "execution_count": null,
   "metadata": {},
   "outputs": [],
   "source": [
    "s = pd.DataFrame(y)\n",
    "y_cat = pd.get_dummies(s)\n",
    "y_cat.sample(2)"
   ]
  },
  {
   "cell_type": "code",
   "execution_count": null,
   "metadata": {},
   "outputs": [],
   "source": [
    "X = pd.DataFrame(x)\n",
    "X_train, X_test, y_train, y_test = train_test_split(X.values, y_cat, test_size=0.25,random_state=42)"
   ]
  },
  {
   "cell_type": "code",
   "execution_count": null,
   "metadata": {},
   "outputs": [],
   "source": [
    "model = Sequential()\n",
    "\n",
    "model.add(Dense(5,input_shape=(4,),activation='softmax'))\n",
    "model.compile(Adam(lr=0.1),loss='categorical_crossentropy',metrics=['accuracy'])"
   ]
  },
  {
   "cell_type": "code",
   "execution_count": null,
   "metadata": {},
   "outputs": [],
   "source": [
    "es = EarlyStopping(monitor='val_loss',min_delta=0.001,patience=5,verbose=2,mode='auto')"
   ]
  },
  {
   "cell_type": "code",
   "execution_count": null,
   "metadata": {
    "scrolled": true
   },
   "outputs": [],
   "source": [
    "model.fit(X_train, y_train, validation_data=(X_test,y_test),callbacks=[es],epochs=1200)"
   ]
  },
  {
   "cell_type": "code",
   "execution_count": null,
   "metadata": {},
   "outputs": [],
   "source": [
    "y_pred = model.predict(X_test)"
   ]
  },
  {
   "cell_type": "code",
   "execution_count": null,
   "metadata": {},
   "outputs": [],
   "source": [
    "y_pred = np.argmax(y_pred,axis=1)"
   ]
  },
  {
   "cell_type": "code",
   "execution_count": null,
   "metadata": {},
   "outputs": [],
   "source": [
    "y_actual = np.argmax(np.array(y_test),axis=1)\n",
    "y_actual"
   ]
  },
  {
   "cell_type": "code",
   "execution_count": null,
   "metadata": {},
   "outputs": [],
   "source": [
    "print(classification_report(y_actual, y_pred,target_names = POS_names))\n",
    "#דיויק\n",
    "# "
   ]
  },
  {
   "cell_type": "code",
   "execution_count": null,
   "metadata": {},
   "outputs": [],
   "source": [
    "cm = confusion_matrix(POS_names[y_actual], POS_names[y_pred],POS_names)"
   ]
  },
  {
   "cell_type": "code",
   "execution_count": null,
   "metadata": {},
   "outputs": [],
   "source": [
    "plt.figure(figsize=(10,9))\n",
    "print(names_dict)\n",
    "sns.heatmap(cm,annot=True,xticklabels=True,yticklabels=True)\n",
    "plt.xlabel('Actual_ לעופב')\n",
    "plt.ylabel('Predicted_ יוזח')\n"
   ]
  },
  {
   "cell_type": "code",
   "execution_count": null,
   "metadata": {},
   "outputs": [],
   "source": [
    "def cm_analysis(y_true, y_pred, filename, labels, ymap=None, figsize=(10,10)):\n",
    "      \n",
    "    if ymap is not None:\n",
    "        y_pred = [ymap[yi] for yi in y_pred]\n",
    "        y_true = [ymap[yi] for yi in y_true]\n",
    "        labels = [ymap[yi] for yi in labels]\n",
    "    cm = confusion_matrix(y_true, y_pred, labels=labels)\n",
    "    cm_sum = np.sum(cm, axis=1, keepdims=True)\n",
    "    cm_perc = cm / cm_sum.astype(float) * 100\n",
    "    annot = np.empty_like(cm).astype(str)\n",
    "    nrows, ncols = cm.shape\n",
    "    for i in range(nrows):\n",
    "        for j in range(ncols):\n",
    "            c = cm[i, j]\n",
    "            p = cm_perc[i, j]\n",
    "            if i == j:\n",
    "                s = cm_sum[i]\n",
    "                annot[i, j] = '%.1f%%\\n%d/%d' % (p, c, s)\n",
    "            elif c == 0:\n",
    "                annot[i, j] = ''\n",
    "            else:\n",
    "                annot[i, j] = '%.1f%%\\n%d' % (p, c)\n",
    "    cm = pd.DataFrame(cm, index=labels, columns=labels)\n",
    "    cm.index.name = 'Actual_ לעופב'\n",
    "    cm.columns.name = 'Predicted_ יוזח'\n",
    "    fig, ax = plt.subplots(figsize=figsize)\n",
    "    sns.heatmap(cm, annot=annot, fmt='', ax=ax)\n",
    "    plt.savefig(filename)"
   ]
  },
  {
   "cell_type": "code",
   "execution_count": null,
   "metadata": {},
   "outputs": [],
   "source": [
    "#{0:'C', 1:'PF',2:'PG' , 3: 'SF' , 4: 'SG' }\n",
    "cm_analysis(y_actual, y_pred, 'figur1',[2,4,3,1,0],  ymap={0:'C', 1:'PF',2:'PG' , 3: 'SF' , 4: 'SG' })\n",
    "POS_names"
   ]
  },
  {
   "cell_type": "markdown",
   "metadata": {},
   "source": [
    "# 5.2\n",
    "# פחות משתנים"
   ]
  },
  {
   "cell_type": "code",
   "execution_count": null,
   "metadata": {},
   "outputs": [],
   "source": [
    "#2\n",
    "P2 = df[['Pos','FT%','2P%','3P%','eFG%']]\n",
    "P2['Pos'] = P2['Pos'].replace('C', 'C-PF')\n",
    "P2['Pos'] = P2['Pos'].replace('PF', 'C-PF')\n",
    "\n",
    "P2['Pos'] = P2['Pos'].replace('SG', 'PG-SG')\n",
    "P2['Pos'] = P2['Pos'].replace('PG', 'PG-SG')\n",
    "\n",
    "sns.set(style='ticks')\n",
    "sns.pairplot( P2 , hue = 'Pos'  )"
   ]
  },
  {
   "cell_type": "code",
   "execution_count": null,
   "metadata": {},
   "outputs": [],
   "source": [
    "#3\n",
    "P2['Pos'] = P2['Pos'].replace('SF', 'PG-SG')\n",
    "sns.set(style='ticks')\n",
    "sns.pairplot( P2 , hue = 'Pos'  )"
   ]
  },
  {
   "cell_type": "code",
   "execution_count": null,
   "metadata": {},
   "outputs": [],
   "source": [
    "x = P2[['FT%','2P%','3P%','eFG%']].values\n",
    "y = P2[['Pos']].values"
   ]
  },
  {
   "cell_type": "code",
   "execution_count": null,
   "metadata": {},
   "outputs": [],
   "source": [
    "POS_names = np.unique(np.array(y))\n",
    "POS_names"
   ]
  },
  {
   "cell_type": "code",
   "execution_count": null,
   "metadata": {},
   "outputs": [],
   "source": [
    "names_dict = {k: v for v, k in enumerate(POS_names)}\n",
    "names_dict"
   ]
  },
  {
   "cell_type": "code",
   "execution_count": null,
   "metadata": {},
   "outputs": [],
   "source": [
    "s = pd.DataFrame(y)\n",
    "y_cat = pd.get_dummies(s)\n",
    "y_cat.sample(2)"
   ]
  },
  {
   "cell_type": "code",
   "execution_count": null,
   "metadata": {},
   "outputs": [],
   "source": [
    "X = pd.DataFrame(x)\n",
    "\n",
    "X_train, X_test, y_train, y_test = train_test_split(X.values, y_cat, test_size=0.25,random_state=42)"
   ]
  },
  {
   "cell_type": "code",
   "execution_count": null,
   "metadata": {},
   "outputs": [],
   "source": [
    "model = Sequential()\n",
    "\n",
    "model.add(Dense(2,input_shape=(4,),activation='softmax'))\n",
    "model.compile(Adam(lr=0.1),loss='categorical_crossentropy',metrics=['accuracy'])"
   ]
  },
  {
   "cell_type": "code",
   "execution_count": null,
   "metadata": {},
   "outputs": [],
   "source": [
    "es = EarlyStopping(monitor='val_loss',min_delta=0.001,patience=5,verbose=1,mode='auto')"
   ]
  },
  {
   "cell_type": "code",
   "execution_count": null,
   "metadata": {},
   "outputs": [],
   "source": [
    "model.fit(X_train, y_train, validation_data=(X_test,y_test),callbacks=[es],epochs=1200)"
   ]
  },
  {
   "cell_type": "code",
   "execution_count": null,
   "metadata": {},
   "outputs": [],
   "source": [
    "y_pred = model.predict(X_test)\n",
    "y_pred[:5]"
   ]
  },
  {
   "cell_type": "code",
   "execution_count": null,
   "metadata": {},
   "outputs": [],
   "source": [
    "# קבל מדדי המחלקה שקיבלו את ההסתברות הגבוהה ביותר עבור כל מדגם\n",
    "y_pred = np.argmax(y_pred,axis=1)\n",
    "y_pred"
   ]
  },
  {
   "cell_type": "code",
   "execution_count": null,
   "metadata": {},
   "outputs": [],
   "source": [
    "y_actual = np.argmax(np.array(y_test),axis=1)\n",
    "y_actual\n",
    "\n",
    "# נעשה רשימה של שמות  שקיבלנו"
   ]
  },
  {
   "cell_type": "code",
   "execution_count": null,
   "metadata": {},
   "outputs": [],
   "source": [
    "print(classification_report(y_actual, y_pred,target_names = POS_names))"
   ]
  },
  {
   "cell_type": "code",
   "execution_count": null,
   "metadata": {},
   "outputs": [],
   "source": [
    "# cm = confusion_matrix(y_actual,y_pred)\n",
    "cm = confusion_matrix(POS_names[y_actual], POS_names[y_pred],POS_names)\n",
    "cm"
   ]
  },
  {
   "cell_type": "code",
   "execution_count": null,
   "metadata": {},
   "outputs": [],
   "source": [
    "def cm_analysis(y_true, y_pred, filename, labels, ymap=None, figsize=(10,10)):\n",
    "      \n",
    "    if ymap is not None:\n",
    "        y_pred = [ymap[yi] for yi in y_pred]\n",
    "        y_true = [ymap[yi] for yi in y_true]\n",
    "        labels = [ymap[yi] for yi in labels]\n",
    "    cm = confusion_matrix(y_true, y_pred, labels=labels)\n",
    "    cm_sum = np.sum(cm, axis=1, keepdims=True)\n",
    "    cm_perc = cm / cm_sum.astype(float) * 100\n",
    "    annot = np.empty_like(cm).astype(str)\n",
    "    nrows, ncols = cm.shape\n",
    "    for i in range(nrows):\n",
    "        for j in range(ncols):\n",
    "            c = cm[i, j]\n",
    "            p = cm_perc[i, j]\n",
    "            if i == j:\n",
    "                s = cm_sum[i]\n",
    "                annot[i, j] = '%.1f%%\\n%d/%d' % (p, c, s)\n",
    "            elif c == 0:\n",
    "                annot[i, j] = ''\n",
    "            else:\n",
    "                annot[i, j] = '%.1f%%\\n%d' % (p, c)\n",
    "    cm = pd.DataFrame(cm, index=labels, columns=labels)\n",
    "    cm.index.name = 'Actual_ לעופב'\n",
    "    cm.columns.name = 'Predicted_ יוזח'\n",
    "    fig, ax = plt.subplots(figsize=figsize)\n",
    "    sns.heatmap(cm, annot=annot, fmt='', ax=ax)\n",
    "    plt.savefig(filename)"
   ]
  },
  {
   "cell_type": "code",
   "execution_count": null,
   "metadata": {},
   "outputs": [],
   "source": [
    "plt.figure(figsize=(10,9))\n",
    "sns.heatmap(cm,annot=True,xticklabels=True,yticklabels=True)\n",
    "plt.xlabel('Actual_ לעופב')\n",
    "plt.ylabel('Predicted_ יוזח')"
   ]
  },
  {
   "cell_type": "code",
   "execution_count": null,
   "metadata": {
    "scrolled": false
   },
   "outputs": [],
   "source": [
    "cm_analysis(y_actual, y_pred, 'figur1', [0,1], ymap={0:'C-PF' , 1: 'PG-SG' })\n",
    "POS_names"
   ]
  },
  {
   "cell_type": "markdown",
   "metadata": {},
   "source": [
    "# 6.1\n",
    "# עץ החלטה"
   ]
  },
  {
   "cell_type": "code",
   "execution_count": null,
   "metadata": {},
   "outputs": [],
   "source": [
    "TeamsLastYears = pd.read_excel('C:/TeamsLastYears.xlsx')\n",
    "TeamsLastYears.sample(2)"
   ]
  },
  {
   "cell_type": "code",
   "execution_count": null,
   "metadata": {},
   "outputs": [],
   "source": [
    "TeamsLastYears['WIN%'].describe()"
   ]
  },
  {
   "cell_type": "code",
   "execution_count": null,
   "metadata": {},
   "outputs": [],
   "source": [
    "TeamsLastYears['NOsuccess'] = np.where(TeamsLastYears['WIN%'] >  0.59, 0 , 1)\n",
    "TeamsLastYears['success'] = np.where(TeamsLastYears['WIN%'] >= 0.59, 1 , 0)"
   ]
  },
  {
   "cell_type": "code",
   "execution_count": null,
   "metadata": {},
   "outputs": [],
   "source": [
    "features = [\"PTS\", \"AST\",\"REB\", \"+/\", \"P3P\",  \"FGF\", \"TOV\"]\n",
    "classes = [\"success\",\"NOsuccess\" ]\n",
    "\n",
    "X = TeamsLastYears[features]\n",
    "y = TeamsLastYears[\"success\"]\n",
    "\n",
    "visualizer = ParallelCoordinates(classes=classes, features=features, sample=0.5, shuffle=True,  normalize='minmax')\n",
    "\n",
    "visualizer.fit_transform(X, y)\n",
    "\n",
    "visualizer.poof()"
   ]
  },
  {
   "cell_type": "code",
   "execution_count": null,
   "metadata": {},
   "outputs": [],
   "source": [
    "def splitData(features):\n",
    "    \"\"\"Split a subset of the titanic dataset, given by the features, into train and test sets.\"\"\"\n",
    "    predictors = TeamsLastYears[features].values\n",
    "    labels = TeamsLastYears[\"success\"].values\n",
    "\n",
    "    XTrain, XTest, yTrain, yTest = train_test_split( predictors, labels, random_state=1, test_size=0.5)\n",
    "    return XTrain, XTest, yTrain, yTest"
   ]
  },
  {
   "cell_type": "code",
   "execution_count": null,
   "metadata": {},
   "outputs": [],
   "source": [
    "from IPython.display import Image, display  \n",
    "import pydotplus \n",
    "from scipy import misc\n",
    "\n",
    "def renderTree(my_tree, features):\n",
    "    filename = \"temp.dot\"\n",
    "    with open(filename, 'w') as f:\n",
    "        f = tree.export_graphviz(my_tree, out_file=f, \n",
    " feature_names=features,  class_names=[\"success\",\"NOsuccess\" ],   filled=True, rounded=True,special_characters=True)\n",
    "    dot_data = \"\"\n",
    "    with open(filename, 'r') as f:\n",
    "        dot_data = f.read()\n",
    "\n",
    "    graph = pydotplus.graph_from_dot_data(dot_data)\n",
    "    image_name = \"temp.png\"\n",
    "    graph.write_png(image_name)  \n",
    "    display(Image(filename=image_name))"
   ]
  },
  {
   "cell_type": "code",
   "execution_count": null,
   "metadata": {
    "scrolled": false
   },
   "outputs": [],
   "source": [
    "decisionTree = tree.DecisionTreeClassifier()\n",
    "\n",
    "XTrain, XTest, yTrain, yTest = splitData([\"+/\"])\n",
    "decisionTree = decisionTree.fit(XTrain, yTrain)\n",
    "\n",
    "y_pred_train = decisionTree.predict(XTrain)\n",
    "print('Accuracy on training data = ', metrics.accuracy_score(y_true = yTrain, y_pred = y_pred_train))\n",
    "\n",
    "y_pred = decisionTree.predict(XTest)\n",
    "print('Accuracy on test data = ', metrics.accuracy_score(y_true = yTest, y_pred = y_pred))\n",
    "\n",
    "renderTree(decisionTree, [\"+/\"])"
   ]
  },
  {
   "cell_type": "code",
   "execution_count": null,
   "metadata": {},
   "outputs": [],
   "source": [
    "all_features = [\"PTS\", \"AST\",\"REB\", \"+/\", \"P3P\",  \"FGF\", \"TOV\"]\n",
    "\n",
    "XTrain, XTest, yTrain, yTest = splitData(all_features)\n",
    "decisionTree = tree.DecisionTreeClassifier()\n",
    "decisionTree = decisionTree.fit(XTrain, yTrain)\n",
    "\n",
    "y_pred_train = decisionTree.predict(XTrain)\n",
    "print('Accuracy on training data= ', metrics.accuracy_score(y_true = yTrain, y_pred = y_pred_train))\n",
    "\n",
    "y_pred = decisionTree.predict(XTest)\n",
    "print('Accuracy on test data= ', metrics.accuracy_score(y_true = yTest, y_pred = y_pred))\n",
    "renderTree(decisionTree, all_features)"
   ]
  },
  {
   "cell_type": "code",
   "execution_count": null,
   "metadata": {},
   "outputs": [],
   "source": [
    "features = [ \"AST\",\"REB\",  \"P3P\",  \"FGF\", \"TOV\"]\n",
    "classes = [\"success\",\"NOsuccess\" ]\n",
    "\n",
    "X = TeamsLastYears[features]\n",
    "y = TeamsLastYears[\"success\"]\n",
    "\n",
    "visualizer = ParallelCoordinates(classes=classes, features=features, sample=0.5, shuffle=True,  normalize='minmax')\n",
    "\n",
    "visualizer.fit_transform(X, y)\n",
    "\n",
    "visualizer.poof()"
   ]
  },
  {
   "cell_type": "code",
   "execution_count": null,
   "metadata": {},
   "outputs": [],
   "source": [
    "all_features = [ \"AST\",\"REB\",  \"P3P\",  \"FGF\", \"TOV\"]\n",
    "\n",
    "\n",
    "XTrain, XTest, yTrain, yTest = splitData(all_features)\n",
    "decisionTree = tree.DecisionTreeClassifier(max_depth=4)\n",
    "decisionTree = decisionTree.fit(XTrain, yTrain)\n",
    "\n",
    "y_pred_train = decisionTree.predict(XTrain)\n",
    "print('Accuracy on training data= ', metrics.accuracy_score(y_true = yTrain, y_pred = y_pred_train))\n",
    "\n",
    "y_pred = decisionTree.predict(XTest)\n",
    "print('Accuracy on test data= ', metrics.accuracy_score(y_true = yTest, y_pred = y_pred))\n",
    "renderTree(decisionTree, all_features)"
   ]
  },
  {
   "cell_type": "code",
   "execution_count": null,
   "metadata": {},
   "outputs": [],
   "source": [
    "features = [  \"P3P\",  \"FGF\", 'FT%']\n",
    "classes = [\"success\",\"NOsuccess\" ]\n",
    "\n",
    "X = TeamsLastYears[features]\n",
    "y = TeamsLastYears[\"success\"]\n",
    "\n",
    "visualizer = ParallelCoordinates(classes=classes, features=features, sample=0.5, shuffle=True,  normalize='minmax')\n",
    "\n",
    "visualizer.fit_transform(X, y)\n",
    "\n",
    "visualizer.poof()"
   ]
  },
  {
   "cell_type": "code",
   "execution_count": null,
   "metadata": {},
   "outputs": [],
   "source": [
    "all_features = [  \"P3P\",  \"FGF\", 'FT%']\n",
    "\n",
    "\n",
    "XTrain, XTest, yTrain, yTest = splitData(all_features)\n",
    "decisionTree = tree.DecisionTreeClassifier(max_depth=3)\n",
    "decisionTree = decisionTree.fit(XTrain, yTrain)\n",
    "\n",
    "y_pred_train = decisionTree.predict(XTrain)\n",
    "print('Accuracy on training data= ', metrics.accuracy_score(y_true = yTrain, y_pred = y_pred_train))\n",
    "\n",
    "y_pred = decisionTree.predict(XTest)\n",
    "print('Accuracy on test data= ', metrics.accuracy_score(y_true = yTest, y_pred = y_pred))\n",
    "renderTree(decisionTree, all_features)"
   ]
  },
  {
   "cell_type": "markdown",
   "metadata": {},
   "source": [
    "# 6.2\n",
    "# playoffs"
   ]
  },
  {
   "cell_type": "code",
   "execution_count": null,
   "metadata": {},
   "outputs": [],
   "source": [
    "features = [\"PTS\", \"+/\", \"P3P\", \"TOV\", \"FGF\", \"PF\", \"AST\"]\n",
    "classes = [\"playoffs\",\"NO\" ]\n",
    "\n",
    "X = TEAM[features]\n",
    "y = TEAM[\"playoffs\"]\n",
    "\n",
    "visualizer = ParallelCoordinates(classes=classes, features=features, sample=0.5, shuffle=True,  normalize='minmax')\n",
    "\n",
    "visualizer.fit_transform(X, y)\n",
    "\n",
    "visualizer.poof()"
   ]
  },
  {
   "cell_type": "code",
   "execution_count": null,
   "metadata": {},
   "outputs": [],
   "source": [
    "all_features =  [\"PTS\", \"+/\", \"P3P\", \"TOV\", \"FGF\", \"PF\", \"AST\"]\n",
    "\n",
    "XTrain, XTest, yTrain, yTest = splitData(all_features)\n",
    "decisionTree = tree.DecisionTreeClassifier()\n",
    "decisionTree = decisionTree.fit(XTrain, yTrain)\n",
    "\n",
    "y_pred_train = decisionTree.predict(XTrain)\n",
    "print('Accuracy on training data= ', metrics.accuracy_score(y_true = yTrain, y_pred = y_pred_train))\n",
    "\n",
    "y_pred = decisionTree.predict(XTest)\n",
    "print('Accuracy on test data= ', metrics.accuracy_score(y_true = yTest, y_pred = y_pred))\n",
    "renderTree(decisionTree, all_features)"
   ]
  },
  {
   "cell_type": "markdown",
   "metadata": {},
   "source": [
    "# 6.3"
   ]
  },
  {
   "cell_type": "code",
   "execution_count": null,
   "metadata": {},
   "outputs": [],
   "source": [
    "df['MDD'].describe()"
   ]
  },
  {
   "cell_type": "code",
   "execution_count": null,
   "metadata": {},
   "outputs": [],
   "source": [
    "df['Stars'] = np.where(  df['MDD'] > 18, 1 , 0)\n",
    "\n",
    "#df['NOStars'] = np.where(  df['MDD'] >  18, 0 , 1)"
   ]
  },
  {
   "cell_type": "code",
   "execution_count": null,
   "metadata": {},
   "outputs": [],
   "source": [
    "df['Stars'].value_counts().plot.bar()"
   ]
  },
  {
   "cell_type": "code",
   "execution_count": null,
   "metadata": {},
   "outputs": [],
   "source": [
    "features = ['3P%','2P%' ,'FT%' ,'eFG%' ]\n",
    "classes = [\"Stars\",\"NOStars\" ]\n",
    "\n",
    "X = df[features]\n",
    "y = df[\"Stars\"]\n",
    "\n",
    "visualizer = ParallelCoordinates(classes=classes, features=features, sample=0.5, shuffle=True,  normalize='minmax')\n",
    "\n",
    "visualizer.fit_transform(X, y)\n",
    "\n",
    "visualizer.poof()"
   ]
  },
  {
   "cell_type": "code",
   "execution_count": null,
   "metadata": {},
   "outputs": [],
   "source": [
    "def splitData2(features):\n",
    "    \"\"\"Split a subset of the titanic dataset, given by the features, into train and test sets.\"\"\"\n",
    "    predictors = df[features].values\n",
    "    labels = df[\"Stars\"].values\n",
    "\n",
    "    XTrain, XTest, yTrain, yTest = train_test_split( predictors, labels, random_state=1, test_size=0.5)\n",
    "    return XTrain, XTest, yTrain, yTest"
   ]
  },
  {
   "cell_type": "code",
   "execution_count": null,
   "metadata": {},
   "outputs": [],
   "source": [
    "def renderTree2(my_tree, features):\n",
    "    filename = \"temp.dot\"\n",
    "    with open(filename, 'w') as f:\n",
    "        f = tree.export_graphviz(my_tree, out_file=f, \n",
    " feature_names=features,  class_names=[\"Stars\",\"NOStars\" ],   filled=True, rounded=True,special_characters=True)\n",
    "    dot_data = \"\"\n",
    "    with open(filename, 'r') as f:\n",
    "        dot_data = f.read()\n",
    "\n",
    "    graph = pydotplus.graph_from_dot_data(dot_data)\n",
    "    image_name = \"temp.png\"\n",
    "    graph.write_png(image_name)  \n",
    "    display(Image(filename=image_name))"
   ]
  },
  {
   "cell_type": "code",
   "execution_count": null,
   "metadata": {},
   "outputs": [],
   "source": [
    "all_features = ['3P%','2P%' ,'FT%' ,'eFG%' ]\n",
    "\n",
    "XTrain, XTest, yTrain, yTest = splitData2(all_features)\n",
    "decisionTree = tree.DecisionTreeClassifier(max_depth=3)\n",
    "decisionTree = decisionTree.fit(XTrain, yTrain)\n",
    "\n",
    "y_pred_train = decisionTree.predict(XTrain)\n",
    "print('Accuracy on training data= ', metrics.accuracy_score(y_true = yTrain, y_pred = y_pred_train))\n",
    "\n",
    "y_pred = decisionTree.predict(XTest)\n",
    "print('Accuracy on test data= ', metrics.accuracy_score(y_true = yTest, y_pred = y_pred))\n",
    "renderTree2(decisionTree, all_features)"
   ]
  },
  {
   "cell_type": "code",
   "execution_count": null,
   "metadata": {},
   "outputs": [],
   "source": [
    "features = ['PF' ,'STL' ,'FTA' ]\n",
    "classes = [\"Stars\",\"NOStars\" ]\n",
    "\n",
    "X = df[features]\n",
    "y = df[\"Stars\"]\n",
    "\n",
    "visualizer = ParallelCoordinates(classes=classes, features=features, sample=0.5, shuffle=True,  normalize='minmax')\n",
    "\n",
    "visualizer.fit_transform(X, y)\n",
    "\n",
    "visualizer.poof()"
   ]
  },
  {
   "cell_type": "code",
   "execution_count": null,
   "metadata": {},
   "outputs": [],
   "source": [
    "XTrain, XTest, yTrain, yTest = splitData2(features)\n",
    "decisionTree = tree.DecisionTreeClassifier(max_depth=3)\n",
    "decisionTree = decisionTree.fit(XTrain, yTrain)\n",
    "\n",
    "y_pred_train = decisionTree.predict(XTrain)\n",
    "print('Accuracy on training data= ', metrics.accuracy_score(y_true = yTrain, y_pred = y_pred_train))\n",
    "\n",
    "y_pred = decisionTree.predict(XTest)\n",
    "print('Accuracy on test data= ', metrics.accuracy_score(y_true = yTest, y_pred = y_pred))\n",
    "renderTree2(decisionTree, features)"
   ]
  },
  {
   "cell_type": "code",
   "execution_count": null,
   "metadata": {},
   "outputs": [],
   "source": [
    "features = ['TOV','Age' ]\n",
    "classes = [\"Stars\",\"NOStars\" ]\n",
    "\n",
    "X = df[features]\n",
    "y = df[\"Stars\"]\n",
    "\n",
    "visualizer = ParallelCoordinates(classes=classes, features=features, sample=0.5, shuffle=True,  normalize='minmax')\n",
    "\n",
    "visualizer.fit_transform(X, y)\n",
    "\n",
    "visualizer.poof()\n",
    "XTrain, XTest, yTrain, yTest = splitData2(features)\n",
    "decisionTree = tree.DecisionTreeClassifier(max_depth=2)\n",
    "decisionTree = decisionTree.fit(XTrain, yTrain)\n",
    "\n",
    "y_pred_train = decisionTree.predict(XTrain)\n",
    "print('Accuracy on training data= ', metrics.accuracy_score(y_true = yTrain, y_pred = y_pred_train))\n",
    "\n",
    "y_pred = decisionTree.predict(XTest)\n",
    "print('Accuracy on test data= ', metrics.accuracy_score(y_true = yTest, y_pred = y_pred))\n",
    "renderTree2(decisionTree, features)"
   ]
  },
  {
   "cell_type": "markdown",
   "metadata": {},
   "source": [
    "# End"
   ]
  }
 ],
 "metadata": {
  "kernelspec": {
   "display_name": "Python 3",
   "language": "python",
   "name": "python3"
  },
  "language_info": {
   "codemirror_mode": {
    "name": "ipython",
    "version": 3
   },
   "file_extension": ".py",
   "mimetype": "text/x-python",
   "name": "python",
   "nbconvert_exporter": "python",
   "pygments_lexer": "ipython3",
   "version": "3.7.4"
  }
 },
 "nbformat": 4,
 "nbformat_minor": 2
}
