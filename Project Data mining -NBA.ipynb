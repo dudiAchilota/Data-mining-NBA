{
 "cells": [
  {
   "cell_type": "markdown",
   "metadata": {},
   "source": [
    "# בס\"ד\n",
    "# Project- Data Mining\n",
    "# Dudi Achilota"
   ]
  },
  {
   "cell_type": "code",
   "execution_count": 19,
   "metadata": {},
   "outputs": [],
   "source": [
    "import pandas as pd\n",
    "from pandas.plotting import scatter_matrix\n",
    "import numpy as np\n",
    "import seaborn as sns\n",
    "import statsmodels.formula.api as sm\n",
    "#from keras.models import Sequential\n",
    "#from keras.optimizers import Adam\n",
    "\n",
    "#from yellowbrick.features import ParallelCoordinates\n",
    "from scipy import stats\n",
    "import scipy as sc\n",
    "from sklearn import metrics\n",
    "from sklearn.metrics import r2_score\n",
    "from sklearn.metrics import confusion_matrix\n",
    "from sklearn.metrics import accuracy_score\n",
    "from sklearn.metrics import classification_report\n",
    "from sklearn.model_selection import train_test_split"
   ]
  },
  {
   "cell_type": "code",
   "execution_count": 20,
   "metadata": {},
   "outputs": [],
   "source": [
    "import matplotlib.pyplot as plt\n",
    "%matplotlib inline\n",
    "plt.rcParams['figure.figsize'] = (10, 6)\n",
    "plt.style.use('ggplot')"
   ]
  },
  {
   "cell_type": "code",
   "execution_count": 22,
   "metadata": {},
   "outputs": [
    {
     "ename": "ModuleNotFoundError",
     "evalue": "No module named 'keras'",
     "output_type": "error",
     "traceback": [
      "\u001b[1;31m---------------------------------------------------------------------------\u001b[0m",
      "\u001b[1;31mModuleNotFoundError\u001b[0m                       Traceback (most recent call last)",
      "\u001b[1;32m<ipython-input-22-8721f7d0fde2>\u001b[0m in \u001b[0;36m<module>\u001b[1;34m\u001b[0m\n\u001b[1;32m----> 1\u001b[1;33m \u001b[1;32mfrom\u001b[0m \u001b[0mkeras\u001b[0m\u001b[1;33m.\u001b[0m\u001b[0mmodels\u001b[0m \u001b[1;32mimport\u001b[0m \u001b[0mSequential\u001b[0m\u001b[1;33m\u001b[0m\u001b[1;33m\u001b[0m\u001b[0m\n\u001b[0m\u001b[0;32m      2\u001b[0m \u001b[1;32mfrom\u001b[0m \u001b[0mkeras\u001b[0m\u001b[1;33m.\u001b[0m\u001b[0mlayers\u001b[0m \u001b[1;32mimport\u001b[0m \u001b[0mDense\u001b[0m\u001b[1;33m,\u001b[0m \u001b[0mActivation\u001b[0m\u001b[1;33m\u001b[0m\u001b[1;33m\u001b[0m\u001b[0m\n\u001b[0;32m      3\u001b[0m \u001b[1;32mfrom\u001b[0m \u001b[0mkeras\u001b[0m\u001b[1;33m.\u001b[0m\u001b[0mcallbacks\u001b[0m \u001b[1;32mimport\u001b[0m \u001b[0mEarlyStopping\u001b[0m\u001b[1;33m\u001b[0m\u001b[1;33m\u001b[0m\u001b[0m\n",
      "\u001b[1;31mModuleNotFoundError\u001b[0m: No module named 'keras'"
     ]
    }
   ],
   "source": [
    "from keras.models import Sequential\n",
    "from keras.layers import Dense, Activation\n",
    "from keras.callbacks import EarlyStopping"
   ]
  },
  {
   "cell_type": "code",
   "execution_count": 23,
   "metadata": {
    "scrolled": false
   },
   "outputs": [
    {
     "data": {
      "text/html": [
       "<img src=\"https://cdn.nba.net/nba-drupal-prod/2017-18/SEO-image-NBA-logoman.jpg\"/>"
      ],
      "text/plain": [
       "<IPython.core.display.Image object>"
      ]
     },
     "execution_count": 23,
     "metadata": {},
     "output_type": "execute_result"
    }
   ],
   "source": [
    "from IPython.display import Image\n",
    "Image(url= 'https://cdn.nba.net/nba-drupal-prod/2017-18/SEO-image-NBA-logoman.jpg')"
   ]
  },
  {
   "cell_type": "markdown",
   "metadata": {},
   "source": [
    "# read excel"
   ]
  },
  {
   "cell_type": "code",
   "execution_count": 33,
   "metadata": {},
   "outputs": [
    {
     "data": {
      "text/html": [
       "<div>\n",
       "<style scoped>\n",
       "    .dataframe tbody tr th:only-of-type {\n",
       "        vertical-align: middle;\n",
       "    }\n",
       "\n",
       "    .dataframe tbody tr th {\n",
       "        vertical-align: top;\n",
       "    }\n",
       "\n",
       "    .dataframe thead th {\n",
       "        text-align: right;\n",
       "    }\n",
       "</style>\n",
       "<table border=\"1\" class=\"dataframe\">\n",
       "  <thead>\n",
       "    <tr style=\"text-align: right;\">\n",
       "      <th></th>\n",
       "      <th>Player</th>\n",
       "      <th>Pos</th>\n",
       "      <th>Age</th>\n",
       "      <th>Tm</th>\n",
       "      <th>G</th>\n",
       "      <th>GS</th>\n",
       "      <th>MP</th>\n",
       "      <th>FG</th>\n",
       "      <th>FGA</th>\n",
       "      <th>FG%</th>\n",
       "      <th>...</th>\n",
       "      <th>FT%</th>\n",
       "      <th>ORB</th>\n",
       "      <th>DRB</th>\n",
       "      <th>TRB</th>\n",
       "      <th>AST</th>\n",
       "      <th>STL</th>\n",
       "      <th>BLK</th>\n",
       "      <th>TOV</th>\n",
       "      <th>PF</th>\n",
       "      <th>PTS</th>\n",
       "    </tr>\n",
       "  </thead>\n",
       "  <tbody>\n",
       "    <tr>\n",
       "      <td>117</td>\n",
       "      <td>Torrey Craig</td>\n",
       "      <td>SF</td>\n",
       "      <td>28</td>\n",
       "      <td>DEN</td>\n",
       "      <td>75</td>\n",
       "      <td>37</td>\n",
       "      <td>1503</td>\n",
       "      <td>160</td>\n",
       "      <td>362</td>\n",
       "      <td>0.442</td>\n",
       "      <td>...</td>\n",
       "      <td>0.700</td>\n",
       "      <td>89</td>\n",
       "      <td>174</td>\n",
       "      <td>263</td>\n",
       "      <td>72</td>\n",
       "      <td>37</td>\n",
       "      <td>46</td>\n",
       "      <td>44</td>\n",
       "      <td>175</td>\n",
       "      <td>430</td>\n",
       "    </tr>\n",
       "    <tr>\n",
       "      <td>48</td>\n",
       "      <td>Patrick Beverley</td>\n",
       "      <td>PG</td>\n",
       "      <td>30</td>\n",
       "      <td>LAC</td>\n",
       "      <td>78</td>\n",
       "      <td>49</td>\n",
       "      <td>2137</td>\n",
       "      <td>194</td>\n",
       "      <td>477</td>\n",
       "      <td>0.407</td>\n",
       "      <td>...</td>\n",
       "      <td>0.780</td>\n",
       "      <td>76</td>\n",
       "      <td>312</td>\n",
       "      <td>388</td>\n",
       "      <td>300</td>\n",
       "      <td>67</td>\n",
       "      <td>43</td>\n",
       "      <td>85</td>\n",
       "      <td>265</td>\n",
       "      <td>596</td>\n",
       "    </tr>\n",
       "    <tr>\n",
       "      <td>393</td>\n",
       "      <td>Jabari Parker</td>\n",
       "      <td>PF</td>\n",
       "      <td>23</td>\n",
       "      <td>TOT</td>\n",
       "      <td>64</td>\n",
       "      <td>17</td>\n",
       "      <td>1724</td>\n",
       "      <td>369</td>\n",
       "      <td>749</td>\n",
       "      <td>0.493</td>\n",
       "      <td>...</td>\n",
       "      <td>0.712</td>\n",
       "      <td>79</td>\n",
       "      <td>342</td>\n",
       "      <td>421</td>\n",
       "      <td>152</td>\n",
       "      <td>46</td>\n",
       "      <td>30</td>\n",
       "      <td>151</td>\n",
       "      <td>145</td>\n",
       "      <td>930</td>\n",
       "    </tr>\n",
       "  </tbody>\n",
       "</table>\n",
       "<p>3 rows × 29 columns</p>\n",
       "</div>"
      ],
      "text/plain": [
       "               Player Pos  Age   Tm   G  GS    MP   FG  FGA    FG%  ...  \\\n",
       "117      Torrey Craig  SF   28  DEN  75  37  1503  160  362  0.442  ...   \n",
       "48   Patrick Beverley  PG   30  LAC  78  49  2137  194  477  0.407  ...   \n",
       "393     Jabari Parker  PF   23  TOT  64  17  1724  369  749  0.493  ...   \n",
       "\n",
       "       FT%  ORB  DRB  TRB  AST  STL  BLK  TOV   PF  PTS  \n",
       "117  0.700   89  174  263   72   37   46   44  175  430  \n",
       "48   0.780   76  312  388  300   67   43   85  265  596  \n",
       "393  0.712   79  342  421  152   46   30  151  145  930  \n",
       "\n",
       "[3 rows x 29 columns]"
      ]
     },
     "execution_count": 33,
     "metadata": {},
     "output_type": "execute_result"
    }
   ],
   "source": [
    "#  שחקנים \n",
    "df = pd.read_excel('Players.xlsx')\n",
    "df.sample(3)"
   ]
  },
  {
   "cell_type": "code",
   "execution_count": 25,
   "metadata": {},
   "outputs": [
    {
     "data": {
      "text/html": [
       "<div>\n",
       "<style scoped>\n",
       "    .dataframe tbody tr th:only-of-type {\n",
       "        vertical-align: middle;\n",
       "    }\n",
       "\n",
       "    .dataframe tbody tr th {\n",
       "        vertical-align: top;\n",
       "    }\n",
       "\n",
       "    .dataframe thead th {\n",
       "        text-align: right;\n",
       "    }\n",
       "</style>\n",
       "<table border=\"1\" class=\"dataframe\">\n",
       "  <thead>\n",
       "    <tr style=\"text-align: right;\">\n",
       "      <th></th>\n",
       "      <th>Player</th>\n",
       "      <th>Tm</th>\n",
       "      <th>2018-19</th>\n",
       "      <th>2019-20</th>\n",
       "      <th>2020-21</th>\n",
       "      <th>2021-22</th>\n",
       "      <th>2022-23</th>\n",
       "      <th>2023-24</th>\n",
       "      <th>Signed Using</th>\n",
       "      <th>Guaranteed</th>\n",
       "    </tr>\n",
       "  </thead>\n",
       "  <tbody>\n",
       "    <tr>\n",
       "      <td>144</td>\n",
       "      <td>Kosta Koufos</td>\n",
       "      <td>SAC</td>\n",
       "      <td>$8,739,500</td>\n",
       "      <td>NaN</td>\n",
       "      <td>NaN</td>\n",
       "      <td>NaN</td>\n",
       "      <td>NaN</td>\n",
       "      <td>NaN</td>\n",
       "      <td>Cap Space</td>\n",
       "      <td>$8,739,500</td>\n",
       "    </tr>\n",
       "    <tr>\n",
       "      <td>408</td>\n",
       "      <td>Georges Niang</td>\n",
       "      <td>UTA</td>\n",
       "      <td>$1,512,601</td>\n",
       "      <td>$1,645,357</td>\n",
       "      <td>$1,783,557</td>\n",
       "      <td>NaN</td>\n",
       "      <td>NaN</td>\n",
       "      <td>NaN</td>\n",
       "      <td>NaN</td>\n",
       "      <td>$1,512,601</td>\n",
       "    </tr>\n",
       "    <tr>\n",
       "      <td>104</td>\n",
       "      <td>Tyreke Evans</td>\n",
       "      <td>IND</td>\n",
       "      <td>$12,400,000</td>\n",
       "      <td>NaN</td>\n",
       "      <td>NaN</td>\n",
       "      <td>NaN</td>\n",
       "      <td>NaN</td>\n",
       "      <td>NaN</td>\n",
       "      <td>NaN</td>\n",
       "      <td>$12,400,000</td>\n",
       "    </tr>\n",
       "  </tbody>\n",
       "</table>\n",
       "</div>"
      ],
      "text/plain": [
       "            Player   Tm      2018-19     2019-20     2020-21 2021-22 2022-23  \\\n",
       "144   Kosta Koufos  SAC   $8,739,500         NaN         NaN     NaN     NaN   \n",
       "408  Georges Niang  UTA   $1,512,601  $1,645,357  $1,783,557     NaN     NaN   \n",
       "104   Tyreke Evans  IND  $12,400,000         NaN         NaN     NaN     NaN   \n",
       "\n",
       "    2023-24 Signed Using   Guaranteed  \n",
       "144     NaN    Cap Space   $8,739,500  \n",
       "408     NaN          NaN   $1,512,601  \n",
       "104     NaN          NaN  $12,400,000  "
      ]
     },
     "execution_count": 25,
     "metadata": {},
     "output_type": "execute_result"
    }
   ],
   "source": [
    "#שכר\n",
    "Salary = pd.read_excel('Salary.xlsx')\n",
    "Salary.sample(3)"
   ]
  },
  {
   "cell_type": "code",
   "execution_count": 26,
   "metadata": {},
   "outputs": [
    {
     "data": {
      "text/html": [
       "<div>\n",
       "<style scoped>\n",
       "    .dataframe tbody tr th:only-of-type {\n",
       "        vertical-align: middle;\n",
       "    }\n",
       "\n",
       "    .dataframe tbody tr th {\n",
       "        vertical-align: top;\n",
       "    }\n",
       "\n",
       "    .dataframe thead th {\n",
       "        text-align: right;\n",
       "    }\n",
       "</style>\n",
       "<table border=\"1\" class=\"dataframe\">\n",
       "  <thead>\n",
       "    <tr style=\"text-align: right;\">\n",
       "      <th></th>\n",
       "      <th>TEAM</th>\n",
       "      <th>Tm</th>\n",
       "      <th>GP</th>\n",
       "      <th>W</th>\n",
       "      <th>L</th>\n",
       "      <th>WIN%</th>\n",
       "      <th>MIN</th>\n",
       "      <th>PTS</th>\n",
       "      <th>FGM</th>\n",
       "      <th>FGA</th>\n",
       "      <th>...</th>\n",
       "      <th>DREB</th>\n",
       "      <th>REB</th>\n",
       "      <th>AST</th>\n",
       "      <th>TOV</th>\n",
       "      <th>STL</th>\n",
       "      <th>BLK</th>\n",
       "      <th>BLKA</th>\n",
       "      <th>PF</th>\n",
       "      <th>PFD</th>\n",
       "      <th>+/</th>\n",
       "    </tr>\n",
       "  </thead>\n",
       "  <tbody>\n",
       "    <tr>\n",
       "      <td>4</td>\n",
       "      <td>Houston Rockets</td>\n",
       "      <td>HOU</td>\n",
       "      <td>82</td>\n",
       "      <td>53</td>\n",
       "      <td>29</td>\n",
       "      <td>0.646</td>\n",
       "      <td>48.4</td>\n",
       "      <td>113.9</td>\n",
       "      <td>39.2</td>\n",
       "      <td>87.4</td>\n",
       "      <td>...</td>\n",
       "      <td>31.9</td>\n",
       "      <td>42.1</td>\n",
       "      <td>21.2</td>\n",
       "      <td>13.3</td>\n",
       "      <td>8.5</td>\n",
       "      <td>4.9</td>\n",
       "      <td>4.5</td>\n",
       "      <td>22.0</td>\n",
       "      <td>20.0</td>\n",
       "      <td>4.8</td>\n",
       "    </tr>\n",
       "    <tr>\n",
       "      <td>15</td>\n",
       "      <td>Detroit Pistons</td>\n",
       "      <td>DET</td>\n",
       "      <td>82</td>\n",
       "      <td>41</td>\n",
       "      <td>41</td>\n",
       "      <td>0.500</td>\n",
       "      <td>48.4</td>\n",
       "      <td>107.0</td>\n",
       "      <td>38.8</td>\n",
       "      <td>88.3</td>\n",
       "      <td>...</td>\n",
       "      <td>33.6</td>\n",
       "      <td>45.0</td>\n",
       "      <td>22.5</td>\n",
       "      <td>13.8</td>\n",
       "      <td>6.9</td>\n",
       "      <td>4.0</td>\n",
       "      <td>5.1</td>\n",
       "      <td>22.1</td>\n",
       "      <td>21.3</td>\n",
       "      <td>-0.2</td>\n",
       "    </tr>\n",
       "  </tbody>\n",
       "</table>\n",
       "<p>2 rows × 28 columns</p>\n",
       "</div>"
      ],
      "text/plain": [
       "               TEAM   Tm  GP   W   L   WIN%   MIN    PTS   FGM   FGA  ...  \\\n",
       "4   Houston Rockets  HOU  82  53  29  0.646  48.4  113.9  39.2  87.4  ...   \n",
       "15  Detroit Pistons  DET  82  41  41  0.500  48.4  107.0  38.8  88.3  ...   \n",
       "\n",
       "    DREB   REB   AST   TOV  STL  BLK  BLKA    PF   PFD   +/  \n",
       "4   31.9  42.1  21.2  13.3  8.5  4.9   4.5  22.0  20.0  4.8  \n",
       "15  33.6  45.0  22.5  13.8  6.9  4.0   5.1  22.1  21.3 -0.2  \n",
       "\n",
       "[2 rows x 28 columns]"
      ]
     },
     "execution_count": 26,
     "metadata": {},
     "output_type": "execute_result"
    }
   ],
   "source": [
    "TEAM = pd.read_excel('TEAM.xlsx')\n",
    "TEAM.sample(2)"
   ]
  },
  {
   "cell_type": "markdown",
   "metadata": {},
   "source": [
    "# סידור הנתונים"
   ]
  },
  {
   "cell_type": "code",
   "execution_count": 27,
   "metadata": {},
   "outputs": [],
   "source": [
    "Salary['Guaranteed'] = pd.Series(Salary['Guaranteed']).str.replace(',', '')\n",
    "Salary['Guaranteed'] = pd.Series(Salary['Guaranteed']).str.replace('$', '')\n",
    "Salary['2018-19'] = pd.Series(Salary['2018-19']).str.replace(',', '')\n",
    "Salary['2018-19'] = pd.Series(Salary['2018-19']).str.replace('$', '')"
   ]
  },
  {
   "cell_type": "code",
   "execution_count": 28,
   "metadata": {},
   "outputs": [
    {
     "data": {
      "text/html": [
       "<div>\n",
       "<style scoped>\n",
       "    .dataframe tbody tr th:only-of-type {\n",
       "        vertical-align: middle;\n",
       "    }\n",
       "\n",
       "    .dataframe tbody tr th {\n",
       "        vertical-align: top;\n",
       "    }\n",
       "\n",
       "    .dataframe thead th {\n",
       "        text-align: right;\n",
       "    }\n",
       "</style>\n",
       "<table border=\"1\" class=\"dataframe\">\n",
       "  <thead>\n",
       "    <tr style=\"text-align: right;\">\n",
       "      <th></th>\n",
       "      <th>Player</th>\n",
       "      <th>Tm</th>\n",
       "      <th>2018-19</th>\n",
       "      <th>2019-20</th>\n",
       "      <th>2020-21</th>\n",
       "      <th>2021-22</th>\n",
       "      <th>2022-23</th>\n",
       "      <th>2023-24</th>\n",
       "      <th>Signed Using</th>\n",
       "      <th>Guaranteed</th>\n",
       "    </tr>\n",
       "  </thead>\n",
       "  <tbody>\n",
       "    <tr>\n",
       "      <td>0</td>\n",
       "      <td>Stephen Curry</td>\n",
       "      <td>GSW</td>\n",
       "      <td>37457154</td>\n",
       "      <td>$40,231,758</td>\n",
       "      <td>$43,006,362</td>\n",
       "      <td>$45,780,966</td>\n",
       "      <td>0</td>\n",
       "      <td>0</td>\n",
       "      <td>Bird Rights</td>\n",
       "      <td>166476240</td>\n",
       "    </tr>\n",
       "    <tr>\n",
       "      <td>1</td>\n",
       "      <td>Chris Paul</td>\n",
       "      <td>HOU</td>\n",
       "      <td>35654150</td>\n",
       "      <td>$38,506,482</td>\n",
       "      <td>$41,358,814</td>\n",
       "      <td>$44,211,146</td>\n",
       "      <td>0</td>\n",
       "      <td>0</td>\n",
       "      <td>0</td>\n",
       "      <td>159730592</td>\n",
       "    </tr>\n",
       "  </tbody>\n",
       "</table>\n",
       "</div>"
      ],
      "text/plain": [
       "          Player   Tm   2018-19      2019-20      2020-21      2021-22  \\\n",
       "0  Stephen Curry  GSW  37457154  $40,231,758  $43,006,362  $45,780,966   \n",
       "1     Chris Paul  HOU  35654150  $38,506,482  $41,358,814  $44,211,146   \n",
       "\n",
       "  2022-23 2023-24 Signed Using  Guaranteed  \n",
       "0       0       0  Bird Rights   166476240  \n",
       "1       0       0            0   159730592  "
      ]
     },
     "execution_count": 28,
     "metadata": {},
     "output_type": "execute_result"
    }
   ],
   "source": [
    "Salary['Guaranteed'] = (Salary['Guaranteed']).astype('int64')\n",
    "Salary['2018-19'] = (Salary['2018-19']).astype('int64')\n",
    "\n",
    "Salary = Salary.fillna(0)\n",
    "Salary.head(2)"
   ]
  },
  {
   "cell_type": "code",
   "execution_count": 29,
   "metadata": {},
   "outputs": [],
   "source": [
    "Salary['Salary'] = Salary['2018-19']\n",
    "Salary = Salary[['Player','Salary','Guaranteed']]\n",
    "df = df.merge(Salary , how='left', on='Player')"
   ]
  },
  {
   "cell_type": "code",
   "execution_count": 30,
   "metadata": {},
   "outputs": [],
   "source": [
    "df = df[ df.G >= 41]\n",
    "df = df[ df.Salary >= 10000]"
   ]
  },
  {
   "cell_type": "code",
   "execution_count": null,
   "metadata": {},
   "outputs": [],
   "source": [
    "df.insert(3,'MDD',(df.PTS+ df.TRB+ df.AST+ df.STL+ df.BLK - df.TOV + df.FG - df.FGA)/ df.G)\n",
    "df.insert(4,'MDD_PER_1MP',(df.PTS+ df.TRB+ df.AST+ df.STL+ df.BLK - df.TOV +df.FG - df.FGA)/ df.MP)\n",
    "df.insert(5,'PPT3', df['3P'] * 3 /  df['3PA'] )\n",
    "df.insert(6,'PPT2', df['2P'] * 2 /  df['2PA'] )\n",
    "df.insert(7,'PPT',(df['3P'] * 3 +df['2P'] * 2 )/ ( df['3PA']+ df['2PA'] ))\n",
    "df.insert(8,'PtsToMP',(df.PTS)/ df.MP)"
   ]
  },
  {
   "cell_type": "code",
   "execution_count": null,
   "metadata": {},
   "outputs": [],
   "source": [
    "df = df.drop(columns=['GS','ORB','DRB'])\n",
    "df['PTS'] = df['PTS'] / df['G'] \n",
    "df['PF']  = df['PF'] / df['G'] \n",
    "\n",
    "df['TOV'] = df['TOV'] / df['G']\n",
    "df['MP']  = df['MP'] /df['G']\n",
    "\n",
    "df['BLK'] = df['BLK'] / df['G']\n",
    "df['STL'] = df['STL'] / df['G'] \n",
    "df['AST'] = df['AST'] / df['G'] \n",
    "df['TRB'] = df['TRB'] / df['G']"
   ]
  },
  {
   "cell_type": "code",
   "execution_count": null,
   "metadata": {},
   "outputs": [],
   "source": [
    "df['3PA'] = df['3PA'] / df['G']\n",
    "df['2PA'] = df['2PA'] / df['G']\n",
    "df['FGA'] = df['FGA'] / df['G']    \n",
    "df['FTA'] = df['FTA'] / df['G'] \n",
    "\n",
    "df['FT'] = df['FT'] / df['G']    \n",
    "df['3P'] = df['3P'] / df['G']    \n",
    "df['2P'] = df['2P'] / df['G']    \n",
    "df['FG'] = df['FG'] / df['G'] "
   ]
  },
  {
   "cell_type": "code",
   "execution_count": null,
   "metadata": {},
   "outputs": [],
   "source": [
    "df['ThrowFavorite'] = np.where(df['PPT3'] > df['PPT2'],3 , 2)"
   ]
  },
  {
   "cell_type": "code",
   "execution_count": null,
   "metadata": {},
   "outputs": [],
   "source": [
    "df['Salary'] = df['Salary'] / 1000000"
   ]
  },
  {
   "cell_type": "code",
   "execution_count": null,
   "metadata": {},
   "outputs": [],
   "source": [
    "df = df.fillna(0)"
   ]
  },
  {
   "cell_type": "code",
   "execution_count": null,
   "metadata": {},
   "outputs": [],
   "source": [
    "df[(df['Pos'] == 'C-PF') |(df['Pos'] == 'PF-SF') |(df['Pos'] == 'SF-SG') |(df['Pos'] == 'SG-PF')|(df['Pos'] == 'SG-SF')]\n",
    "df['Pos'] = df['Pos'].replace('SG-PF', 'SF')\n",
    "df['Pos'] = df['Pos'].replace('SG-SF', 'SG')\n",
    "df['Pos'] = df['Pos'].replace('SF-SG', 'SG')\n",
    "df['Pos'] = df['Pos'].replace('PF-SF', 'SF')\n",
    "df['Pos'] = df['Pos'].replace('C-PF', 'PF')"
   ]
  },
  {
   "cell_type": "code",
   "execution_count": 31,
   "metadata": {
    "collapsed": true
   },
   "outputs": [
    {
     "name": "stdout",
     "output_type": "stream",
     "text": [
      "<class 'pandas.core.frame.DataFrame'>\n",
      "Int64Index: 365 entries, 3 to 576\n",
      "Data columns (total 31 columns):\n",
      "Player        365 non-null object\n",
      "Pos           365 non-null object\n",
      "Age           365 non-null int64\n",
      "Tm            365 non-null object\n",
      "G             365 non-null int64\n",
      "GS            365 non-null int64\n",
      "MP            365 non-null int64\n",
      "FG            365 non-null int64\n",
      "FGA           365 non-null int64\n",
      "FG%           365 non-null float64\n",
      "3P            365 non-null int64\n",
      "3PA           365 non-null int64\n",
      "3P%           351 non-null float64\n",
      "2P            365 non-null int64\n",
      "2PA           365 non-null int64\n",
      "2P%           365 non-null float64\n",
      "eFG%          365 non-null float64\n",
      "FT            365 non-null int64\n",
      "FTA           365 non-null int64\n",
      "FT%           365 non-null float64\n",
      "ORB           365 non-null int64\n",
      "DRB           365 non-null int64\n",
      "TRB           365 non-null int64\n",
      "AST           365 non-null int64\n",
      "STL           365 non-null int64\n",
      "BLK           365 non-null int64\n",
      "TOV           365 non-null int64\n",
      "PF            365 non-null int64\n",
      "PTS           365 non-null int64\n",
      "Salary        365 non-null float64\n",
      "Guaranteed    365 non-null float64\n",
      "dtypes: float64(7), int64(21), object(3)\n",
      "memory usage: 91.2+ KB\n"
     ]
    }
   ],
   "source": [
    "df.info()"
   ]
  },
  {
   "cell_type": "code",
   "execution_count": 32,
   "metadata": {
    "scrolled": true
   },
   "outputs": [
    {
     "data": {
      "text/plain": [
       "14"
      ]
     },
     "execution_count": 32,
     "metadata": {},
     "output_type": "execute_result"
    }
   ],
   "source": [
    "df.isnull().sum().sum()"
   ]
  },
  {
   "cell_type": "markdown",
   "metadata": {},
   "source": [
    "# 1.1   הצגת נתונים"
   ]
  },
  {
   "cell_type": "code",
   "execution_count": null,
   "metadata": {},
   "outputs": [],
   "source": [
    "df.describe()"
   ]
  },
  {
   "cell_type": "code",
   "execution_count": null,
   "metadata": {},
   "outputs": [],
   "source": [
    "f,ax= plt.subplots(figsize=(8,5))\n",
    "plt.hist(df['Age'],np.arange(19,40))\n",
    "plt.grid(True)\n",
    "plt.title(\"Histogram\")\n",
    "plt.xlabel(\"Age\")\n",
    "\n",
    "f,ax= plt.subplots(figsize=(8,5))\n",
    "df['Pos'].value_counts().plot.pie(subplots=True, figsize=(12, 6))\n",
    "plt.grid(True)\n",
    "\n",
    "f,ax= plt.subplots(figsize=(8,5))\n",
    "plt.hist(df['PTS'],np.arange(0,40))\n",
    "plt.grid(True)\n",
    "plt.title(\"Histogram\")\n",
    "plt.xlabel(\"PTS\")\n",
    "\n",
    "f,ax= plt.subplots(figsize=(8,5))\n",
    "plt.hist(df['MDD'],np.arange(0,40))\n",
    "plt.grid(True)\n",
    "plt.title(\"Histogram\")\n",
    "plt.xlabel(\"MDD\")\n",
    "plt.ylabel(\"\")\n",
    "\n",
    "f,ax= plt.subplots(figsize=(8,5))\n",
    "plt.hist(df['Salary'],np.arange(0,40))\n",
    "plt.grid(True)\n",
    "plt.title(\"Histogram\")\n",
    "plt.xlabel(\"Salary\")"
   ]
  },
  {
   "cell_type": "code",
   "execution_count": null,
   "metadata": {},
   "outputs": [],
   "source": [
    "Q1 = df[['Player','PPT3','PPT2','3P%','3P','3PA','2P%','2P','2PA','G']]\n",
    "Q1 = Q1[ (Q1['3PA'] >= 2) & (Q1['3P'] >= 0.9)]\n",
    "Q1 = Q1[ (Q1['2PA'] >= 4) & (Q1['2P'] >= 2)]"
   ]
  },
  {
   "cell_type": "code",
   "execution_count": null,
   "metadata": {},
   "outputs": [],
   "source": [
    "Q1.describe()"
   ]
  },
  {
   "cell_type": "code",
   "execution_count": null,
   "metadata": {},
   "outputs": [],
   "source": [
    "Q1['ThrowFavorite'] = np.where(Q1['PPT3'] > Q1['PPT2'],3 , 2)\n",
    "Q1['PercentFromFavorite'] = np.where(Q1['PPT3'] > Q1['PPT2'],Q1['PPT3'] , Q1['PPT2'])\n",
    "Q1.sort_values('PercentFromFavorite', ascending=False).head()"
   ]
  },
  {
   "cell_type": "code",
   "execution_count": null,
   "metadata": {},
   "outputs": [],
   "source": [
    "Q1['ThrowFavorite'].value_counts().plot(kind='bar')"
   ]
  },
  {
   "cell_type": "code",
   "execution_count": null,
   "metadata": {},
   "outputs": [],
   "source": [
    "Q1 = Q1.merge(df[['Pos','Player','Tm']] , how='left', on='Player')"
   ]
  },
  {
   "cell_type": "code",
   "execution_count": null,
   "metadata": {},
   "outputs": [],
   "source": [
    "Q1['Pos'].value_counts().plot.bar()"
   ]
  },
  {
   "cell_type": "code",
   "execution_count": null,
   "metadata": {},
   "outputs": [],
   "source": [
    "f,ax= plt.subplots(figsize=(8,5))\n",
    "Q1[Q1.ThrowFavorite==2]['Pos'].value_counts().plot.bar(color='brown')\n",
    "plt.grid(True)\n",
    "\n",
    "f,ax= plt.subplots(figsize=(8,5))\n",
    "Q1[Q1.ThrowFavorite==3]['Pos'].value_counts().plot.bar(color='red')\n",
    "plt.grid(True)"
   ]
  },
  {
   "cell_type": "code",
   "execution_count": null,
   "metadata": {},
   "outputs": [],
   "source": [
    "df['POSֹ'] = df['Pos']\n",
    "df['POSֹ'] = df['POSֹ'].replace('PG', 1)\n",
    "df['POSֹ'] = df['POSֹ'].replace('SG' ,2)\n",
    "df['POSֹ'] = df['POSֹ'].replace('SF', 3)\n",
    "df['POSֹ'] = df['POSֹ'].replace('PF', 4)\n",
    "df['POSֹ'] = df['POSֹ'].replace('C',  5)"
   ]
  },
  {
   "cell_type": "markdown",
   "metadata": {},
   "source": [
    "# 1.2"
   ]
  },
  {
   "cell_type": "code",
   "execution_count": null,
   "metadata": {},
   "outputs": [],
   "source": [
    "df.corr()\n",
    "sns.set()\n",
    "df_corr = df._get_numeric_data()  #אתה יכול להשתמש בפונקציה הלא מתועד _get_numeric_data()לסינון עמודות מספריות בלבד:\n",
    "\n",
    "mask = np.zeros_like(df_corr.corr(),dtype=np.bool)\n",
    "mask[np.triu_indices_from(mask)] = True\n",
    "cmap =  sns.palplot(sns.diverging_palette(150, 275, s=80, l=55, n=9))\n",
    "\n",
    "plt.figure(figsize=(50,20))\n",
    "sns.heatmap(df_corr.corr(),cmap=cmap,annot=True,mask = mask,square = True)\n",
    "#plt.show()"
   ]
  },
  {
   "cell_type": "code",
   "execution_count": null,
   "metadata": {},
   "outputs": [],
   "source": [
    "#ax = sns.clustermap(df.corr() , standard_scale = 1  )"
   ]
  },
  {
   "cell_type": "code",
   "execution_count": null,
   "metadata": {},
   "outputs": [],
   "source": [
    "TEAM_corr = TEAM._get_numeric_data()  #אתה יכול להשתמש בפונקציה הלא מתועד _get_numeric_data()לסינון עמודות מספריות בלבד:\n",
    "TEAM_corr = TEAM_corr.drop(['GP','W','L','MIN'],axis=1)\n",
    "\n",
    "mask = np.zeros_like(TEAM_corr.corr(),dtype=np.bool)\n",
    "mask[np.triu_indices_from(mask)] = True\n",
    "cmap =  sns.palplot(sns.diverging_palette(150, 275, s=80, l=55, n=9))\n",
    "\n",
    "plt.figure(figsize=(50,20))\n",
    "sns.heatmap(TEAM_corr.corr(),cmap=cmap,annot=True,mask = mask,square = True)\n",
    "#plt.show()"
   ]
  },
  {
   "cell_type": "code",
   "execution_count": null,
   "metadata": {},
   "outputs": [],
   "source": [
    "#ax = sns.clustermap(TEAM_corr.corr() , standard_scale = 1  )"
   ]
  },
  {
   "cell_type": "markdown",
   "metadata": {},
   "source": [
    "# 2.1\n",
    "# Player Ratio Group  רגרסיה לינארית"
   ]
  },
  {
   "cell_type": "code",
   "execution_count": null,
   "metadata": {},
   "outputs": [],
   "source": [
    "PlayerRatioGroup = df[['Player','Tm','G','Age','Salary','MP','PTS','AST','TRB']].merge(TEAM[['Tm','PTS','MIN','AST','REB']]\n",
    "                                                                              ,   how='left', on='Tm')"
   ]
  },
  {
   "cell_type": "code",
   "execution_count": null,
   "metadata": {},
   "outputs": [],
   "source": [
    "PlayerRatioGroup.isnull().sum()"
   ]
  },
  {
   "cell_type": "code",
   "execution_count": null,
   "metadata": {},
   "outputs": [],
   "source": [
    "PlayerRatioGroup= PlayerRatioGroup.dropna()"
   ]
  },
  {
   "cell_type": "code",
   "execution_count": null,
   "metadata": {},
   "outputs": [],
   "source": [
    "PlayerRatioGroup['PTS'] = PlayerRatioGroup['PTS_x'] / PlayerRatioGroup['PTS_y'] *100   \n",
    "PlayerRatioGroup['AST'] = PlayerRatioGroup['AST_x'] / PlayerRatioGroup['AST_y']  *100  \n",
    "PlayerRatioGroup['RB'] = PlayerRatioGroup['TRB'] / PlayerRatioGroup['REB']    *100"
   ]
  },
  {
   "cell_type": "code",
   "execution_count": null,
   "metadata": {},
   "outputs": [],
   "source": [
    "PlayerRatioGroup = PlayerRatioGroup[ PlayerRatioGroup.Salary > .5]\n",
    "PlayerRatioGroup.sample(1)"
   ]
  },
  {
   "cell_type": "code",
   "execution_count": null,
   "metadata": {},
   "outputs": [],
   "source": [
    "PlayerRatioGroup.describe()"
   ]
  },
  {
   "cell_type": "code",
   "execution_count": null,
   "metadata": {},
   "outputs": [],
   "source": [
    "bins = [0, 23 ,26, 30, 43]\n",
    "category = [ 1 ,2 ,3 ,4 ]\n",
    "PlayerRatioGroup['AgeCategory'] = pd.cut(PlayerRatioGroup['Age'], bins, labels = category)"
   ]
  },
  {
   "cell_type": "code",
   "execution_count": null,
   "metadata": {},
   "outputs": [],
   "source": [
    "PlayerRatioGroup['PTS_TOGAME'] = PlayerRatioGroup['PTS_x']"
   ]
  },
  {
   "cell_type": "code",
   "execution_count": null,
   "metadata": {},
   "outputs": [],
   "source": [
    "PlayerRatioGroup = PlayerRatioGroup[['Player','G',\"PTS\", \"AST\", 'RB',\"Salary\",'PTS_TOGAME','AgeCategory']]\n",
    "PlayerRatioGroup['SUM'] = PlayerRatioGroup.PTS + PlayerRatioGroup.AST + PlayerRatioGroup.RB\n",
    "\n",
    "PlayerRatioGroup.sort_values('PTS', ascending=False).head()"
   ]
  },
  {
   "cell_type": "code",
   "execution_count": null,
   "metadata": {},
   "outputs": [],
   "source": [
    "scatter_matrix(PlayerRatioGroup[[\"PTS\", \"AST\", 'RB',\"Salary\"]], alpha = 0.5, figsize=(10, 6))"
   ]
  },
  {
   "cell_type": "code",
   "execution_count": null,
   "metadata": {},
   "outputs": [],
   "source": [
    "PlayerRatioGroup[ PlayerRatioGroup.PTS_TOGAME >= 10].corr()[\"Salary\"].sort_values()"
   ]
  },
  {
   "cell_type": "code",
   "execution_count": null,
   "metadata": {
    "scrolled": false
   },
   "outputs": [],
   "source": [
    "R1 = PlayerRatioGroup.sort_values('SUM', ascending=False).head(70)\n",
    "R2 = PlayerRatioGroup.sort_values('Salary', ascending=False).head(70)\n",
    "R3 = R1.merge(R2, on='Player')\n",
    "R3[['Player']].head()\n",
    "R3.shape"
   ]
  },
  {
   "cell_type": "code",
   "execution_count": null,
   "metadata": {},
   "outputs": [],
   "source": [
    "PlayerRatioGroup[ PlayerRatioGroup.G >= 53].corr()[\"Salary\"].sort_values()"
   ]
  },
  {
   "cell_type": "code",
   "execution_count": null,
   "metadata": {},
   "outputs": [],
   "source": [
    "PlayerRatioGroup = PlayerRatioGroup[ PlayerRatioGroup.G >= 53]"
   ]
  },
  {
   "cell_type": "code",
   "execution_count": null,
   "metadata": {},
   "outputs": [],
   "source": [
    "PRG_corr = PlayerRatioGroup._get_numeric_data() \n",
    "\n",
    "mask = np.zeros_like(PRG_corr.corr(),dtype=np.bool)\n",
    "mask[np.triu_indices_from(mask)] = True\n",
    "cmap =  sns.palplot(sns.diverging_palette(150, 275, s=80, l=55, n=9))\n",
    "\n",
    "plt.figure(figsize=(20,10))\n",
    "sns.heatmap(PRG_corr.corr(),cmap=cmap,annot=True,mask = mask,square = True)\n",
    "plt.show()"
   ]
  },
  {
   "cell_type": "code",
   "execution_count": null,
   "metadata": {},
   "outputs": [],
   "source": [
    "plt.rcParams['figure.figsize'] = (10, 6)\n",
    "plt.scatter(x=PlayerRatioGroup['AST'],y=PlayerRatioGroup['Salary'],c='w',label='AST')\n",
    "#plt.scatter(x=PlayerRatioGroup['SUM'],y=PlayerRatioGroup['Salary'],c='k',label='SUM')\n",
    "plt.scatter(x=PlayerRatioGroup['PTS'],y=PlayerRatioGroup['Salary'],c='b',label='PTS')\n",
    "plt.scatter(x=PlayerRatioGroup['RB'],y=PlayerRatioGroup['Salary'],c='g',label='RB')\n",
    "\n",
    "plt.plot(PlayerRatioGroup['AST'], sm.ols(formula=\"Salary ~ AST\", data=PlayerRatioGroup).fit().predict(),c='w',linewidth=3)\n",
    "plt.plot(PlayerRatioGroup['PTS'], sm.ols(formula=\"Salary ~ PTS\", data=PlayerRatioGroup).fit().predict(),c='b',linewidth=3)\n",
    "plt.plot(PlayerRatioGroup['RB'],  sm.ols(formula=\"Salary ~ RB\", data=PlayerRatioGroup).fit().predict(),c='g',linewidth=3)\n",
    "\n",
    "plt.legend(numpoints=1,loc=4)\n",
    "plt.ylabel('Salary')\n",
    "plt.show()"
   ]
  },
  {
   "cell_type": "code",
   "execution_count": null,
   "metadata": {},
   "outputs": [],
   "source": [
    "sm.ols(formula=\"Salary ~ SUM\", data=PlayerRatioGroup).fit().summary()"
   ]
  },
  {
   "cell_type": "code",
   "execution_count": null,
   "metadata": {},
   "outputs": [],
   "source": [
    "PlayerRatioGroup[['SUM','Salary']].corr()[\"Salary\"].sort_values()"
   ]
  },
  {
   "cell_type": "code",
   "execution_count": null,
   "metadata": {},
   "outputs": [],
   "source": [
    "plt.scatter(x=PlayerRatioGroup['SUM'],y=PlayerRatioGroup['Salary'],c='r',label='SUM')\n",
    "plt.plot(PlayerRatioGroup['SUM'], sm.ols(formula=\"Salary ~ SUM\", data=PlayerRatioGroup).fit().predict(),c='b',linewidth=7)\n",
    "\n",
    "plt.legend(numpoints=1,loc=4)\n",
    "plt.ylabel('Salary')\n",
    "plt.show()"
   ]
  },
  {
   "cell_type": "markdown",
   "metadata": {},
   "source": [
    "# [0, 23 ,26, 30, 43]"
   ]
  },
  {
   "cell_type": "code",
   "execution_count": null,
   "metadata": {},
   "outputs": [],
   "source": [
    "PlayerRatioGroup['AgeCategory'].value_counts().plot.bar()"
   ]
  },
  {
   "cell_type": "code",
   "execution_count": null,
   "metadata": {},
   "outputs": [],
   "source": [
    "f,ax= plt.subplots(figsize=(10,5))# 3 כתום# 1 שחור\n",
    "\n",
    "plt.scatter(x=PlayerRatioGroup['SUM'],y=PlayerRatioGroup['Salary'], c=PlayerRatioGroup['AgeCategory']  ,label='SUM')\n",
    "plt.plot(PlayerRatioGroup['SUM'], sm.ols(formula=\"Salary ~ SUM\", data=PlayerRatioGroup).fit().predict(),linewidth=7)\n",
    "plt.grid(True)\n",
    "plt.legend(numpoints=1,loc=4)\n",
    "plt.title(\"TO AGE\")\n",
    "plt.ylabel('Salary')\n",
    "plt.xlabel('Dominant and significant to the group')\n",
    "plt.show()\n",
    "# bins = [0, 23 ,26, 30, 43]\n",
    "\n",
    "f,ax= plt.subplots(figsize=(10,5))\n",
    "plt.scatter(x=PlayerRatioGroup[PlayerRatioGroup.AgeCategory ==1]['SUM']\n",
    "        ,y=PlayerRatioGroup[PlayerRatioGroup.AgeCategory ==1]['Salary'] ,c='r'    ,label='SUM')\n",
    "plt.plot(PlayerRatioGroup['SUM'], sm.ols(formula=\"Salary ~ SUM\", data=PlayerRatioGroup).fit().predict(),linewidth=7)\n",
    "\n",
    "plt.title(\"TO AGE 19 - 23\")\n",
    "plt.ylabel('Salary')\n",
    "plt.xlabel('Dominant and significant to the group')\n",
    "plt.grid(True)\n",
    "plt.show()\n",
    "\n",
    "f,ax= plt.subplots(figsize=(10,5))\n",
    "\n",
    "plt.scatter(x=PlayerRatioGroup[PlayerRatioGroup.AgeCategory ==2]['SUM']\n",
    "        ,y=PlayerRatioGroup[PlayerRatioGroup.AgeCategory ==2]['Salary']  ,c='g'   ,label='SUM')\n",
    "plt.plot(PlayerRatioGroup['SUM'], sm.ols(formula=\"Salary ~ SUM\", data=PlayerRatioGroup).fit().predict(),linewidth=7)\n",
    "plt.title(\"TO AGE 23 - 26\")\n",
    "plt.ylabel('Salary')\n",
    "plt.xlabel('Dominant and significant to the group')\n",
    "plt.grid(True)\n",
    "plt.show()\n",
    "\n",
    "f,ax= plt.subplots(figsize=(10,5))\n",
    "\n",
    "plt.scatter(x=PlayerRatioGroup[PlayerRatioGroup.AgeCategory ==3]['SUM']\n",
    "        ,y=PlayerRatioGroup[PlayerRatioGroup.AgeCategory ==3]['Salary'] ,c='r'    ,label='SUM')\n",
    "plt.plot(PlayerRatioGroup['SUM'], sm.ols(formula=\"Salary ~ SUM\", data=PlayerRatioGroup).fit().predict(),linewidth=7)\n",
    "plt.title(\"TO AGE 26 - 30\")\n",
    "plt.ylabel('Salary')\n",
    "plt.xlabel('Dominant and significant to the group')\n",
    "plt.grid(True)\n",
    "plt.show()\n",
    "\n",
    "f,ax= plt.subplots(figsize=(10,5))\n",
    "\n",
    "plt.scatter(x=PlayerRatioGroup[PlayerRatioGroup.AgeCategory ==4]['SUM']\n",
    "        ,y=PlayerRatioGroup[PlayerRatioGroup.AgeCategory ==4]['Salary'] , c='g'     ,label='SUM')\n",
    "plt.plot(PlayerRatioGroup['SUM'], sm.ols(formula=\"Salary ~ SUM\", data=PlayerRatioGroup).fit().predict(),linewidth=7)\n",
    "plt.title(\"TO AGE 30 - 43\")\n",
    "plt.ylabel('Salary')\n",
    "plt.xlabel('Dominant and significant to the group')\n",
    "plt.grid(True)\n",
    "plt.show()"
   ]
  },
  {
   "cell_type": "markdown",
   "metadata": {},
   "source": [
    "#  2.2  מכונה \n",
    "#  SUM SALARY PlayerRatioGroup  "
   ]
  },
  {
   "cell_type": "code",
   "execution_count": null,
   "metadata": {},
   "outputs": [],
   "source": [
    "X = PlayerRatioGroup[['SUM']].values\n",
    "y = PlayerRatioGroup['Salary'].values"
   ]
  },
  {
   "cell_type": "code",
   "execution_count": null,
   "metadata": {},
   "outputs": [],
   "source": [
    "X_train, X_test, y_train, y_test = train_test_split(X, y, test_size=0.25)"
   ]
  },
  {
   "cell_type": "code",
   "execution_count": null,
   "metadata": {},
   "outputs": [],
   "source": [
    "model = Sequential()\n",
    "\n",
    "model.add(Dense(1, input_shape=(1,)))\n",
    "\n",
    "model.add(Activation('linear'))\n",
    "model.summary()"
   ]
  },
  {
   "cell_type": "code",
   "execution_count": null,
   "metadata": {},
   "outputs": [],
   "source": [
    "model.compile(Adam(lr = 50), loss='mean_squared_error')"
   ]
  },
  {
   "cell_type": "code",
   "execution_count": null,
   "metadata": {},
   "outputs": [],
   "source": [
    "es = EarlyStopping(monitor='val_loss',min_delta=0, patience=10,verbose=2, mode='auto')"
   ]
  },
  {
   "cell_type": "code",
   "execution_count": null,
   "metadata": {},
   "outputs": [],
   "source": [
    "model.fit(X_train,  y_train,  epochs= 900,\n",
    "          validation_data=(X_test,y_test), callbacks=[es])"
   ]
  },
  {
   "cell_type": "code",
   "execution_count": null,
   "metadata": {},
   "outputs": [],
   "source": [
    "W, B = model.get_weights()\n",
    "\n",
    "print('The slope of the regression line: %.2f' % (W))#שיפוע\n",
    "print('The intercept for the regression line: %.2f' % (B))"
   ]
  },
  {
   "cell_type": "code",
   "execution_count": null,
   "metadata": {},
   "outputs": [],
   "source": [
    "y_pred = model.predict(X_test)"
   ]
  },
  {
   "cell_type": "code",
   "execution_count": null,
   "metadata": {},
   "outputs": [],
   "source": [
    "plt.plot(PlayerRatioGroup['SUM'], PlayerRatioGroup['Salary'], 'o')\n",
    "plt.ylabel('Salary')\n",
    "plt.xlabel('Ratio Group SUM')\n",
    "plt.title('Player Ratio Group SUM vs Salary')\n",
    "\n",
    "plt.plot(X_test , y_pred, linewidth=5)"
   ]
  },
  {
   "cell_type": "code",
   "execution_count": null,
   "metadata": {},
   "outputs": [],
   "source": [
    "test_score = r2_score(y_test, y_pred)\n",
    "print('R-squared for the test set: %.2f' % (test_score))"
   ]
  },
  {
   "cell_type": "code",
   "execution_count": null,
   "metadata": {},
   "outputs": [],
   "source": [
    "plt.plot(PlayerRatioGroup['SUM'] , PlayerRatioGroup['Salary'], 'o')\n",
    "plt.ylabel('Salary')\n",
    "plt.title('Player Ratio Group PTS vs Salary')\n",
    "plt.plot(X_test,y_pred,color='black',linewidth=3 )"
   ]
  },
  {
   "cell_type": "code",
   "execution_count": null,
   "metadata": {},
   "outputs": [],
   "source": [
    "#הערך בריבוע R נמוך יותר עבור ערכת הבדיקה מאשר עבור מערך הרכבות (0.39 <0.45) כך שנראה שהמודל מתאים לסט הרכבת\n",
    "y_pred_train = model.predict(X_train)\n",
    "\n",
    "train_score = r2_score(y_train, y_pred_train)\n",
    "print('R-squared for the train set: %.2f' % (train_score))"
   ]
  },
  {
   "cell_type": "code",
   "execution_count": null,
   "metadata": {},
   "outputs": [],
   "source": [
    "y_pred_all = model.predict(X)\n",
    "\n",
    "score = r2_score(y, y_pred_all)\n",
    "print('R-squared for all of the data: %.2f' % (score))"
   ]
  },
  {
   "cell_type": "code",
   "execution_count": null,
   "metadata": {},
   "outputs": [],
   "source": [
    "y_test_f32 = y_test.astype('float32').reshape(56)\n",
    "y_pred_f32 = y_pred.astype('float32').reshape(56)\n",
    "corr, p_value = pearsonr(y_pred_f32 , y_test_f32)\n",
    "print('P-value for the test set: ' + str(p_value))"
   ]
  },
  {
   "cell_type": "markdown",
   "metadata": {},
   "source": [
    "# 2.3\n",
    "# חיזוי שכר באמצעות למידת מכונה ומודל לינארי מרובה משתנים"
   ]
  },
  {
   "cell_type": "code",
   "execution_count": null,
   "metadata": {},
   "outputs": [],
   "source": [
    "PlayerRatioGroup.corr()['Salary'].sort_values()"
   ]
  },
  {
   "cell_type": "code",
   "execution_count": null,
   "metadata": {},
   "outputs": [],
   "source": [
    "PlayerRatioGroup[ PlayerRatioGroup.Salary > 5].corr()[\"Salary\"].sort_values()"
   ]
  },
  {
   "cell_type": "code",
   "execution_count": null,
   "metadata": {},
   "outputs": [],
   "source": [
    "plt.plot(PlayerRatioGroup['PTS_TOGAME'], PlayerRatioGroup['Salary'], 'o')\n",
    "plt.ylabel('Salary')"
   ]
  },
  {
   "cell_type": "code",
   "execution_count": null,
   "metadata": {},
   "outputs": [],
   "source": [
    "plt.plot(PlayerRatioGroup['PTS'], PlayerRatioGroup['Salary'], 'o')\n",
    "plt.ylabel('Salary')"
   ]
  },
  {
   "cell_type": "code",
   "execution_count": null,
   "metadata": {},
   "outputs": [],
   "source": [
    "plt.plot(PlayerRatioGroup['AST'], PlayerRatioGroup['Salary'], 'o')\n",
    "plt.ylabel('Salary')"
   ]
  },
  {
   "cell_type": "code",
   "execution_count": null,
   "metadata": {},
   "outputs": [],
   "source": [
    "X = PlayerRatioGroup[['PTS','SUM','PTS_TOGAME']]\n",
    "y = PlayerRatioGroup['Salary']"
   ]
  },
  {
   "cell_type": "code",
   "execution_count": null,
   "metadata": {},
   "outputs": [],
   "source": [
    "X_train, X_test, y_train, y_test = train_test_split(X, y, test_size=0.33)"
   ]
  },
  {
   "cell_type": "code",
   "execution_count": null,
   "metadata": {},
   "outputs": [],
   "source": [
    "model = Sequential()\n",
    "\n",
    "model.add(Dense(1, input_shape=(3,)))\n",
    "\n",
    "model.add(Activation('linear'))"
   ]
  },
  {
   "cell_type": "code",
   "execution_count": null,
   "metadata": {},
   "outputs": [],
   "source": [
    "model.summary()"
   ]
  },
  {
   "cell_type": "code",
   "execution_count": null,
   "metadata": {},
   "outputs": [],
   "source": [
    "model.compile(Adam(lr=20), 'mean_squared_error')"
   ]
  },
  {
   "cell_type": "code",
   "execution_count": null,
   "metadata": {},
   "outputs": [],
   "source": [
    "es = EarlyStopping(monitor='val_loss',\n",
    "                   min_delta=0, patience=10,\n",
    "                   verbose=2, mode='auto')"
   ]
  },
  {
   "cell_type": "code",
   "execution_count": null,
   "metadata": {},
   "outputs": [],
   "source": [
    "model.fit(X_train, y_train,\n",
    "          batch_size=32,  epochs=1500,\n",
    "          validation_data=(X_test,y_test), callbacks=[es])"
   ]
  },
  {
   "cell_type": "code",
   "execution_count": null,
   "metadata": {},
   "outputs": [],
   "source": [
    "(W1, W2, W3), B = model.get_weights()\n",
    "X_test.head(3)"
   ]
  },
  {
   "cell_type": "code",
   "execution_count": null,
   "metadata": {},
   "outputs": [],
   "source": [
    "X_test.loc[0]"
   ]
  },
  {
   "cell_type": "code",
   "execution_count": null,
   "metadata": {},
   "outputs": [],
   "source": [
    "y_test.loc[0]"
   ]
  },
  {
   "cell_type": "code",
   "execution_count": null,
   "metadata": {},
   "outputs": [],
   "source": [
    "y_pred7 = 12.096070 * W1 + 38.470521 * W2 + 15.689300 * W3 + 38.470521* W3 + B\n",
    "y_pred7[0]"
   ]
  },
  {
   "cell_type": "code",
   "execution_count": null,
   "metadata": {},
   "outputs": [],
   "source": []
  },
  {
   "cell_type": "code",
   "execution_count": null,
   "metadata": {},
   "outputs": [],
   "source": [
    "y_pred = model.predict(X_test)"
   ]
  },
  {
   "cell_type": "code",
   "execution_count": null,
   "metadata": {
    "scrolled": true
   },
   "outputs": [],
   "source": [
    "slope, intercept, r_value, p_value, std_err = stats.linregress(y_test.values.reshape(74), y_pred.reshape(74))\n",
    "\n",
    "idx = ['slope', 'intercept', 'r_value', 'p_value', 'std_err']\n",
    "data = np.array([slope, intercept, r_value, p_value, std_err])\n",
    "fd = pd.DataFrame(data = data, index = idx , columns = ['values'])\n",
    "fd\n",
    "#ערך r של  אומר לנו שהמודל מצליח להסביר 67% מהשונות בתוצאות.\n",
    "#ערך p שואף לאפס, מלמד שהקשר אותו מתאר המודל הוא מובהק ביותר, ואינו מקרי."
   ]
  },
  {
   "cell_type": "code",
   "execution_count": null,
   "metadata": {},
   "outputs": [],
   "source": [
    "# משוואת הישר \n",
    "predict_line = lambda S: 4.309718e-01 * y_test + 4.056186e+00"
   ]
  },
  {
   "cell_type": "code",
   "execution_count": null,
   "metadata": {},
   "outputs": [],
   "source": [
    "two_pts_for_the_line = np.array([y_test.min(), y_test.max()])\n",
    "\n",
    "predicted_line = predict_line(two_pts_for_the_line)"
   ]
  },
  {
   "cell_type": "code",
   "execution_count": null,
   "metadata": {},
   "outputs": [],
   "source": [
    "plt.plot(y_test, y_pred, 'bo')\n",
    "plt.plot(y_test, predicted_line, c='RED')\n",
    "plt.xlabel(\"\")\n",
    "\n",
    "plt.tight_layout()"
   ]
  },
  {
   "cell_type": "code",
   "execution_count": null,
   "metadata": {},
   "outputs": [],
   "source": [
    "#מידת הסטייה בין התחזית למחירים בפועל\n",
    "print('MAE: %.2f' % metrics.mean_absolute_error(y_test, y_pred))\n",
    "print('MSE: %.2f' % metrics.mean_squared_error(y_test, y_pred))\n",
    "print('RMSE: %.2f'% np.sqrt(metrics.mean_squared_error(y_test, y_pred)))\n",
    "#אומר שגיאה מוחלטת\n",
    "#משמעותם של מדדים היא שגיאה בריבוע"
   ]
  },
  {
   "cell_type": "code",
   "execution_count": null,
   "metadata": {},
   "outputs": [],
   "source": [
    "model1 = LinearRegression()\n",
    "\n",
    "model1.fit(X_train,y_train)"
   ]
  },
  {
   "cell_type": "code",
   "execution_count": null,
   "metadata": {},
   "outputs": [],
   "source": [
    "y_pred = model1.predict(X_test)"
   ]
  },
  {
   "cell_type": "code",
   "execution_count": null,
   "metadata": {},
   "outputs": [],
   "source": [
    "#חישוב רגרסיה לינארית פחות ריבועית לשתי קבוצות של מדידות.\n",
    "slope, intercept, r_value, p_value, std_err = stats.linregress(y_test, y_pred)\n",
    "\n",
    "idx = ['slope', 'intercept', 'r_value', 'p_value', 'std_err']\n",
    "data = np.array([slope, intercept, r_value, p_value, std_err])\n",
    "\n",
    "pd.DataFrame(data = data, index = idx , columns = ['values'])"
   ]
  },
  {
   "cell_type": "code",
   "execution_count": null,
   "metadata": {},
   "outputs": [],
   "source": [
    "predict_line = lambda S: 4.796025e-01 * y_test + 4.530588e+00\n",
    "\n",
    "two_pts_for_the_line = np.array([y_test.min(), y_test.max()])\n",
    "\n",
    "predicted_line = predict_line(two_pts_for_the_line)"
   ]
  },
  {
   "cell_type": "code",
   "execution_count": null,
   "metadata": {},
   "outputs": [],
   "source": [
    "plt.plot(y_test, y_pred, 'bo')\n",
    "plt.plot(y_test, predicted_line, c='RED')\n",
    "plt.xlabel(\"\")\n",
    "\n",
    "plt.tight_layout()"
   ]
  },
  {
   "cell_type": "markdown",
   "metadata": {},
   "source": [
    "# 3.1\n",
    "# Linear Regression"
   ]
  },
  {
   "cell_type": "markdown",
   "metadata": {},
   "source": [
    "# \"MDD\", \"PTS\", \"Salary\""
   ]
  },
  {
   "cell_type": "code",
   "execution_count": null,
   "metadata": {
    "scrolled": false
   },
   "outputs": [],
   "source": [
    "scatter_matrix(df[[\"MDD\", \"PTS\", \"Salary\"]], alpha = 1, figsize=(13, 6 ))"
   ]
  },
  {
   "cell_type": "code",
   "execution_count": null,
   "metadata": {},
   "outputs": [],
   "source": [
    "df.corr()[\"Salary\"].sort_values().tail(8)"
   ]
  },
  {
   "cell_type": "code",
   "execution_count": null,
   "metadata": {},
   "outputs": [],
   "source": [
    "df.corr()[\"MDD\"].sort_values().tail(15)"
   ]
  },
  {
   "cell_type": "code",
   "execution_count": null,
   "metadata": {
    "scrolled": false
   },
   "outputs": [],
   "source": [
    "plt.scatter(x=df['MDD'],y=df['Salary'],c='b',marker='o',label='MDD')\n",
    "plt.scatter(x=df['PTS'],y=df['Salary'],c='k',marker='*',label='PTS')\n",
    "\n",
    "plt.legend(numpoints=1,loc=4)\n",
    "plt.xlabel('MDD || PTS')\n",
    "plt.ylabel('Salary')\n",
    "plt.show()"
   ]
  },
  {
   "cell_type": "code",
   "execution_count": null,
   "metadata": {},
   "outputs": [],
   "source": [
    "ols1 = sm.ols(formula=\"Salary ~ MDD\", data=df).fit()\n",
    "ols1.summary()"
   ]
  },
  {
   "cell_type": "code",
   "execution_count": null,
   "metadata": {},
   "outputs": [],
   "source": [
    "ols2 = sm.ols(formula=\"Salary ~ PTS\", data=df).fit()\n",
    "ols2.summary()"
   ]
  },
  {
   "cell_type": "code",
   "execution_count": null,
   "metadata": {},
   "outputs": [],
   "source": [
    "plt.scatter(x=df['MDD'],y=df['Salary'],c='b',marker='o',label='MDD')\n",
    "plt.scatter(x=df['PTS'],y=df['Salary'],c='k',marker='*',label='PTS')\n",
    "plt.legend(numpoints=1,loc=4)\n",
    "\n",
    "\n",
    "plt.plot(df['MDD'],ols1.predict(),c='b',linewidth=3)\n",
    "plt.plot(df['PTS'],ols2.predict(),c='k',linewidth=3)\n",
    "\n",
    "plt.xlabel('MDD')\n",
    "plt.ylabel('Salary')\n",
    "plt.show()"
   ]
  },
  {
   "cell_type": "markdown",
   "metadata": {},
   "source": [
    "# 3.2\n",
    "# Multiple Linear Regression"
   ]
  },
  {
   "cell_type": "code",
   "execution_count": null,
   "metadata": {},
   "outputs": [],
   "source": [
    "ols3 = sm.ols(formula=\"Salary ~ MDD +  PTS\", data=df).fit()\n",
    "ols3.summary()"
   ]
  },
  {
   "cell_type": "code",
   "execution_count": null,
   "metadata": {},
   "outputs": [],
   "source": [
    "ols4 = sm.ols(formula=\"Salary ~ MDD +  PTS + MDD * PTS\", data=df).fit()\n",
    "ols4.summary()"
   ]
  },
  {
   "cell_type": "markdown",
   "metadata": {},
   "source": [
    "# 3.3  MDD"
   ]
  },
  {
   "cell_type": "code",
   "execution_count": null,
   "metadata": {},
   "outputs": [],
   "source": [
    "plt.scatter(x=df['AST'],y=df['MDD'],c='r',marker='s',label='AST')\n",
    "plt.scatter(x=df['TRB'],y=df['MDD'],c='b',marker='o',label='TRB')\n",
    "plt.scatter(x=df['PTS'],y=df['MDD'],c='k',marker='*',label='PTS')\n",
    "\n",
    "plt.legend(numpoints=1,loc=4)\n",
    "plt.xlabel('AST || TRB || PTS')\n",
    "plt.ylabel('MDD ')\n",
    "plt.show()"
   ]
  },
  {
   "cell_type": "code",
   "execution_count": null,
   "metadata": {},
   "outputs": [],
   "source": [
    "ols = sm.ols(formula=\"MDD ~ PTS\", data=df).fit()\n",
    "ols.summary()"
   ]
  },
  {
   "cell_type": "code",
   "execution_count": null,
   "metadata": {},
   "outputs": [],
   "source": [
    "plt.scatter(x=df['PTS'],y=df['MDD'],c='k',marker='*',label='PTS')\n",
    "plt.plot(df['PTS'], ols.predict(),'k',color='blue',linewidth=2)\n",
    "\n",
    "plt.xlabel('PTS')\n",
    "plt.ylabel('MDD')\n",
    "plt.show()"
   ]
  },
  {
   "cell_type": "code",
   "execution_count": null,
   "metadata": {},
   "outputs": [],
   "source": [
    "ols2 = sm.ols(formula=\"MDD ~ TRB\", data=df).fit()\n",
    "ols2.summary()"
   ]
  },
  {
   "cell_type": "code",
   "execution_count": null,
   "metadata": {},
   "outputs": [],
   "source": [
    "plt.scatter(x=df['TRB'],y=df['MDD'],c='k',marker='*',label='TRB')\n",
    "plt.plot(df['TRB'], ols2.predict(),'k',color='blue',linewidth=1.5)\n",
    "\n",
    "plt.xlabel('TRB')\n",
    "plt.ylabel('MDD')\n",
    "plt.show()"
   ]
  },
  {
   "cell_type": "code",
   "execution_count": null,
   "metadata": {},
   "outputs": [],
   "source": [
    "ols1 = sm.ols(formula=\"MDD ~ AST \", data=df).fit()\n",
    "ols2 = sm.ols(formula=\"MDD ~ TRB \", data=df).fit()\n",
    "ols3 = sm.ols(formula=\"MDD ~ PTS \", data=df).fit()\n",
    "\n",
    "plt.scatter(x=df['AST'],y=df['MDD'],c='r',marker='s',label='AST')\n",
    "plt.scatter(x=df['TRB'],y=df['MDD'],c='b',marker='o',label='TRB')\n",
    "plt.scatter(x=df['PTS'],y=df['MDD'],c='k',marker='*',label='PTS')\n",
    "plt.legend(numpoints=1,loc=4)\n",
    "\n",
    "plt.plot(df['AST'], ols1.predict(),c='r',linewidth=2)\n",
    "plt.plot(df['TRB'], ols2.predict(),c='b',linewidth=2)\n",
    "plt.plot(df['PTS'], ols3.predict(),c='k',linewidth=2)\n",
    "\n",
    "plt.xlabel('')\n",
    "plt.ylabel(' ')\n",
    "plt.show()\n"
   ]
  },
  {
   "cell_type": "code",
   "execution_count": null,
   "metadata": {},
   "outputs": [],
   "source": [
    "all_ols = sm.ols(formula=\"MDD ~ PTS + TRB \", data=df).fit()\n",
    "all_ols.summary()"
   ]
  },
  {
   "cell_type": "markdown",
   "metadata": {},
   "source": [
    "# 4.1\n",
    "# TEAM ~~~ playoffs"
   ]
  },
  {
   "cell_type": "code",
   "execution_count": null,
   "metadata": {},
   "outputs": [],
   "source": [
    "TEAM = TEAM.drop(columns=['Tm','W','L','MIN','GP'])"
   ]
  },
  {
   "cell_type": "code",
   "execution_count": null,
   "metadata": {},
   "outputs": [],
   "source": [
    "TEAM.describe()"
   ]
  },
  {
   "cell_type": "code",
   "execution_count": null,
   "metadata": {},
   "outputs": [],
   "source": [
    "TEAM['playoffs'] = np.where(TEAM['WIN%'] >= 0.5, 1 , 0)"
   ]
  },
  {
   "cell_type": "code",
   "execution_count": null,
   "metadata": {},
   "outputs": [],
   "source": [
    "TEAM.sample(2)"
   ]
  },
  {
   "cell_type": "code",
   "execution_count": null,
   "metadata": {
    "scrolled": false
   },
   "outputs": [],
   "source": [
    "TEAM.plot.scatter(x='P3P',y='playoffs',s=55)"
   ]
  },
  {
   "cell_type": "code",
   "execution_count": null,
   "metadata": {},
   "outputs": [],
   "source": [
    "model1 = sm.logit(formula=\" playoffs ~ P3P \", data=TEAM).fit()\n",
    "model1.summary()"
   ]
  },
  {
   "cell_type": "code",
   "execution_count": null,
   "metadata": {},
   "outputs": [],
   "source": [
    "x = sc.linspace(-10,10,1000)\n",
    "logistic = lambda x: 1/(1+sc.exp(-x))\n",
    "\n",
    "TEAM.plot.scatter(x='P3P',y='playoffs',s=30)\n",
    "x = sc.linspace(TEAM['P3P'].min(),TEAM['P3P'].max(),1000)\n",
    "par = dict( model1.params)\n",
    "plt.plot(x,logistic(par['Intercept'] + par['P3P']*x),color='Red')\n",
    "plt.show()"
   ]
  },
  {
   "cell_type": "code",
   "execution_count": null,
   "metadata": {},
   "outputs": [],
   "source": [
    "logistic(par['Intercept'] + par['P3P'] * .35)"
   ]
  },
  {
   "cell_type": "code",
   "execution_count": null,
   "metadata": {},
   "outputs": [],
   "source": [
    "model2 = sm.logit(formula=\" playoffs ~ FGF \", data=TEAM).fit()\n",
    "model2.summary()"
   ]
  },
  {
   "cell_type": "code",
   "execution_count": null,
   "metadata": {},
   "outputs": [],
   "source": [
    "#logistic(par['Intercept'] + par['FGF'] * 0.04)\n",
    "model2.predict(pd.DataFrame({\"FGF\": [0.004]}))"
   ]
  },
  {
   "cell_type": "code",
   "execution_count": null,
   "metadata": {},
   "outputs": [],
   "source": [
    "TEAM.plot.scatter(x='FGF',y='playoffs',s=30)\n",
    "x = sc.linspace(TEAM['FGF'].min(),TEAM['FGF'].max(),1000)\n",
    "par = dict( model2.params)\n",
    "plt.plot(x,logistic(par['Intercept'] + par['FGF']*x),color='Red')\n",
    "plt.show()"
   ]
  },
  {
   "cell_type": "code",
   "execution_count": null,
   "metadata": {},
   "outputs": [],
   "source": [
    "TEAM['T_F'] = model1.predict()> 0.55\n",
    "pd.crosstab(index=TEAM[\"playoffs\"], columns=TEAM[\"T_F\"])"
   ]
  },
  {
   "cell_type": "code",
   "execution_count": null,
   "metadata": {},
   "outputs": [],
   "source": [
    "print(23/30)\n",
    "\n",
    "print(19/30)"
   ]
  },
  {
   "cell_type": "code",
   "execution_count": null,
   "metadata": {},
   "outputs": [],
   "source": [
    "TEAM['T_F'] = model1.predict()> 0.7\n",
    "pd.crosstab(index=TEAM[\"playoffs\"], columns=TEAM[\"T_F\"])"
   ]
  },
  {
   "cell_type": "code",
   "execution_count": null,
   "metadata": {},
   "outputs": [],
   "source": [
    "TEAM.plot.scatter(x='PTS',y='playoffs',s=40)"
   ]
  },
  {
   "cell_type": "code",
   "execution_count": null,
   "metadata": {},
   "outputs": [],
   "source": [
    "sm.logit(formula=\" playoffs ~ PTS \", data=TEAM).fit().summary()"
   ]
  },
  {
   "cell_type": "markdown",
   "metadata": {},
   "source": [
    "# 5.1\n",
    "# POS הבחנה בין קבוצות עמדות"
   ]
  },
  {
   "cell_type": "code",
   "execution_count": null,
   "metadata": {},
   "outputs": [],
   "source": [
    "#1\n",
    "plt.figure(figsize=(7,7))\n",
    "sns.set(style='ticks')\n",
    "sns.pairplot(df[['Pos','FT%','2P%','3P%','eFG%']],hue = 'Pos' )"
   ]
  },
  {
   "cell_type": "code",
   "execution_count": null,
   "metadata": {},
   "outputs": [],
   "source": [
    "P1 = df[['Pos','FT%','2P%','3P%','eFG%']]\n",
    "x = P1[['FT%','2P%','3P%','eFG%']].values\n",
    "y = P1[['Pos']].values"
   ]
  },
  {
   "cell_type": "code",
   "execution_count": null,
   "metadata": {},
   "outputs": [],
   "source": [
    "POS_names = np.unique(np.array(y))\n",
    "POS_names"
   ]
  },
  {
   "cell_type": "code",
   "execution_count": null,
   "metadata": {},
   "outputs": [],
   "source": [
    "names_dict = {k: v for v, k in enumerate(POS_names)}\n",
    "names_dict"
   ]
  },
  {
   "cell_type": "code",
   "execution_count": null,
   "metadata": {},
   "outputs": [],
   "source": [
    "s = pd.DataFrame(y)\n",
    "y_cat = pd.get_dummies(s)\n",
    "y_cat.sample(2)"
   ]
  },
  {
   "cell_type": "code",
   "execution_count": null,
   "metadata": {},
   "outputs": [],
   "source": [
    "X = pd.DataFrame(x)\n",
    "X_train, X_test, y_train, y_test = train_test_split(X.values, y_cat, test_size=0.25,random_state=42)"
   ]
  },
  {
   "cell_type": "code",
   "execution_count": null,
   "metadata": {},
   "outputs": [],
   "source": [
    "model = Sequential()\n",
    "\n",
    "model.add(Dense(5,input_shape=(4,),activation='softmax'))\n",
    "model.compile(Adam(lr=0.1),loss='categorical_crossentropy',metrics=['accuracy'])"
   ]
  },
  {
   "cell_type": "code",
   "execution_count": null,
   "metadata": {},
   "outputs": [],
   "source": [
    "es = EarlyStopping(monitor='val_loss',min_delta=0.001,patience=5,verbose=2,mode='auto')"
   ]
  },
  {
   "cell_type": "code",
   "execution_count": null,
   "metadata": {
    "scrolled": true
   },
   "outputs": [],
   "source": [
    "model.fit(X_train, y_train, validation_data=(X_test,y_test),callbacks=[es],epochs=1200)"
   ]
  },
  {
   "cell_type": "code",
   "execution_count": null,
   "metadata": {},
   "outputs": [],
   "source": [
    "y_pred = model.predict(X_test)"
   ]
  },
  {
   "cell_type": "code",
   "execution_count": null,
   "metadata": {},
   "outputs": [],
   "source": [
    "y_pred = np.argmax(y_pred,axis=1)"
   ]
  },
  {
   "cell_type": "code",
   "execution_count": null,
   "metadata": {},
   "outputs": [],
   "source": [
    "y_actual = np.argmax(np.array(y_test),axis=1)\n",
    "y_actual"
   ]
  },
  {
   "cell_type": "code",
   "execution_count": null,
   "metadata": {},
   "outputs": [],
   "source": [
    "print(classification_report(y_actual, y_pred,target_names = POS_names))\n",
    "#דיויק\n",
    "# "
   ]
  },
  {
   "cell_type": "code",
   "execution_count": null,
   "metadata": {},
   "outputs": [],
   "source": [
    "cm = confusion_matrix(POS_names[y_actual], POS_names[y_pred],POS_names)"
   ]
  },
  {
   "cell_type": "code",
   "execution_count": null,
   "metadata": {},
   "outputs": [],
   "source": [
    "plt.figure(figsize=(10,9))\n",
    "print(names_dict)\n",
    "sns.heatmap(cm,annot=True,xticklabels=True,yticklabels=True)\n",
    "plt.xlabel('Actual_ לעופב')\n",
    "plt.ylabel('Predicted_ יוזח')\n"
   ]
  },
  {
   "cell_type": "code",
   "execution_count": null,
   "metadata": {},
   "outputs": [],
   "source": [
    "def cm_analysis(y_true, y_pred, filename, labels, ymap=None, figsize=(10,10)):\n",
    "      \n",
    "    if ymap is not None:\n",
    "        y_pred = [ymap[yi] for yi in y_pred]\n",
    "        y_true = [ymap[yi] for yi in y_true]\n",
    "        labels = [ymap[yi] for yi in labels]\n",
    "    cm = confusion_matrix(y_true, y_pred, labels=labels)\n",
    "    cm_sum = np.sum(cm, axis=1, keepdims=True)\n",
    "    cm_perc = cm / cm_sum.astype(float) * 100\n",
    "    annot = np.empty_like(cm).astype(str)\n",
    "    nrows, ncols = cm.shape\n",
    "    for i in range(nrows):\n",
    "        for j in range(ncols):\n",
    "            c = cm[i, j]\n",
    "            p = cm_perc[i, j]\n",
    "            if i == j:\n",
    "                s = cm_sum[i]\n",
    "                annot[i, j] = '%.1f%%\\n%d/%d' % (p, c, s)\n",
    "            elif c == 0:\n",
    "                annot[i, j] = ''\n",
    "            else:\n",
    "                annot[i, j] = '%.1f%%\\n%d' % (p, c)\n",
    "    cm = pd.DataFrame(cm, index=labels, columns=labels)\n",
    "    cm.index.name = 'Actual_ לעופב'\n",
    "    cm.columns.name = 'Predicted_ יוזח'\n",
    "    fig, ax = plt.subplots(figsize=figsize)\n",
    "    sns.heatmap(cm, annot=annot, fmt='', ax=ax)\n",
    "    plt.savefig(filename)"
   ]
  },
  {
   "cell_type": "code",
   "execution_count": null,
   "metadata": {},
   "outputs": [],
   "source": [
    "#{0:'C', 1:'PF',2:'PG' , 3: 'SF' , 4: 'SG' }\n",
    "cm_analysis(y_actual, y_pred, 'figur1',[2,4,3,1,0],  ymap={0:'C', 1:'PF',2:'PG' , 3: 'SF' , 4: 'SG' })\n",
    "POS_names"
   ]
  },
  {
   "cell_type": "markdown",
   "metadata": {},
   "source": [
    "# 5.2\n",
    "# פחות משתנים"
   ]
  },
  {
   "cell_type": "code",
   "execution_count": null,
   "metadata": {},
   "outputs": [],
   "source": [
    "#2\n",
    "P2 = df[['Pos','FT%','2P%','3P%','eFG%']]\n",
    "P2['Pos'] = P2['Pos'].replace('C', 'C-PF')\n",
    "P2['Pos'] = P2['Pos'].replace('PF', 'C-PF')\n",
    "\n",
    "P2['Pos'] = P2['Pos'].replace('SG', 'PG-SG')\n",
    "P2['Pos'] = P2['Pos'].replace('PG', 'PG-SG')\n",
    "\n",
    "sns.set(style='ticks')\n",
    "sns.pairplot( P2 , hue = 'Pos'  )"
   ]
  },
  {
   "cell_type": "code",
   "execution_count": null,
   "metadata": {},
   "outputs": [],
   "source": [
    "#3\n",
    "P2['Pos'] = P2['Pos'].replace('SF', 'PG-SG')\n",
    "sns.set(style='ticks')\n",
    "sns.pairplot( P2 , hue = 'Pos'  )"
   ]
  },
  {
   "cell_type": "code",
   "execution_count": null,
   "metadata": {},
   "outputs": [],
   "source": [
    "x = P2[['FT%','2P%','3P%','eFG%']].values\n",
    "y = P2[['Pos']].values"
   ]
  },
  {
   "cell_type": "code",
   "execution_count": null,
   "metadata": {},
   "outputs": [],
   "source": [
    "POS_names = np.unique(np.array(y))\n",
    "POS_names"
   ]
  },
  {
   "cell_type": "code",
   "execution_count": null,
   "metadata": {},
   "outputs": [],
   "source": [
    "names_dict = {k: v for v, k in enumerate(POS_names)}\n",
    "names_dict"
   ]
  },
  {
   "cell_type": "code",
   "execution_count": null,
   "metadata": {},
   "outputs": [],
   "source": [
    "s = pd.DataFrame(y)\n",
    "y_cat = pd.get_dummies(s)\n",
    "y_cat.sample(2)"
   ]
  },
  {
   "cell_type": "code",
   "execution_count": null,
   "metadata": {},
   "outputs": [],
   "source": [
    "X = pd.DataFrame(x)\n",
    "\n",
    "X_train, X_test, y_train, y_test = train_test_split(X.values, y_cat, test_size=0.25,random_state=42)"
   ]
  },
  {
   "cell_type": "code",
   "execution_count": null,
   "metadata": {},
   "outputs": [],
   "source": [
    "model = Sequential()\n",
    "\n",
    "model.add(Dense(2,input_shape=(4,),activation='softmax'))\n",
    "model.compile(Adam(lr=0.1),loss='categorical_crossentropy',metrics=['accuracy'])"
   ]
  },
  {
   "cell_type": "code",
   "execution_count": null,
   "metadata": {},
   "outputs": [],
   "source": [
    "es = EarlyStopping(monitor='val_loss',min_delta=0.001,patience=5,verbose=1,mode='auto')"
   ]
  },
  {
   "cell_type": "code",
   "execution_count": null,
   "metadata": {},
   "outputs": [],
   "source": [
    "model.fit(X_train, y_train, validation_data=(X_test,y_test),callbacks=[es],epochs=1200)"
   ]
  },
  {
   "cell_type": "code",
   "execution_count": null,
   "metadata": {},
   "outputs": [],
   "source": [
    "y_pred = model.predict(X_test)\n",
    "y_pred[:5]"
   ]
  },
  {
   "cell_type": "code",
   "execution_count": null,
   "metadata": {},
   "outputs": [],
   "source": [
    "# קבל מדדי המחלקה שקיבלו את ההסתברות הגבוהה ביותר עבור כל מדגם\n",
    "y_pred = np.argmax(y_pred,axis=1)\n",
    "y_pred"
   ]
  },
  {
   "cell_type": "code",
   "execution_count": null,
   "metadata": {},
   "outputs": [],
   "source": [
    "y_actual = np.argmax(np.array(y_test),axis=1)\n",
    "y_actual\n",
    "\n",
    "# נעשה רשימה של שמות  שקיבלנו"
   ]
  },
  {
   "cell_type": "code",
   "execution_count": null,
   "metadata": {},
   "outputs": [],
   "source": [
    "print(classification_report(y_actual, y_pred,target_names = POS_names))"
   ]
  },
  {
   "cell_type": "code",
   "execution_count": null,
   "metadata": {},
   "outputs": [],
   "source": [
    "# cm = confusion_matrix(y_actual,y_pred)\n",
    "cm = confusion_matrix(POS_names[y_actual], POS_names[y_pred],POS_names)\n",
    "cm"
   ]
  },
  {
   "cell_type": "code",
   "execution_count": null,
   "metadata": {},
   "outputs": [],
   "source": [
    "def cm_analysis(y_true, y_pred, filename, labels, ymap=None, figsize=(10,10)):\n",
    "      \n",
    "    if ymap is not None:\n",
    "        y_pred = [ymap[yi] for yi in y_pred]\n",
    "        y_true = [ymap[yi] for yi in y_true]\n",
    "        labels = [ymap[yi] for yi in labels]\n",
    "    cm = confusion_matrix(y_true, y_pred, labels=labels)\n",
    "    cm_sum = np.sum(cm, axis=1, keepdims=True)\n",
    "    cm_perc = cm / cm_sum.astype(float) * 100\n",
    "    annot = np.empty_like(cm).astype(str)\n",
    "    nrows, ncols = cm.shape\n",
    "    for i in range(nrows):\n",
    "        for j in range(ncols):\n",
    "            c = cm[i, j]\n",
    "            p = cm_perc[i, j]\n",
    "            if i == j:\n",
    "                s = cm_sum[i]\n",
    "                annot[i, j] = '%.1f%%\\n%d/%d' % (p, c, s)\n",
    "            elif c == 0:\n",
    "                annot[i, j] = ''\n",
    "            else:\n",
    "                annot[i, j] = '%.1f%%\\n%d' % (p, c)\n",
    "    cm = pd.DataFrame(cm, index=labels, columns=labels)\n",
    "    cm.index.name = 'Actual_ לעופב'\n",
    "    cm.columns.name = 'Predicted_ יוזח'\n",
    "    fig, ax = plt.subplots(figsize=figsize)\n",
    "    sns.heatmap(cm, annot=annot, fmt='', ax=ax)\n",
    "    plt.savefig(filename)"
   ]
  },
  {
   "cell_type": "code",
   "execution_count": null,
   "metadata": {},
   "outputs": [],
   "source": [
    "plt.figure(figsize=(10,9))\n",
    "sns.heatmap(cm,annot=True,xticklabels=True,yticklabels=True)\n",
    "plt.xlabel('Actual_ לעופב')\n",
    "plt.ylabel('Predicted_ יוזח')"
   ]
  },
  {
   "cell_type": "code",
   "execution_count": null,
   "metadata": {
    "scrolled": false
   },
   "outputs": [],
   "source": [
    "cm_analysis(y_actual, y_pred, 'figur1', [0,1], ymap={0:'C-PF' , 1: 'PG-SG' })\n",
    "POS_names"
   ]
  },
  {
   "cell_type": "markdown",
   "metadata": {},
   "source": [
    "# 6.1\n",
    "# עץ החלטה"
   ]
  },
  {
   "cell_type": "code",
   "execution_count": null,
   "metadata": {},
   "outputs": [],
   "source": [
    "TeamsLastYears = pd.read_excel('C:/TeamsLastYears.xlsx')\n",
    "TeamsLastYears.sample(2)"
   ]
  },
  {
   "cell_type": "code",
   "execution_count": null,
   "metadata": {},
   "outputs": [],
   "source": [
    "TeamsLastYears['WIN%'].describe()"
   ]
  },
  {
   "cell_type": "code",
   "execution_count": null,
   "metadata": {},
   "outputs": [],
   "source": [
    "TeamsLastYears['NOsuccess'] = np.where(TeamsLastYears['WIN%'] >  0.59, 0 , 1)\n",
    "TeamsLastYears['success'] = np.where(TeamsLastYears['WIN%'] >= 0.59, 1 , 0)"
   ]
  },
  {
   "cell_type": "code",
   "execution_count": null,
   "metadata": {},
   "outputs": [],
   "source": [
    "features = [\"PTS\", \"AST\",\"REB\", \"+/\", \"P3P\",  \"FGF\", \"TOV\"]\n",
    "classes = [\"success\",\"NOsuccess\" ]\n",
    "\n",
    "X = TeamsLastYears[features]\n",
    "y = TeamsLastYears[\"success\"]\n",
    "\n",
    "visualizer = ParallelCoordinates(classes=classes, features=features, sample=0.5, shuffle=True,  normalize='minmax')\n",
    "\n",
    "visualizer.fit_transform(X, y)\n",
    "\n",
    "visualizer.poof()"
   ]
  },
  {
   "cell_type": "code",
   "execution_count": null,
   "metadata": {},
   "outputs": [],
   "source": [
    "def splitData(features):\n",
    "    \"\"\"Split a subset of the titanic dataset, given by the features, into train and test sets.\"\"\"\n",
    "    predictors = TeamsLastYears[features].values\n",
    "    labels = TeamsLastYears[\"success\"].values\n",
    "\n",
    "    XTrain, XTest, yTrain, yTest = train_test_split( predictors, labels, random_state=1, test_size=0.5)\n",
    "    return XTrain, XTest, yTrain, yTest"
   ]
  },
  {
   "cell_type": "code",
   "execution_count": null,
   "metadata": {},
   "outputs": [],
   "source": [
    "from IPython.display import Image, display  \n",
    "import pydotplus \n",
    "from scipy import misc\n",
    "\n",
    "def renderTree(my_tree, features):\n",
    "    filename = \"temp.dot\"\n",
    "    with open(filename, 'w') as f:\n",
    "        f = tree.export_graphviz(my_tree, out_file=f, \n",
    " feature_names=features,  class_names=[\"success\",\"NOsuccess\" ],   filled=True, rounded=True,special_characters=True)\n",
    "    dot_data = \"\"\n",
    "    with open(filename, 'r') as f:\n",
    "        dot_data = f.read()\n",
    "\n",
    "    graph = pydotplus.graph_from_dot_data(dot_data)\n",
    "    image_name = \"temp.png\"\n",
    "    graph.write_png(image_name)  \n",
    "    display(Image(filename=image_name))"
   ]
  },
  {
   "cell_type": "code",
   "execution_count": null,
   "metadata": {
    "scrolled": false
   },
   "outputs": [],
   "source": [
    "decisionTree = tree.DecisionTreeClassifier()\n",
    "\n",
    "XTrain, XTest, yTrain, yTest = splitData([\"+/\"])\n",
    "decisionTree = decisionTree.fit(XTrain, yTrain)\n",
    "\n",
    "y_pred_train = decisionTree.predict(XTrain)\n",
    "print('Accuracy on training data = ', metrics.accuracy_score(y_true = yTrain, y_pred = y_pred_train))\n",
    "\n",
    "y_pred = decisionTree.predict(XTest)\n",
    "print('Accuracy on test data = ', metrics.accuracy_score(y_true = yTest, y_pred = y_pred))\n",
    "\n",
    "renderTree(decisionTree, [\"+/\"])"
   ]
  },
  {
   "cell_type": "code",
   "execution_count": null,
   "metadata": {},
   "outputs": [],
   "source": [
    "all_features = [\"PTS\", \"AST\",\"REB\", \"+/\", \"P3P\",  \"FGF\", \"TOV\"]\n",
    "\n",
    "XTrain, XTest, yTrain, yTest = splitData(all_features)\n",
    "decisionTree = tree.DecisionTreeClassifier()\n",
    "decisionTree = decisionTree.fit(XTrain, yTrain)\n",
    "\n",
    "y_pred_train = decisionTree.predict(XTrain)\n",
    "print('Accuracy on training data= ', metrics.accuracy_score(y_true = yTrain, y_pred = y_pred_train))\n",
    "\n",
    "y_pred = decisionTree.predict(XTest)\n",
    "print('Accuracy on test data= ', metrics.accuracy_score(y_true = yTest, y_pred = y_pred))\n",
    "renderTree(decisionTree, all_features)"
   ]
  },
  {
   "cell_type": "code",
   "execution_count": null,
   "metadata": {},
   "outputs": [],
   "source": [
    "features = [ \"AST\",\"REB\",  \"P3P\",  \"FGF\", \"TOV\"]\n",
    "classes = [\"success\",\"NOsuccess\" ]\n",
    "\n",
    "X = TeamsLastYears[features]\n",
    "y = TeamsLastYears[\"success\"]\n",
    "\n",
    "visualizer = ParallelCoordinates(classes=classes, features=features, sample=0.5, shuffle=True,  normalize='minmax')\n",
    "\n",
    "visualizer.fit_transform(X, y)\n",
    "\n",
    "visualizer.poof()"
   ]
  },
  {
   "cell_type": "code",
   "execution_count": null,
   "metadata": {},
   "outputs": [],
   "source": [
    "all_features = [ \"AST\",\"REB\",  \"P3P\",  \"FGF\", \"TOV\"]\n",
    "\n",
    "\n",
    "XTrain, XTest, yTrain, yTest = splitData(all_features)\n",
    "decisionTree = tree.DecisionTreeClassifier(max_depth=4)\n",
    "decisionTree = decisionTree.fit(XTrain, yTrain)\n",
    "\n",
    "y_pred_train = decisionTree.predict(XTrain)\n",
    "print('Accuracy on training data= ', metrics.accuracy_score(y_true = yTrain, y_pred = y_pred_train))\n",
    "\n",
    "y_pred = decisionTree.predict(XTest)\n",
    "print('Accuracy on test data= ', metrics.accuracy_score(y_true = yTest, y_pred = y_pred))\n",
    "renderTree(decisionTree, all_features)"
   ]
  },
  {
   "cell_type": "code",
   "execution_count": null,
   "metadata": {},
   "outputs": [],
   "source": [
    "features = [  \"P3P\",  \"FGF\", 'FT%']\n",
    "classes = [\"success\",\"NOsuccess\" ]\n",
    "\n",
    "X = TeamsLastYears[features]\n",
    "y = TeamsLastYears[\"success\"]\n",
    "\n",
    "visualizer = ParallelCoordinates(classes=classes, features=features, sample=0.5, shuffle=True,  normalize='minmax')\n",
    "\n",
    "visualizer.fit_transform(X, y)\n",
    "\n",
    "visualizer.poof()"
   ]
  },
  {
   "cell_type": "code",
   "execution_count": null,
   "metadata": {},
   "outputs": [],
   "source": [
    "all_features = [  \"P3P\",  \"FGF\", 'FT%']\n",
    "\n",
    "\n",
    "XTrain, XTest, yTrain, yTest = splitData(all_features)\n",
    "decisionTree = tree.DecisionTreeClassifier(max_depth=3)\n",
    "decisionTree = decisionTree.fit(XTrain, yTrain)\n",
    "\n",
    "y_pred_train = decisionTree.predict(XTrain)\n",
    "print('Accuracy on training data= ', metrics.accuracy_score(y_true = yTrain, y_pred = y_pred_train))\n",
    "\n",
    "y_pred = decisionTree.predict(XTest)\n",
    "print('Accuracy on test data= ', metrics.accuracy_score(y_true = yTest, y_pred = y_pred))\n",
    "renderTree(decisionTree, all_features)"
   ]
  },
  {
   "cell_type": "markdown",
   "metadata": {},
   "source": [
    "# 6.2\n",
    "# playoffs"
   ]
  },
  {
   "cell_type": "code",
   "execution_count": null,
   "metadata": {},
   "outputs": [],
   "source": [
    "features = [\"PTS\", \"+/\", \"P3P\", \"TOV\", \"FGF\", \"PF\", \"AST\"]\n",
    "classes = [\"playoffs\",\"NO\" ]\n",
    "\n",
    "X = TEAM[features]\n",
    "y = TEAM[\"playoffs\"]\n",
    "\n",
    "visualizer = ParallelCoordinates(classes=classes, features=features, sample=0.5, shuffle=True,  normalize='minmax')\n",
    "\n",
    "visualizer.fit_transform(X, y)\n",
    "\n",
    "visualizer.poof()"
   ]
  },
  {
   "cell_type": "code",
   "execution_count": null,
   "metadata": {},
   "outputs": [],
   "source": [
    "all_features =  [\"PTS\", \"+/\", \"P3P\", \"TOV\", \"FGF\", \"PF\", \"AST\"]\n",
    "\n",
    "XTrain, XTest, yTrain, yTest = splitData(all_features)\n",
    "decisionTree = tree.DecisionTreeClassifier()\n",
    "decisionTree = decisionTree.fit(XTrain, yTrain)\n",
    "\n",
    "y_pred_train = decisionTree.predict(XTrain)\n",
    "print('Accuracy on training data= ', metrics.accuracy_score(y_true = yTrain, y_pred = y_pred_train))\n",
    "\n",
    "y_pred = decisionTree.predict(XTest)\n",
    "print('Accuracy on test data= ', metrics.accuracy_score(y_true = yTest, y_pred = y_pred))\n",
    "renderTree(decisionTree, all_features)"
   ]
  },
  {
   "cell_type": "markdown",
   "metadata": {},
   "source": [
    "# 6.3"
   ]
  },
  {
   "cell_type": "code",
   "execution_count": null,
   "metadata": {},
   "outputs": [],
   "source": [
    "df['MDD'].describe()"
   ]
  },
  {
   "cell_type": "code",
   "execution_count": null,
   "metadata": {},
   "outputs": [],
   "source": [
    "df['Stars'] = np.where(  df['MDD'] > 18, 1 , 0)\n",
    "\n",
    "#df['NOStars'] = np.where(  df['MDD'] >  18, 0 , 1)"
   ]
  },
  {
   "cell_type": "code",
   "execution_count": null,
   "metadata": {},
   "outputs": [],
   "source": [
    "df['Stars'].value_counts().plot.bar()"
   ]
  },
  {
   "cell_type": "code",
   "execution_count": null,
   "metadata": {},
   "outputs": [],
   "source": [
    "features = ['3P%','2P%' ,'FT%' ,'eFG%' ]\n",
    "classes = [\"Stars\",\"NOStars\" ]\n",
    "\n",
    "X = df[features]\n",
    "y = df[\"Stars\"]\n",
    "\n",
    "visualizer = ParallelCoordinates(classes=classes, features=features, sample=0.5, shuffle=True,  normalize='minmax')\n",
    "\n",
    "visualizer.fit_transform(X, y)\n",
    "\n",
    "visualizer.poof()"
   ]
  },
  {
   "cell_type": "code",
   "execution_count": null,
   "metadata": {},
   "outputs": [],
   "source": [
    "def splitData2(features):\n",
    "    \"\"\"Split a subset of the titanic dataset, given by the features, into train and test sets.\"\"\"\n",
    "    predictors = df[features].values\n",
    "    labels = df[\"Stars\"].values\n",
    "\n",
    "    XTrain, XTest, yTrain, yTest = train_test_split( predictors, labels, random_state=1, test_size=0.5)\n",
    "    return XTrain, XTest, yTrain, yTest"
   ]
  },
  {
   "cell_type": "code",
   "execution_count": null,
   "metadata": {},
   "outputs": [],
   "source": [
    "def renderTree2(my_tree, features):\n",
    "    filename = \"temp.dot\"\n",
    "    with open(filename, 'w') as f:\n",
    "        f = tree.export_graphviz(my_tree, out_file=f, \n",
    " feature_names=features,  class_names=[\"Stars\",\"NOStars\" ],   filled=True, rounded=True,special_characters=True)\n",
    "    dot_data = \"\"\n",
    "    with open(filename, 'r') as f:\n",
    "        dot_data = f.read()\n",
    "\n",
    "    graph = pydotplus.graph_from_dot_data(dot_data)\n",
    "    image_name = \"temp.png\"\n",
    "    graph.write_png(image_name)  \n",
    "    display(Image(filename=image_name))"
   ]
  },
  {
   "cell_type": "code",
   "execution_count": null,
   "metadata": {},
   "outputs": [],
   "source": [
    "all_features = ['3P%','2P%' ,'FT%' ,'eFG%' ]\n",
    "\n",
    "XTrain, XTest, yTrain, yTest = splitData2(all_features)\n",
    "decisionTree = tree.DecisionTreeClassifier(max_depth=3)\n",
    "decisionTree = decisionTree.fit(XTrain, yTrain)\n",
    "\n",
    "y_pred_train = decisionTree.predict(XTrain)\n",
    "print('Accuracy on training data= ', metrics.accuracy_score(y_true = yTrain, y_pred = y_pred_train))\n",
    "\n",
    "y_pred = decisionTree.predict(XTest)\n",
    "print('Accuracy on test data= ', metrics.accuracy_score(y_true = yTest, y_pred = y_pred))\n",
    "renderTree2(decisionTree, all_features)"
   ]
  },
  {
   "cell_type": "code",
   "execution_count": null,
   "metadata": {},
   "outputs": [],
   "source": [
    "features = ['PF' ,'STL' ,'FTA' ]\n",
    "classes = [\"Stars\",\"NOStars\" ]\n",
    "\n",
    "X = df[features]\n",
    "y = df[\"Stars\"]\n",
    "\n",
    "visualizer = ParallelCoordinates(classes=classes, features=features, sample=0.5, shuffle=True,  normalize='minmax')\n",
    "\n",
    "visualizer.fit_transform(X, y)\n",
    "\n",
    "visualizer.poof()"
   ]
  },
  {
   "cell_type": "code",
   "execution_count": null,
   "metadata": {},
   "outputs": [],
   "source": [
    "XTrain, XTest, yTrain, yTest = splitData2(features)\n",
    "decisionTree = tree.DecisionTreeClassifier(max_depth=3)\n",
    "decisionTree = decisionTree.fit(XTrain, yTrain)\n",
    "\n",
    "y_pred_train = decisionTree.predict(XTrain)\n",
    "print('Accuracy on training data= ', metrics.accuracy_score(y_true = yTrain, y_pred = y_pred_train))\n",
    "\n",
    "y_pred = decisionTree.predict(XTest)\n",
    "print('Accuracy on test data= ', metrics.accuracy_score(y_true = yTest, y_pred = y_pred))\n",
    "renderTree2(decisionTree, features)"
   ]
  },
  {
   "cell_type": "code",
   "execution_count": null,
   "metadata": {},
   "outputs": [],
   "source": [
    "features = ['TOV','Age' ]\n",
    "classes = [\"Stars\",\"NOStars\" ]\n",
    "\n",
    "X = df[features]\n",
    "y = df[\"Stars\"]\n",
    "\n",
    "visualizer = ParallelCoordinates(classes=classes, features=features, sample=0.5, shuffle=True,  normalize='minmax')\n",
    "\n",
    "visualizer.fit_transform(X, y)\n",
    "\n",
    "visualizer.poof()\n",
    "XTrain, XTest, yTrain, yTest = splitData2(features)\n",
    "decisionTree = tree.DecisionTreeClassifier(max_depth=2)\n",
    "decisionTree = decisionTree.fit(XTrain, yTrain)\n",
    "\n",
    "y_pred_train = decisionTree.predict(XTrain)\n",
    "print('Accuracy on training data= ', metrics.accuracy_score(y_true = yTrain, y_pred = y_pred_train))\n",
    "\n",
    "y_pred = decisionTree.predict(XTest)\n",
    "print('Accuracy on test data= ', metrics.accuracy_score(y_true = yTest, y_pred = y_pred))\n",
    "renderTree2(decisionTree, features)"
   ]
  },
  {
   "cell_type": "markdown",
   "metadata": {},
   "source": [
    "# סיום"
   ]
  }
 ],
 "metadata": {
  "kernelspec": {
   "display_name": "Python 3",
   "language": "python",
   "name": "python3"
  },
  "language_info": {
   "codemirror_mode": {
    "name": "ipython",
    "version": 3
   },
   "file_extension": ".py",
   "mimetype": "text/x-python",
   "name": "python",
   "nbconvert_exporter": "python",
   "pygments_lexer": "ipython3",
   "version": "3.7.4"
  }
 },
 "nbformat": 4,
 "nbformat_minor": 2
}
